{
 "cells": [
  {
   "metadata": {},
   "cell_type": "markdown",
   "source": "# GNNs",
   "id": "1b2003274c1cd59b"
  },
  {
   "metadata": {},
   "cell_type": "markdown",
   "source": "## GNNs with StatQuest",
   "id": "df87b9ce9383f46"
  },
  {
   "metadata": {
    "ExecuteTime": {
     "end_time": "2025-03-18T19:50:41.634339Z",
     "start_time": "2025-03-18T19:50:41.629057Z"
    }
   },
   "cell_type": "code",
   "source": [
    "from typing import Any\n",
    "\n",
    "import torch\n",
    "import torch.nn as nn\n",
    "import torch.nn.functional as F\n",
    "from mpmath.identification import transforms\n",
    "from pytorch_lightning.utilities.types import OptimizerLRScheduler\n",
    "from torch.optim import SGD\n",
    "import matplotlib.pyplot as plt\n",
    "import seaborn as sns\n",
    "import pytorch_lightning as L\n",
    "from torch.utils.data import DataLoader\n"
   ],
   "id": "c0c1ee9389756fb0",
   "outputs": [],
   "execution_count": 14
  },
  {
   "metadata": {},
   "cell_type": "code",
   "outputs": [],
   "execution_count": null,
   "source": [
    "class BasicNN(nn.Module):\n",
    "    def __init__(self):\n",
    "        super().__init__()\n",
    "        self.w00 = nn.Parameter(torch.tensor(1.7), requires_grad=False)\n",
    "        self.b00 = nn.Parameter(torch.tensor(1.7), requires_grad=False)\n",
    "        self.w11 = nn.Parameter(torch.tensor(1.7), requires_grad=False)\n",
    "\n",
    "    def forward(self, x):\n"
   ],
   "id": "af292ac09ef93b1c"
  },
  {
   "metadata": {},
   "cell_type": "code",
   "outputs": [],
   "execution_count": null,
   "source": [
    "# create optimiizer\n",
    "optimizer = SGD(model.parameters(), lr=0.01)\n",
    "\n",
    "# for loop for gradient descent\n",
    "for epoch in range(100):\n",
    "    total_loss = 0\n",
    "    for iteration in range(len(inputs)):\n",
    "        input_i = inputs[iteration]\n",
    "        label_i = labels[iteration]\n",
    "\n",
    "        output_i = model(input_i)\n",
    "        loss = (output_i - labels_i)**2\n",
    "        loss.backward()\n",
    "        total_loss += float(loss)\n",
    "\n",
    "    if total_loss < 0.0001:\n",
    "        print(\"num steps: \", epoch)\n",
    "        break\n",
    "    optimizer.step()\n",
    "    optimizer.zero_grad() # without this, would add new derivative to the derivatives of the previous loop\n",
    "print(f\"total loss: {total_loss}, final bias: \")"
   ],
   "id": "1a2e7078160deb23"
  },
  {
   "metadata": {},
   "cell_type": "code",
   "outputs": [],
   "execution_count": null,
   "source": [
    "class BasicLight(L.LightningModule):\n",
    "    def __init__(self):\n",
    "        super.__init__()\n",
    "        self.w00 = nn.Parameter(torch.tensor(1.7), requires_grad=False)\n",
    "        self.b00 = nn.Parameter(torch.tensor(1.7), requires_grad=False)\n",
    "        self.w11 = nn.Parameter(torch.tensor(1.7), requires_grad=False)\n",
    "\n",
    "        #new!\n",
    "        self.learning_rate = 0.01\n",
    "    def forward(self, input)\n",
    "        input_to_top_relu = input * self.w00 + self.b00\n",
    "        #...\n",
    "    def configure_optimizers(self) -> OptimizerLRScheduler:\n",
    "        return SGD(self.parameters(), lr=self.learning_rate)\n",
    "\n",
    "    def training_step(self, batch, batch_idx):\n",
    "        input_i, label_i = batch\n",
    "        output_i = self.forward(input_i)\n",
    "        loss = (output_i - label_i)**2\n",
    "        return loss\n"
   ],
   "id": "efbf13b16d68439e"
  },
  {
   "metadata": {},
   "cell_type": "code",
   "outputs": [],
   "execution_count": null,
   "source": [
    "# wrap training data in dataloader!\n",
    "dataset = TensorDataset(inputs, labels)\n",
    "dataloader = DataLoader(dataset)\n",
    "#easier access for batches, possibility to shuffle data each epoch, easy for small fraction of data for debugging"
   ],
   "id": "b809f22332eef4d7"
  },
  {
   "metadata": {},
   "cell_type": "code",
   "outputs": [],
   "execution_count": null,
   "source": [
    "model = BasicLight()\n",
    "trainer = L.Trainer(max_epochs=34)\n",
    "trainer.fit(model, dataloader) # automatically calls zero_grad, backward, optimizer.step; then calls training_step again!"
   ],
   "id": "70403575fec7f5f5"
  },
  {
   "metadata": {},
   "cell_type": "code",
   "outputs": [],
   "execution_count": null,
   "source": "# gpu accelerator",
   "id": "1e7f7e3d28bce3d9"
  },
  {
   "metadata": {},
   "cell_type": "markdown",
   "source": "## GNN with Planetoid - translate into Lightning",
   "id": "66e49e70a1515c85"
  },
  {
   "metadata": {
    "ExecuteTime": {
     "end_time": "2025-03-26T01:30:53.094025Z",
     "start_time": "2025-03-26T01:30:53.087219Z"
    }
   },
   "cell_type": "code",
   "source": [
    "from torch_geometric.datasets import Planetoid\n",
    "from torch_geometric.loader import DataLoader\n",
    "import torch\n",
    "import torch.nn.functional as F\n",
    "from torch_geometric.nn import GCNConv\n",
    "import pytorch_lightning as L"
   ],
   "id": "3bc5ff97b3f7a9e8",
   "outputs": [],
   "execution_count": 45
  },
  {
   "metadata": {
    "ExecuteTime": {
     "end_time": "2025-03-26T01:30:54.517157Z",
     "start_time": "2025-03-26T01:30:54.482879Z"
    }
   },
   "cell_type": "code",
   "source": [
    "dataset = Planetoid(root=\"tutorial1\", name=\"Cora\")\n",
    "train_loader = DataLoader(dataset, batch_size=15, shuffle=True)\n",
    "print(len(dataset))\n",
    "print(dataset.data.num_nodes)\n",
    "print(dataset.num_node_features)\n",
    "print(dataset.data)\n",
    "print(dataset.data.y)\n",
    "data = dataset[0]\n",
    "print(next(iter(train_loader)))"
   ],
   "id": "8697d72261a8853a",
   "outputs": [
    {
     "name": "stdout",
     "output_type": "stream",
     "text": [
      "1\n",
      "2708\n",
      "1433\n",
      "Data(x=[2708, 1433], edge_index=[2, 10556], y=[2708], train_mask=[2708], val_mask=[2708], test_mask=[2708])\n",
      "tensor([3, 4, 4,  ..., 3, 3, 3])\n",
      "DataBatch(x=[2708, 1433], edge_index=[2, 10556], y=[2708], train_mask=[2708], val_mask=[2708], test_mask=[2708], batch=[2708], ptr=[2])\n"
     ]
    }
   ],
   "execution_count": 46
  },
  {
   "metadata": {
    "ExecuteTime": {
     "end_time": "2025-03-26T01:30:56.414798Z",
     "start_time": "2025-03-26T01:30:56.405337Z"
    }
   },
   "cell_type": "code",
   "source": [
    "print(train_loader.dataset)\n",
    "dataset.num_node_features"
   ],
   "id": "bd750043c3d0ef2e",
   "outputs": [
    {
     "name": "stdout",
     "output_type": "stream",
     "text": [
      "Cora()\n"
     ]
    },
    {
     "data": {
      "text/plain": [
       "1433"
      ]
     },
     "execution_count": 47,
     "metadata": {},
     "output_type": "execute_result"
    }
   ],
   "execution_count": 47
  },
  {
   "cell_type": "code",
   "id": "initial_id",
   "metadata": {
    "collapsed": true,
    "ExecuteTime": {
     "end_time": "2025-03-26T01:30:58.860922Z",
     "start_time": "2025-03-26T01:30:58.815435Z"
    }
   },
   "source": [
    "class GCN(nn.Module):\n",
    "    def __init__(self):\n",
    "        super().__init__()\n",
    "        self.conv1 = GCNConv(dataset.num_node_features, 16)\n",
    "        self.conv2 = GCNConv(16, dataset.num_classes)\n",
    "\n",
    "    def forward(self, data):\n",
    "        x, edge_index, y, train_mask, val_mask, test_mask = data.x, data.edge_index, data.y, data.train_mask, data.val_mask, data.test_mask\n",
    "\n",
    "        x = self.conv1(x, edge_index)\n",
    "        x = F.relu(x)\n",
    "        x = F.dropout(x, training=self.training)\n",
    "        x = self.conv2(x, edge_index)\n",
    "\n",
    "        return F.log_softmax(x, dim=1)\n",
    "\n",
    "device = torch.device('cuda' if torch.cuda.is_available() else 'cpu')\n",
    "model = GCN().to(device)\n",
    "data = dataset[0].to(device)\n",
    "optimizer = torch.optim.Adam(model.parameters(), lr=0.01, weight_decay=5e-4)"
   ],
   "outputs": [
    {
     "ename": "NameError",
     "evalue": "name 'nn' is not defined",
     "output_type": "error",
     "traceback": [
      "\u001B[0;31m---------------------------------------------------------------------------\u001B[0m",
      "\u001B[0;31mNameError\u001B[0m                                 Traceback (most recent call last)",
      "Cell \u001B[0;32mIn[48], line 1\u001B[0m\n\u001B[0;32m----> 1\u001B[0m \u001B[38;5;28;01mclass\u001B[39;00m\u001B[38;5;250m \u001B[39m\u001B[38;5;21;01mGCN\u001B[39;00m(\u001B[43mnn\u001B[49m\u001B[38;5;241m.\u001B[39mModule):\n\u001B[1;32m      2\u001B[0m     \u001B[38;5;28;01mdef\u001B[39;00m\u001B[38;5;250m \u001B[39m\u001B[38;5;21m__init__\u001B[39m(\u001B[38;5;28mself\u001B[39m):\n\u001B[1;32m      3\u001B[0m         \u001B[38;5;28msuper\u001B[39m()\u001B[38;5;241m.\u001B[39m\u001B[38;5;21m__init__\u001B[39m()\n",
      "\u001B[0;31mNameError\u001B[0m: name 'nn' is not defined"
     ]
    }
   ],
   "execution_count": 48
  },
  {
   "metadata": {
    "ExecuteTime": {
     "end_time": "2025-03-25T23:20:06.582135Z",
     "start_time": "2025-03-25T23:20:04.897315Z"
    }
   },
   "cell_type": "code",
   "source": [
    "model.train()\n",
    "for epoch in range(200):\n",
    "    optimizer.zero_grad()\n",
    "    out = model(data)\n",
    "    loss = F.nll_loss(out[data.train_mask], data.y[data.train_mask])\n",
    "    loss.backward()\n",
    "    optimizer.step()"
   ],
   "id": "e4942301cbfdbbd0",
   "outputs": [],
   "execution_count": 113
  },
  {
   "metadata": {
    "ExecuteTime": {
     "end_time": "2025-03-25T23:36:30.412997Z",
     "start_time": "2025-03-25T23:36:30.374480Z"
    }
   },
   "cell_type": "code",
   "source": [
    "model.eval()\n",
    "pred = model(data).argmax(dim=1)\n",
    "correct = (pred[data.test_mask] == data.y[data.test_mask]).sum()\n",
    "acc = int(correct) / int(data.test_mask.sum())\n",
    "print(f'Accuracy: {acc:.4f}')\n",
    "pred"
   ],
   "id": "5d86a05fd51c103b",
   "outputs": [
    {
     "ename": "AttributeError",
     "evalue": "'tuple' object has no attribute 'argmax'",
     "output_type": "error",
     "traceback": [
      "\u001B[0;31m---------------------------------------------------------------------------\u001B[0m",
      "\u001B[0;31mAttributeError\u001B[0m                            Traceback (most recent call last)",
      "Cell \u001B[0;32mIn[138], line 2\u001B[0m\n\u001B[1;32m      1\u001B[0m model\u001B[38;5;241m.\u001B[39meval()\n\u001B[0;32m----> 2\u001B[0m pred \u001B[38;5;241m=\u001B[39m \u001B[43mmodel\u001B[49m\u001B[43m(\u001B[49m\u001B[43mdata\u001B[49m\u001B[43m)\u001B[49m\u001B[38;5;241;43m.\u001B[39;49m\u001B[43margmax\u001B[49m(dim\u001B[38;5;241m=\u001B[39m\u001B[38;5;241m1\u001B[39m)\n\u001B[1;32m      3\u001B[0m correct \u001B[38;5;241m=\u001B[39m (pred[data\u001B[38;5;241m.\u001B[39mtest_mask] \u001B[38;5;241m==\u001B[39m data\u001B[38;5;241m.\u001B[39my[data\u001B[38;5;241m.\u001B[39mtest_mask])\u001B[38;5;241m.\u001B[39msum()\n\u001B[1;32m      4\u001B[0m acc \u001B[38;5;241m=\u001B[39m \u001B[38;5;28mint\u001B[39m(correct) \u001B[38;5;241m/\u001B[39m \u001B[38;5;28mint\u001B[39m(data\u001B[38;5;241m.\u001B[39mtest_mask\u001B[38;5;241m.\u001B[39msum())\n",
      "\u001B[0;31mAttributeError\u001B[0m: 'tuple' object has no attribute 'argmax'"
     ]
    }
   ],
   "execution_count": 138
  },
  {
   "metadata": {},
   "cell_type": "markdown",
   "source": [
    "### Lightning approach\n",
    "- optimizes learning rate\n",
    "- simplifies the training loops\n",
    "- TPU and GPU approach\n",
    "\n",
    "Possibilities to change: DataModule (instead of lists use Datasets?)"
   ],
   "id": "abd863dd02f4a683"
  },
  {
   "metadata": {
    "ExecuteTime": {
     "end_time": "2025-03-26T01:31:05.744504Z",
     "start_time": "2025-03-26T01:31:05.729489Z"
    }
   },
   "cell_type": "code",
   "source": [
    "class LightNN(L.LightningModule):\n",
    "    def __init__(self):\n",
    "        super().__init__()\n",
    "        self.conv1 = GCNConv(dataset.num_node_features, 16)\n",
    "        self.conv2 = GCNConv(16, dataset.num_classes)\n",
    "\n",
    "    def forward(self, data):\n",
    "        x, edge_index, edge_attr, batch_id = data.x, data.edge_index, data.edge_attr, data.batch\n",
    "\n",
    "        x = self.conv1(x, edge_index)\n",
    "        x = F.relu(x)\n",
    "        x = F.dropout(x, training=self.training)\n",
    "        x = self.conv2(x, edge_index)\n",
    "\n",
    "        return F.log_softmax(x, dim=1)\n",
    "\n",
    "    def training_step(self, batch, batch_idx):\n",
    "        loss, output, y = self._common_step(batch, batch_idx)\n",
    "        return loss\n",
    "\n",
    "    def validation_step(self, batch, batch_idx):\n",
    "        loss, output, y = self._common_step(batch, batch_idx)\n",
    "        return loss\n",
    "\n",
    "    def test_step(self, batch, batch_idx):\n",
    "        loss, output, y = self._common_step(batch, batch_idx)\n",
    "        return loss\n",
    "\n",
    "    def _common_step(self, batch, batch_idx):\n",
    "        output = self.forward(batch)\n",
    "        loss = F.nll_loss(output, batch.y)\n",
    "        return loss, output, batch.y\n",
    "\n",
    "    def configure_optimizers(self):\n",
    "        return torch.optim.Adam(model.parameters(), lr=0.01)\n",
    "\n",
    "\n",
    "\n"
   ],
   "id": "4a8ed2ddae3b1ac6",
   "outputs": [],
   "execution_count": 49
  },
  {
   "metadata": {
    "ExecuteTime": {
     "end_time": "2025-03-26T01:30:27.382311Z",
     "start_time": "2025-03-26T01:30:27.373766Z"
    }
   },
   "cell_type": "code",
   "source": "train_loader",
   "id": "9c237ae4393bfa68",
   "outputs": [
    {
     "data": {
      "text/plain": [
       "<torch_geometric.loader.dataloader.DataLoader at 0x7f04933091b0>"
      ]
     },
     "execution_count": 43,
     "metadata": {},
     "output_type": "execute_result"
    }
   ],
   "execution_count": 43
  },
  {
   "metadata": {
    "ExecuteTime": {
     "end_time": "2025-03-26T01:31:08.745202Z",
     "start_time": "2025-03-26T01:31:07.972173Z"
    }
   },
   "cell_type": "code",
   "source": [
    "model = LightNN()\n",
    "trainer = L.Trainer(max_epochs=34)\n",
    "trainer.fit(model, train_loader)"
   ],
   "id": "4da6c94d1f456c5a",
   "outputs": [
    {
     "name": "stderr",
     "output_type": "stream",
     "text": [
      "Trainer will use only 1 of 2 GPUs because it is running inside an interactive / notebook environment. You may try to set `Trainer(devices=2)` but please note that multi-GPU inside interactive / notebook environments is considered experimental and unstable. Your mileage may vary.\n",
      "GPU available: True (cuda), used: True\n",
      "TPU available: False, using: 0 TPU cores\n",
      "HPU available: False, using: 0 HPUs\n",
      "LOCAL_RANK: 0 - CUDA_VISIBLE_DEVICES: [0,1]\n",
      "\n",
      "  | Name  | Type    | Params | Mode \n",
      "------------------------------------------\n",
      "0 | conv1 | GCNConv | 22.9 K | train\n",
      "1 | conv2 | GCNConv | 119    | train\n",
      "------------------------------------------\n",
      "23.1 K    Trainable params\n",
      "0         Non-trainable params\n",
      "23.1 K    Total params\n",
      "0.092     Total estimated model params size (MB)\n",
      "6         Modules in train mode\n",
      "0         Modules in eval mode\n"
     ]
    },
    {
     "name": "stdout",
     "output_type": "stream",
     "text": [
      "Epoch 33: 100%|██████████| 1/1 [00:00<00:00, 81.08it/s, v_num=10] "
     ]
    },
    {
     "name": "stderr",
     "output_type": "stream",
     "text": [
      "`Trainer.fit` stopped: `max_epochs=34` reached.\n"
     ]
    },
    {
     "name": "stdout",
     "output_type": "stream",
     "text": [
      "Epoch 33: 100%|██████████| 1/1 [00:00<00:00, 50.76it/s, v_num=10]\n"
     ]
    }
   ],
   "execution_count": 50
  },
  {
   "metadata": {},
   "cell_type": "markdown",
   "source": [
    "## GNN simple example\n",
    "https://www.youtube.com/watch?v=sozkSRE8wyc"
   ],
   "id": "d2b1cae414146a4a"
  },
  {
   "metadata": {
    "ExecuteTime": {
     "end_time": "2025-03-26T00:27:20.804086Z",
     "start_time": "2025-03-26T00:27:20.796793Z"
    }
   },
   "cell_type": "code",
   "source": [
    "import torch\n",
    "from torch_geometric.datasets import KarateClub\n",
    "from torch_geometric.utils import to_networkx\n",
    "import networkx as nx\n",
    "import matplotlib.pyplot as plt\n",
    "import numpy as np\n",
    "from torch.nn import Linear\n",
    "from torch_geometric.nn import GCNConv\n",
    "import pandas as pd"
   ],
   "id": "8e38fc369c15f4f1",
   "outputs": [],
   "execution_count": 26
  },
  {
   "metadata": {
    "ExecuteTime": {
     "end_time": "2025-03-26T00:27:39.238512Z",
     "start_time": "2025-03-26T00:27:39.226684Z"
    }
   },
   "cell_type": "code",
   "source": [
    "dataset = KarateClub()\n",
    "data = dataset[0]\n",
    "loader = DataLoader(dataset, batch_size=10, shuffle=True)\n",
    "data\n",
    "print(next(iter(loader)))"
   ],
   "id": "7fb8433bc6fa8f6e",
   "outputs": [
    {
     "name": "stdout",
     "output_type": "stream",
     "text": [
      "DataBatch(x=[34, 34], edge_index=[2, 156], y=[34], train_mask=[34], batch=[34], ptr=[2])\n"
     ]
    }
   ],
   "execution_count": 28
  },
  {
   "metadata": {
    "ExecuteTime": {
     "end_time": "2025-03-25T23:09:22.454916Z",
     "start_time": "2025-03-25T23:09:22.439183Z"
    }
   },
   "cell_type": "code",
   "source": [
    "node_features_df = pd.DataFrame(data.x.numpy(), columns=[f'feature{i}' for i in range(data.x.shape[1])])\n",
    "node_features_df['node'] = node_features_df.index\n",
    "node_features_df.set_index('node', inplace=True)\n",
    "\n",
    "edge_index_df = pd.DataFrame(data.edge_index.numpy().T, columns=['source', 'target'])\n",
    "\n",
    "labels_df = pd.DataFrame(data.y.numpy(), columns=['label'])\n",
    "labels_df['node'] = labels_df.index\n",
    "labels_df.set_index('node', inplace=True)"
   ],
   "id": "7cd67b4f09d42002",
   "outputs": [],
   "execution_count": 99
  },
  {
   "metadata": {
    "ExecuteTime": {
     "end_time": "2025-03-24T22:01:29.546741Z",
     "start_time": "2025-03-24T22:01:29.543208Z"
    }
   },
   "cell_type": "code",
   "source": "print(node_features_df.shape)",
   "id": "d5e60194752ee3dc",
   "outputs": [
    {
     "name": "stdout",
     "output_type": "stream",
     "text": [
      "(34, 34)\n"
     ]
    }
   ],
   "execution_count": 14
  },
  {
   "metadata": {
    "ExecuteTime": {
     "end_time": "2025-03-24T22:05:24.924510Z",
     "start_time": "2025-03-24T22:05:24.920030Z"
    }
   },
   "cell_type": "code",
   "source": "print(labels_df)",
   "id": "d748b6da7148f693",
   "outputs": [
    {
     "name": "stdout",
     "output_type": "stream",
     "text": [
      "      label\n",
      "node       \n",
      "0         1\n",
      "1         1\n",
      "2         1\n",
      "3         1\n",
      "4         3\n",
      "5         3\n",
      "6         3\n",
      "7         1\n",
      "8         0\n",
      "9         1\n",
      "10        3\n",
      "11        1\n",
      "12        1\n",
      "13        1\n",
      "14        0\n",
      "15        0\n",
      "16        3\n",
      "17        1\n",
      "18        0\n",
      "19        1\n",
      "20        0\n",
      "21        1\n",
      "22        0\n",
      "23        0\n",
      "24        2\n",
      "25        2\n",
      "26        0\n",
      "27        0\n",
      "28        2\n",
      "29        0\n",
      "30        0\n",
      "31        2\n",
      "32        0\n",
      "33        0\n"
     ]
    }
   ],
   "execution_count": 23
  },
  {
   "metadata": {
    "ExecuteTime": {
     "end_time": "2025-03-26T00:19:15.743742Z",
     "start_time": "2025-03-26T00:19:15.736006Z"
    }
   },
   "cell_type": "code",
   "source": [
    "num_countries = 4\n",
    "np.random.seed(42)\n",
    "countries = torch.tensor(np.random.choice(num_countries, data.num_nodes))\n",
    "data.y = countries"
   ],
   "id": "7e38aa01abf7cb8",
   "outputs": [],
   "execution_count": 13
  },
  {
   "metadata": {
    "ExecuteTime": {
     "end_time": "2025-03-24T22:05:07.982925Z",
     "start_time": "2025-03-24T22:05:07.978933Z"
    }
   },
   "cell_type": "code",
   "source": "print(data.y)",
   "id": "4bcaec51d6ee92ee",
   "outputs": [
    {
     "name": "stdout",
     "output_type": "stream",
     "text": [
      "tensor([2, 3, 0, 2, 2, 3, 0, 0, 2, 1, 2, 2, 2, 2, 3, 0, 3, 3, 3, 2, 1, 0, 1, 3,\n",
      "        3, 1, 1, 1, 3, 3, 0, 0, 3, 1])\n"
     ]
    }
   ],
   "execution_count": 22
  },
  {
   "metadata": {
    "ExecuteTime": {
     "end_time": "2025-03-26T00:27:46.498714Z",
     "start_time": "2025-03-26T00:27:46.317566Z"
    }
   },
   "cell_type": "code",
   "source": [
    "G = to_networkx(data, to_undirected=True)\n",
    "plt.figure(figsize=(10, 10))\n",
    "plt.axis('off')\n",
    "nx.draw_networkx(G,\n",
    "                 pos = nx.spring_layout(G,seed=0),\n",
    "                 with_labels = True,\n",
    "                 node_size = 800,\n",
    "                 node_color = data.y,\n",
    "                 cmap=\"hsv\",\n",
    "                 vmin=-2,\n",
    "                 vmax=3,\n",
    "                 width=0.8,\n",
    "                 edge_color=\"grey\",\n",
    "                 font_size=14,\n",
    "                 )\n",
    "plt.show()"
   ],
   "id": "9367e3b0f9fdd76f",
   "outputs": [
    {
     "data": {
      "text/plain": [
       "<Figure size 1000x1000 with 1 Axes>"
      ],
      "image/png": "[encoded data removed]"
     },
     "metadata": {},
     "output_type": "display_data"
    }
   ],
   "execution_count": 29
  },
  {
   "metadata": {
    "ExecuteTime": {
     "end_time": "2025-03-26T00:27:51.924257Z",
     "start_time": "2025-03-26T00:27:51.910836Z"
    }
   },
   "cell_type": "code",
   "source": [
    "class GCN(torch.nn.Module):\n",
    "    def __init__(self):\n",
    "        super().__init__()\n",
    "        self.gcn = GCNConv(dataset.num_node_features, 3)\n",
    "        self.out = Linear(3, num_countries)\n",
    "\n",
    "    def forward(self, x, edge_index):\n",
    "\n",
    "        h = self.gcn(x, edge_index).relu()\n",
    "        z = self.out(h)\n",
    "        return h, z\n",
    "\n",
    "model = GCN()\n",
    "print(model)"
   ],
   "id": "77fb67a4568b9ea8",
   "outputs": [
    {
     "name": "stdout",
     "output_type": "stream",
     "text": [
      "GCN(\n",
      "  (gcn): GCNConv(34, 3)\n",
      "  (out): Linear(in_features=3, out_features=4, bias=True)\n",
      ")\n"
     ]
    }
   ],
   "execution_count": 30
  },
  {
   "metadata": {
    "ExecuteTime": {
     "end_time": "2025-03-26T00:27:55.619094Z",
     "start_time": "2025-03-26T00:27:55.611030Z"
    }
   },
   "cell_type": "code",
   "source": [
    "criterion = torch.nn.CrossEntropyLoss()\n",
    "optimizer = torch.optim.Adam(model.parameters(), lr=0.02)\n",
    "def accuracy(pred_y, y):\n",
    "    return (pred_y==y).sum()/len(y)\n"
   ],
   "id": "69fe2173dc50cb30",
   "outputs": [],
   "execution_count": 31
  },
  {
   "metadata": {
    "ExecuteTime": {
     "end_time": "2025-03-26T00:27:57.774343Z",
     "start_time": "2025-03-26T00:27:57.522505Z"
    }
   },
   "cell_type": "code",
   "source": [
    "embeddings = []\n",
    "losses = []\n",
    "accuracies = []\n",
    "outputs = []\n",
    "\n",
    "for epoch in range(200):\n",
    "    optimizer.zero_grad()\n",
    "    h, z = model(data.x, data.edge_index)\n",
    "    loss = criterion(z, data.y)\n",
    "    acc = accuracy(z.argmax(dim=1), data.y)\n",
    "    loss.backward()\n",
    "    optimizer.step()\n",
    "    embeddings.append(h)\n",
    "    losses.append(loss)\n",
    "    accuracies.append(acc)\n",
    "    outputs.append(z.argmax(dim=1))\n",
    "    if epoch % 10 == 0:\n",
    "        print(f'Epoch {epoch:>3} | Loss: {loss:.2f} | Accuracy: {acc*100:.2f}%')"
   ],
   "id": "2ebb05aa3f3de882",
   "outputs": [
    {
     "name": "stdout",
     "output_type": "stream",
     "text": [
      "Epoch   0 | Loss: 1.34 | Accuracy: 38.24%\n",
      "Epoch  10 | Loss: 1.15 | Accuracy: 52.94%\n",
      "Epoch  20 | Loss: 0.91 | Accuracy: 70.59%\n",
      "Epoch  30 | Loss: 0.66 | Accuracy: 94.12%\n",
      "Epoch  40 | Loss: 0.44 | Accuracy: 97.06%\n",
      "Epoch  50 | Loss: 0.30 | Accuracy: 100.00%\n",
      "Epoch  60 | Loss: 0.20 | Accuracy: 100.00%\n",
      "Epoch  70 | Loss: 0.14 | Accuracy: 100.00%\n",
      "Epoch  80 | Loss: 0.10 | Accuracy: 100.00%\n",
      "Epoch  90 | Loss: 0.08 | Accuracy: 100.00%\n",
      "Epoch 100 | Loss: 0.06 | Accuracy: 100.00%\n",
      "Epoch 110 | Loss: 0.05 | Accuracy: 100.00%\n",
      "Epoch 120 | Loss: 0.04 | Accuracy: 100.00%\n",
      "Epoch 130 | Loss: 0.03 | Accuracy: 100.00%\n",
      "Epoch 140 | Loss: 0.03 | Accuracy: 100.00%\n",
      "Epoch 150 | Loss: 0.03 | Accuracy: 100.00%\n",
      "Epoch 160 | Loss: 0.02 | Accuracy: 100.00%\n",
      "Epoch 170 | Loss: 0.02 | Accuracy: 100.00%\n",
      "Epoch 180 | Loss: 0.02 | Accuracy: 100.00%\n",
      "Epoch 190 | Loss: 0.02 | Accuracy: 100.00%\n"
     ]
    }
   ],
   "execution_count": 32
  },
  {
   "metadata": {},
   "cell_type": "markdown",
   "source": "### Lightning",
   "id": "34d2c93f81f0a05b"
  },
  {
   "metadata": {
    "ExecuteTime": {
     "end_time": "2025-03-26T00:35:19.855830Z",
     "start_time": "2025-03-26T00:35:19.836385Z"
    }
   },
   "cell_type": "code",
   "source": [
    "class GCNN(L.LightningModule):\n",
    "    def __init__(self):\n",
    "        super().__init__()\n",
    "        self.gcn = GCNConv(dataset.num_node_features, 3)\n",
    "        self.out = Linear(3, num_countries)\n",
    "\n",
    "    def forward(self, data):\n",
    "        x, edge_index, edge_attr, batch_id = data.x, data.edge_index, data.edge_attr, data.batch\n",
    "        h = self.gcn(x, edge_index).relu()\n",
    "        z = self.out(h)\n",
    "        return h, z\n",
    "\n",
    "    def training_step(self, batch, batch_idx):\n",
    "        #x, y = batch\n",
    "        h, z = self.forward(batch)\n",
    "        loss = criterion(z, batch.y)\n",
    "        return loss\n",
    "\n",
    "    def validation_step(self, batch, batch_idx):\n",
    "        #x, y = batch\n",
    "        h, z = self.forward(batch)\n",
    "        loss = criterion(z, batch.y)\n",
    "        return loss\n",
    "\n",
    "    def test_step(self, batch, batch_idx):\n",
    "        #x, y = batch\n",
    "        h, z = self.forward(batch)\n",
    "        loss = criterion(z, batch.y)\n",
    "        return loss\n",
    "\n",
    "    def configure_optimizers(self):\n",
    "        return torch.optim.Adam(model.parameters(), lr=0.01)\n",
    "\n",
    "\n",
    "model = GCNN()\n",
    "print(model)"
   ],
   "id": "f6dda06f9eec8063",
   "outputs": [
    {
     "name": "stdout",
     "output_type": "stream",
     "text": [
      "GCNN(\n",
      "  (gcn): GCNConv(34, 3)\n",
      "  (out): Linear(in_features=3, out_features=4, bias=True)\n",
      ")\n"
     ]
    }
   ],
   "execution_count": 39
  },
  {
   "metadata": {
    "ExecuteTime": {
     "end_time": "2025-03-26T00:35:27.514531Z",
     "start_time": "2025-03-26T00:35:22.921931Z"
    }
   },
   "cell_type": "code",
   "source": [
    "trainer = L.Trainer(max_epochs=200)\n",
    "trainer.fit(model, loader)"
   ],
   "id": "9169be86e867885e",
   "outputs": [
    {
     "name": "stderr",
     "output_type": "stream",
     "text": [
      "Trainer will use only 1 of 2 GPUs because it is running inside an interactive / notebook environment. You may try to set `Trainer(devices=2)` but please note that multi-GPU inside interactive / notebook environments is considered experimental and unstable. Your mileage may vary.\n",
      "GPU available: True (cuda), used: True\n",
      "TPU available: False, using: 0 TPU cores\n",
      "HPU available: False, using: 0 HPUs\n",
      "LOCAL_RANK: 0 - CUDA_VISIBLE_DEVICES: [0,1]\n",
      "\n",
      "  | Name | Type    | Params | Mode \n",
      "-----------------------------------------\n",
      "0 | gcn  | GCNConv | 105    | train\n",
      "1 | out  | Linear  | 16     | train\n",
      "-----------------------------------------\n",
      "121       Trainable params\n",
      "0         Non-trainable params\n",
      "121       Total params\n",
      "0.000     Total estimated model params size (MB)\n",
      "4         Modules in train mode\n",
      "0         Modules in eval mode\n"
     ]
    },
    {
     "name": "stdout",
     "output_type": "stream",
     "text": [
      "Epoch 199: 100%|██████████| 1/1 [00:00<00:00, 64.84it/s, v_num=8] "
     ]
    },
    {
     "name": "stderr",
     "output_type": "stream",
     "text": [
      "`Trainer.fit` stopped: `max_epochs=200` reached.\n"
     ]
    },
    {
     "name": "stdout",
     "output_type": "stream",
     "text": [
      "Epoch 199: 100%|██████████| 1/1 [00:00<00:00, 42.18it/s, v_num=8]\n"
     ]
    }
   ],
   "execution_count": 40
  },
  {
   "metadata": {},
   "cell_type": "code",
   "outputs": [],
   "execution_count": null,
   "source": "",
   "id": "66a94219ceaea2fe"
  },
  {
   "metadata": {},
   "cell_type": "markdown",
   "source": [
    "## GAT Layer - implementation example\n",
    "https://colab.research.google.com/github/AntonioLonga/PytorchGeometricTutorial/blob/main/Tutorial3/Tutorial3.ipynb#scrollTo=zpewr24l2aVp"
   ],
   "id": "6a1a1303ea80047b"
  },
  {
   "metadata": {
    "ExecuteTime": {
     "end_time": "2025-03-25T18:11:50.868684Z",
     "start_time": "2025-03-25T18:11:50.859510Z"
    }
   },
   "cell_type": "code",
   "source": [
    "import os\n",
    "\n",
    "# For downloading pre-trained models\n",
    "import urllib.request\n",
    "from urllib.error import HTTPError\n",
    "\n",
    "# PyTorch Lightning\n",
    "import pytorch_lightning as pl\n",
    "\n",
    "# PyTorch\n",
    "import torch\n",
    "import torch.nn as nn\n",
    "import torch.nn.functional as F\n",
    "import torch.optim as optim\n",
    "\n",
    "# PyTorch geometric\n",
    "import torch_geometric\n",
    "import torch_geometric.data as geom_data\n",
    "import torch_geometric.nn as geom_nn\n",
    "\n",
    "# PL callbacks\n",
    "from pytorch_lightning.callbacks import ModelCheckpoint\n",
    "from torch import Tensor"
   ],
   "id": "8efc07a83c340b5",
   "outputs": [],
   "execution_count": 42
  },
  {
   "metadata": {
    "ExecuteTime": {
     "end_time": "2025-03-25T20:46:35.047961Z",
     "start_time": "2025-03-25T20:46:35.031853Z"
    }
   },
   "cell_type": "code",
   "source": [
    "class GATLayer(nn.Module):\n",
    "    def __init__(self, in_features, out_features, dropout, alpha, concat=True):\n",
    "        super(GATLayer, self).__init__()\n",
    "        self.in_features = in_features\n",
    "        self.out_features = out_features\n",
    "        self.dropout = dropout\n",
    "        self.alpha = alpha\n",
    "        self.concat = concat\n",
    "\n",
    "        # xavier initialisation of weights\n",
    "        self.W = nn.Parameter(torch.zeros(size=(in_features, out_features)))\n",
    "        nn.init.xavier_uniform_(self.W.data, gain=1.414)\n",
    "\n",
    "        self.a = nn.Parameter(torch.zeros(size=(2*out_features, 1)))\n",
    "        nn.init.xavier_uniform_(self.a.data, gain=1.414)\n",
    "\n",
    "        self.leakyrelu = nn.LeakyReLU(self.alpha)\n",
    "\n",
    "    def forward(self, input, adj): # forward method takes input and adj\n",
    "        h = torch.mm(input, self.W)\n",
    "        N = h.size()[0]\n",
    "        print(N)\n",
    "\n",
    "        # Attention Mechanism\n",
    "        a_input = torch.cat([h.repeat(1, N).view(N * N, -1), h.repeat(N, 1)], dim=1).view(N, -1, 2 * self.out_features)\n",
    "        e = leakyrelu(torch.matmul(a_input, self.a).squeeze(2))\n",
    "\n",
    "        # Masked Attention\n",
    "        zero_vec  = -9e15*torch.ones_like(e)\n",
    "        attention = torch.where(adj > 0, e, zero_vec)\n",
    "        attention = F.softmax(attention, dim=1)\n",
    "        attention = F.dropout(attention, self.dropout, training=self.training)\n",
    "        h_prime   = torch.matmul(attention, h)\n",
    "\n",
    "        if self.concat:\n",
    "            return F.elu(h_prime)\n",
    "        else:\n",
    "            return h_prime\n"
   ],
   "id": "f75cf5a2b9c96578",
   "outputs": [],
   "execution_count": 69
  },
  {
   "metadata": {},
   "cell_type": "markdown",
   "source": "#### Basics",
   "id": "48ceee2cf030ebf3"
  },
  {
   "metadata": {
    "ExecuteTime": {
     "end_time": "2025-03-25T20:11:02.324685Z",
     "start_time": "2025-03-25T20:11:02.306866Z"
    }
   },
   "cell_type": "code",
   "source": [
    "in_features = 5\n",
    "out_features = 2\n",
    "nb_nodes = 3\n",
    "\n",
    "W = nn.Parameter(torch.zeros(size=(in_features, out_features))) #xavier paramiter inizializator => why do we need to initiliase using xavier?\n",
    "nn.init.xavier_uniform_(W.data, gain=1.414)\n",
    "\n",
    "input = torch.rand(nb_nodes,in_features)\n",
    "\n",
    "print(input)\n",
    "print(W)\n",
    "# linear transformation\n",
    "h = torch.mm(input, W)\n",
    "N = h.size()[0]\n",
    "\n",
    "print(h.shape)\n",
    "print(h)\n",
    "print(N)\n"
   ],
   "id": "fc7c63d931f2faf4",
   "outputs": [
    {
     "name": "stdout",
     "output_type": "stream",
     "text": [
      "tensor([[0.8659, 0.5889, 0.1710, 0.7384, 0.4178],\n",
      "        [0.8482, 0.4836, 0.2142, 0.4005, 0.6425],\n",
      "        [0.3311, 0.8723, 0.6998, 0.0364, 0.9427]])\n",
      "Parameter containing:\n",
      "tensor([[-0.1829, -0.8750],\n",
      "        [ 0.3144, -1.0069],\n",
      "        [-1.3085, -0.0132],\n",
      "        [-0.1048,  0.8033],\n",
      "        [ 0.0761, -1.1515]], requires_grad=True)\n",
      "torch.Size([3, 2])\n",
      "tensor([[-0.2426, -1.2409],\n",
      "        [-0.2765, -1.6501],\n",
      "        [-0.6341, -2.2335]], grad_fn=<MmBackward0>)\n",
      "3\n",
      "tensor([[-0.2426, -1.2409],\n",
      "        [-0.2426, -1.2409],\n",
      "        [-0.2426, -1.2409],\n",
      "        [-0.2765, -1.6501],\n",
      "        [-0.2765, -1.6501],\n",
      "        [-0.2765, -1.6501],\n",
      "        [-0.6341, -2.2335],\n",
      "        [-0.6341, -2.2335],\n",
      "        [-0.6341, -2.2335]], grad_fn=<ViewBackward0>)\n",
      "tensor([[-0.2426, -1.2409],\n",
      "        [-0.2765, -1.6501],\n",
      "        [-0.6341, -2.2335],\n",
      "        [-0.2426, -1.2409],\n",
      "        [-0.2765, -1.6501],\n",
      "        [-0.6341, -2.2335],\n",
      "        [-0.2426, -1.2409],\n",
      "        [-0.2765, -1.6501],\n",
      "        [-0.6341, -2.2335]], grad_fn=<RepeatBackward0>)\n"
     ]
    }
   ],
   "execution_count": 53
  },
  {
   "metadata": {
    "ExecuteTime": {
     "end_time": "2025-03-25T20:13:14.878871Z",
     "start_time": "2025-03-25T20:13:14.862479Z"
    }
   },
   "cell_type": "code",
   "source": [
    "print(h.repeat(1, N).view(N * N, -1))\n",
    "print(h.repeat(N, 1))\n",
    "print(torch.cat([h.repeat(1, N).view(N * N, -1), h.repeat(N, 1)], dim=1))\n",
    "print(torch.cat([h.repeat(1, N).view(N * N, -1), h.repeat(N, 1)], dim=1).view(N, -1, 2 * out_features))"
   ],
   "id": "eef81b81bdfe5cb1",
   "outputs": [
    {
     "name": "stdout",
     "output_type": "stream",
     "text": [
      "tensor([[-0.2426, -1.2409],\n",
      "        [-0.2426, -1.2409],\n",
      "        [-0.2426, -1.2409],\n",
      "        [-0.2765, -1.6501],\n",
      "        [-0.2765, -1.6501],\n",
      "        [-0.2765, -1.6501],\n",
      "        [-0.6341, -2.2335],\n",
      "        [-0.6341, -2.2335],\n",
      "        [-0.6341, -2.2335]], grad_fn=<ViewBackward0>)\n",
      "tensor([[-0.2426, -1.2409],\n",
      "        [-0.2765, -1.6501],\n",
      "        [-0.6341, -2.2335],\n",
      "        [-0.2426, -1.2409],\n",
      "        [-0.2765, -1.6501],\n",
      "        [-0.6341, -2.2335],\n",
      "        [-0.2426, -1.2409],\n",
      "        [-0.2765, -1.6501],\n",
      "        [-0.6341, -2.2335]], grad_fn=<RepeatBackward0>)\n",
      "tensor([[-0.2426, -1.2409, -0.2426, -1.2409],\n",
      "        [-0.2426, -1.2409, -0.2765, -1.6501],\n",
      "        [-0.2426, -1.2409, -0.6341, -2.2335],\n",
      "        [-0.2765, -1.6501, -0.2426, -1.2409],\n",
      "        [-0.2765, -1.6501, -0.2765, -1.6501],\n",
      "        [-0.2765, -1.6501, -0.6341, -2.2335],\n",
      "        [-0.6341, -2.2335, -0.2426, -1.2409],\n",
      "        [-0.6341, -2.2335, -0.2765, -1.6501],\n",
      "        [-0.6341, -2.2335, -0.6341, -2.2335]], grad_fn=<CatBackward0>)\n",
      "tensor([[[-0.2426, -1.2409, -0.2426, -1.2409],\n",
      "         [-0.2426, -1.2409, -0.2765, -1.6501],\n",
      "         [-0.2426, -1.2409, -0.6341, -2.2335]],\n",
      "\n",
      "        [[-0.2765, -1.6501, -0.2426, -1.2409],\n",
      "         [-0.2765, -1.6501, -0.2765, -1.6501],\n",
      "         [-0.2765, -1.6501, -0.6341, -2.2335]],\n",
      "\n",
      "        [[-0.6341, -2.2335, -0.2426, -1.2409],\n",
      "         [-0.6341, -2.2335, -0.2765, -1.6501],\n",
      "         [-0.6341, -2.2335, -0.6341, -2.2335]]], grad_fn=<ViewBackward0>)\n"
     ]
    }
   ],
   "execution_count": 54
  },
  {
   "metadata": {
    "ExecuteTime": {
     "end_time": "2025-03-25T20:16:32.389828Z",
     "start_time": "2025-03-25T20:16:32.378211Z"
    }
   },
   "cell_type": "code",
   "source": [
    "a = nn.Parameter(torch.zeros(size=(2*out_features, 1))) #xavier paramiter inizializator\n",
    "nn.init.xavier_uniform_(a.data, gain=1.414)\n",
    "print(a.shape)\n",
    "\n",
    "leakyrelu = nn.LeakyReLU(0.2)  # LeakyReLU\n",
    "a"
   ],
   "id": "edd6b4e0eca3b325",
   "outputs": [
    {
     "name": "stdout",
     "output_type": "stream",
     "text": [
      "torch.Size([4, 1])\n"
     ]
    },
    {
     "data": {
      "text/plain": [
       "Parameter containing:\n",
       "tensor([[ 1.5459],\n",
       "        [-1.2327],\n",
       "        [-0.2090],\n",
       "        [ 0.9252]], requires_grad=True)"
      ]
     },
     "execution_count": 58,
     "metadata": {},
     "output_type": "execute_result"
    }
   ],
   "execution_count": 58
  },
  {
   "metadata": {
    "ExecuteTime": {
     "end_time": "2025-03-25T20:02:42.476042Z",
     "start_time": "2025-03-25T20:02:42.469182Z"
    }
   },
   "cell_type": "code",
   "source": "a_input = torch.cat([h.repeat(1, N).view(N * N, -1), h.repeat(N, 1)], dim=1).view(N, -1, 2 * out_features) # all possible combinations",
   "id": "7ebbcbd51acd21e9",
   "outputs": [],
   "execution_count": 50
  },
  {
   "metadata": {
    "ExecuteTime": {
     "end_time": "2025-03-25T20:33:14.835014Z",
     "start_time": "2025-03-25T20:33:14.829119Z"
    }
   },
   "cell_type": "code",
   "source": [
    "e = leakyrelu(torch.matmul(a_input, a))\n",
    "print(e)\n",
    "print(e.shape)\n",
    "e = leakyrelu(torch.matmul(a_input, a).squeeze(2))\n",
    "print(e)\n",
    "print(e.shape)\n",
    "# a and e computed for entire graph => mask attention (only for neighboring)"
   ],
   "id": "f06e2892e1cd0ef0",
   "outputs": [
    {
     "name": "stdout",
     "output_type": "stream",
     "text": [
      "tensor([[[-0.1637],\n",
      "         [-0.2782],\n",
      "         [-0.0410]],\n",
      "\n",
      "        [[ 1.8765],\n",
      "         [ 1.3044],\n",
      "         [ 2.4900]],\n",
      "\n",
      "        [[-0.4299],\n",
      "         [-0.5443],\n",
      "         [-0.3072]]], grad_fn=<LeakyReluBackward0>)\n",
      "torch.Size([3, 3, 1])\n",
      "tensor([[-0.1637, -0.2782, -0.0410],\n",
      "        [ 1.8765,  1.3044,  2.4900],\n",
      "        [-0.4299, -0.5443, -0.3072]], grad_fn=<LeakyReluBackward0>)\n",
      "torch.Size([3, 3])\n"
     ]
    }
   ],
   "execution_count": 63
  },
  {
   "metadata": {
    "ExecuteTime": {
     "end_time": "2025-03-25T20:33:17.068545Z",
     "start_time": "2025-03-25T20:33:17.059354Z"
    }
   },
   "cell_type": "code",
   "source": [
    "print(a_input.shape,a.shape)\n",
    "print(\"\")\n",
    "print(torch.matmul(a_input,a).shape)\n",
    "print(\"\")\n",
    "print(torch.matmul(a_input,a).squeeze(2).shape)"
   ],
   "id": "75edb04dc4f25e3d",
   "outputs": [
    {
     "name": "stdout",
     "output_type": "stream",
     "text": [
      "torch.Size([3, 3, 4]) torch.Size([4, 1])\n",
      "\n",
      "torch.Size([3, 3, 1])\n",
      "\n",
      "torch.Size([3, 3])\n"
     ]
    }
   ],
   "execution_count": 64
  },
  {
   "metadata": {
    "ExecuteTime": {
     "end_time": "2025-03-25T20:36:26.653487Z",
     "start_time": "2025-03-25T20:36:26.638140Z"
    }
   },
   "cell_type": "code",
   "source": [
    "# Masked Attention\n",
    "adj = torch.randint(2, (3, 3))\n",
    "\n",
    "zero_vec  = -9e15*torch.ones_like(e)\n",
    "print(zero_vec.shape)\n",
    "attention = torch.where(adj > 0, e, zero_vec)\n",
    "print(adj,\"\\n\",e,\"\\n\",zero_vec)\n",
    "attention"
   ],
   "id": "d12f417d0294f0e8",
   "outputs": [
    {
     "name": "stdout",
     "output_type": "stream",
     "text": [
      "torch.Size([3, 3])\n",
      "tensor([[0, 1, 0],\n",
      "        [1, 1, 0],\n",
      "        [0, 1, 1]]) \n",
      " tensor([[-0.1637, -0.2782, -0.0410],\n",
      "        [ 1.8765,  1.3044,  2.4900],\n",
      "        [-0.4299, -0.5443, -0.3072]], grad_fn=<LeakyReluBackward0>) \n",
      " tensor([[-9.0000e+15, -9.0000e+15, -9.0000e+15],\n",
      "        [-9.0000e+15, -9.0000e+15, -9.0000e+15],\n",
      "        [-9.0000e+15, -9.0000e+15, -9.0000e+15]])\n"
     ]
    },
    {
     "data": {
      "text/plain": [
       "tensor([[-9.0000e+15, -2.7815e-01, -9.0000e+15],\n",
       "        [ 1.8765e+00,  1.3044e+00, -9.0000e+15],\n",
       "        [-9.0000e+15, -5.4426e-01, -3.0715e-01]], grad_fn=<WhereBackward0>)"
      ]
     },
     "execution_count": 67,
     "metadata": {},
     "output_type": "execute_result"
    }
   ],
   "execution_count": 67
  },
  {
   "metadata": {
    "ExecuteTime": {
     "end_time": "2025-03-25T20:37:14.365684Z",
     "start_time": "2025-03-25T20:37:14.351357Z"
    }
   },
   "cell_type": "code",
   "source": [
    "attention = F.softmax(attention, dim=1)\n",
    "h_prime   = torch.matmul(attention, h)\n",
    "attention"
   ],
   "id": "680d1e198247c0bb",
   "outputs": [
    {
     "data": {
      "text/plain": [
       "tensor([[0.0000, 1.0000, 0.0000],\n",
       "        [0.6392, 0.3608, 0.0000],\n",
       "        [0.0000, 0.4410, 0.5590]], grad_fn=<SoftmaxBackward0>)"
      ]
     },
     "execution_count": 68,
     "metadata": {},
     "output_type": "execute_result"
    }
   ],
   "execution_count": 68
  }
 ],
 "metadata": {
  "kernelspec": {
   "display_name": "Python 3",
   "language": "python",
   "name": "python3"
  },
  "language_info": {
   "codemirror_mode": {
    "name": "ipython",
    "version": 2
   },
   "file_extension": ".py",
   "mimetype": "text/x-python",
   "name": "python",
   "nbconvert_exporter": "python",
   "pygments_lexer": "ipython2",
   "version": "2.7.6"
  }
 },
 "nbformat": 4,
 "nbformat_minor": 5
}
