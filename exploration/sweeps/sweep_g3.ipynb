{
 "cells": [
  {
   "metadata": {},
   "cell_type": "markdown",
   "source": [
    "# Sweeps\n",
    "familiarizing with wandb sweeps for automatic hyperparameter tuning"
   ],
   "id": "a7d4e865dde9f40c"
  },
  {
   "metadata": {
    "ExecuteTime": {
     "end_time": "2025-05-02T03:39:44.920835Z",
     "start_time": "2025-05-02T03:39:40.978450Z"
    }
   },
   "cell_type": "code",
   "source": [
    "%cd /home/ltchen/gnnpp\n",
    "import sys\n",
    "import os\n",
    "import pytorch_lightning as L\n",
    "import torch\n",
    "import torch_geometric\n",
    "import json\n",
    "import wandb\n",
    "\n",
    "# from typing import Tuple\n",
    "# from torch_geometric.nn import GATv2Conv\n",
    "# from torch_geometric.utils import scatter\n",
    "# from torch.nn import Linear, ModuleList, ReLU\n",
    "from torch_geometric.loader import DataLoader\n",
    "from pytorch_lightning.callbacks import ModelCheckpoint, EarlyStopping, TQDMProgressBar\n",
    "from torch.optim import AdamW\n",
    "from pytorch_lightning.loggers import WandbLogger\n",
    "\n",
    "# from models.loss import NormalCRPS\n",
    "# from models.model_utils import MakePositive, EmbedStations\n",
    "from utils.data import (\n",
    "    load_dataframes,\n",
    "    summary_statistics,\n",
    ")\n",
    "from exploration.graph_creation import *\n",
    "from models.graphensemble.multigraph import *"
   ],
   "id": "8be1f88ccc5bc72b",
   "outputs": [
    {
     "name": "stdout",
     "output_type": "stream",
     "text": [
      "/home/ltchen/gnnpp\n"
     ]
    }
   ],
   "execution_count": 1
  },
  {
   "cell_type": "code",
   "id": "initial_id",
   "metadata": {
    "collapsed": true,
    "ExecuteTime": {
     "end_time": "2025-05-02T01:03:58.466710Z",
     "start_time": "2025-05-02T01:03:58.462946Z"
    }
   },
   "source": [
    "\n",
    "sweep_config = {\n",
    "    'method': 'random'\n",
    "    }"
   ],
   "outputs": [],
   "execution_count": 15
  },
  {
   "metadata": {
    "ExecuteTime": {
     "end_time": "2025-05-02T00:56:34.347417Z",
     "start_time": "2025-05-02T00:56:34.342341Z"
    }
   },
   "cell_type": "code",
   "source": [
    "metric = {\n",
    "    'name': 'val_loss', # train_loss?\n",
    "    'goal': 'minimize'\n",
    "    }\n",
    "\n",
    "sweep_config['metric'] = metric"
   ],
   "id": "b0cf27c3f92bf9be",
   "outputs": [],
   "execution_count": 5
  },
  {
   "metadata": {
    "ExecuteTime": {
     "end_time": "2025-05-02T01:24:19.745423Z",
     "start_time": "2025-05-02T01:24:19.738727Z"
    }
   },
   "cell_type": "code",
   "source": [
    "parameters_dict = {\n",
    "    'optimizer': {\n",
    "        'value': 'adam'\n",
    "        },\n",
    "    # 'batch_size': {\n",
    "    #     'value': 8\n",
    "    #     },\n",
    "    'gnn_hidden': {\n",
    "          'values': [64, 128, 265]\n",
    "        },\n",
    "    'gnn_layers': {\n",
    "          'values': [1, 2]\n",
    "        },\n",
    "    'heads': {\n",
    "          'value': 8\n",
    "        },\n",
    "    'lr': {\n",
    "        'distribution': 'uniform',\n",
    "        'min': 0,\n",
    "        'max': 0.001\n",
    "      },\n",
    "    # 'max_dist': { # might not even need it?\n",
    "    #       'value': 50\n",
    "    #     },\n",
    "    # 'max_epochs': { # early stopping?\n",
    "    #       'value': 100\n",
    "    #     },\n",
    "    }\n",
    "\n",
    "sweep_config['parameters'] = parameters_dict\n"
   ],
   "id": "872d26bcc0b853c9",
   "outputs": [],
   "execution_count": 31
  },
  {
   "metadata": {
    "ExecuteTime": {
     "end_time": "2025-05-02T00:56:47.765241Z",
     "start_time": "2025-05-02T00:56:47.758056Z"
    }
   },
   "cell_type": "code",
   "source": [
    "import pprint\n",
    "pprint.pprint(sweep_config)"
   ],
   "id": "fb5bc8d2eaddf532",
   "outputs": [
    {
     "name": "stdout",
     "output_type": "stream",
     "text": [
      "{'method': 'grid',\n",
      " 'metric': {'goal': 'minimize', 'name': 'val_loss'},\n",
      " 'parameters': {'batch_size': {'values': 8},\n",
      "                'gnn_hidden': {'values': [64, 128, 265]},\n",
      "                'gnn_layers': {'values': [1, 2]},\n",
      "                'heads': {'values': 8},\n",
      "                'lr': {'distribution': 'uniform', 'max': 0.1, 'min': 0},\n",
      "                'max_dist': {'values': 50},\n",
      "                'max_epochs': {'values': 100},\n",
      "                'optimizer': {'values': ['adam']}}}\n"
     ]
    }
   ],
   "execution_count": 7
  },
  {
   "metadata": {},
   "cell_type": "code",
   "outputs": [],
   "execution_count": null,
   "source": [
    "'''{\"batch_size\":8,\n",
    "\"gnn_hidden\":256,\n",
    "\"gnn_layers\":1,\n",
    "\"heads\":8,\n",
    "\"lr\":0.0001,\n",
    "\"max_dist\":50,\n",
    "\"max_epochs\": 23,\n",
    "\"remove_edges\": \"False\",\n",
    "\"only_summary\": \"True\"}'''"
   ],
   "id": "3997e8df147c77e0"
  },
  {
   "metadata": {
    "ExecuteTime": {
     "end_time": "2025-05-02T01:04:04.647484Z",
     "start_time": "2025-05-02T01:04:03.905427Z"
    }
   },
   "cell_type": "code",
   "source": "sweep_id = wandb.sweep(sweep_config, project=\"sweep_test\")",
   "id": "351c08a03c1ba0ca",
   "outputs": [
    {
     "name": "stdout",
     "output_type": "stream",
     "text": [
      "Create sweep with ID: jz97fbz2\n",
      "Sweep URL: https://wandb.ai/leachen01-karlsruhe-institute-of-technology/sweep_test/sweeps/jz97fbz2\n"
     ]
    }
   ],
   "execution_count": 17
  },
  {
   "metadata": {
    "ExecuteTime": {
     "end_time": "2025-05-02T01:10:48.765075Z",
     "start_time": "2025-05-02T01:10:48.755855Z"
    }
   },
   "cell_type": "code",
   "source": [
    "leadtime = \"24h\"\n",
    "\n",
    "sys.path.insert(0, os.path.abspath(os.path.join(os.getcwd(), '..')))\n",
    "DIRECTORY = os.getcwd()\n",
    "JSONPATH = os.path.join(DIRECTORY, f\"trained_models/no_ensemble_{leadtime}/params.json\")\n",
    "with open(JSONPATH, \"r\") as f:\n",
    "    print(f\"[INFO] Loading {JSONPATH}\")\n",
    "    args_dict = json.load(f)\n",
    "# config = args_dict"
   ],
   "id": "92b37d62812005cf",
   "outputs": [
    {
     "name": "stdout",
     "output_type": "stream",
     "text": [
      "[INFO] Loading /home/ltchen/gnnpp/trained_models/no_ensemble_24h/params.json\n"
     ]
    }
   ],
   "execution_count": 19
  },
  {
   "metadata": {
    "ExecuteTime": {
     "end_time": "2025-05-02T01:10:55.699606Z",
     "start_time": "2025-05-02T01:10:50.630016Z"
    }
   },
   "cell_type": "code",
   "source": [
    "dataframes = load_dataframes(leadtime=leadtime)\n",
    "dataframes = summary_statistics(dataframes)"
   ],
   "id": "65586c7459d9623d",
   "outputs": [
    {
     "name": "stdout",
     "output_type": "stream",
     "text": [
      "[INFO] Dataframes exist. Will load pandas dataframes.\n",
      "[INFO] Calculating summary statistics for train\n",
      "[INFO] Calculating summary statistics for valid\n",
      "[INFO] Calculating summary statistics for test_rf\n",
      "[INFO] Calculating summary statistics for test_f\n"
     ]
    }
   ],
   "execution_count": 20
  },
  {
   "metadata": {
    "ExecuteTime": {
     "end_time": "2025-05-02T01:23:13.875652Z",
     "start_time": "2025-05-02T01:22:37.364589Z"
    }
   },
   "cell_type": "code",
   "source": [
    "graph_name = \"g3\"\n",
    "SAVEPATH = os.path.join(DIRECTORY, f\"leas_trained_models/sum_stats_{leadtime}/{graph_name}_{leadtime}/models\")\n",
    "RESULTPATH = os.path.join(DIRECTORY, f\"leas_trained_models/sum_stats_{leadtime}/{graph_name}_{leadtime}\")\n",
    "\n",
    "graphs3_train_rf, tests3 = normalize_features_and_create_graphs1(df_train=dataframes['train'], df_valid_test=[dataframes['valid'], dataframes['test_rf'], dataframes['test_f']], station_df=dataframes['stations'], attributes=[\"geo\", \"alt\", \"lon\", \"lat\", \"alt-orog\"], edges=[(\"geo\", 100), (\"alt\", 10), (\"alt-orog\", 4)], sum_stats = True)\n",
    "graphs3_valid_rf, graphs3_test_rf, graphs3_test_f = tests3\n",
    "\n",
    "g3_train_loader = DataLoader(graphs3_train_rf, batch_size=8, shuffle=True)\n",
    "g3_valid_loader = DataLoader(graphs3_valid_rf, batch_size=8, shuffle=False)\n",
    "# g3_test_f_loader = DataLoader(graphs3_test_f, batch_size=config['batch_size'], shuffle=False)\n",
    "# g3_test_rf_loader = DataLoader(graphs3_test_rf, batch_size=config['batch_size'], shuffle=False)\n",
    "\n",
    "train_loader = g3_train_loader\n",
    "valid_loader = g3_valid_loader\n",
    "# test_f_loader = g3_test_f_loader\n",
    "# test_rf_loader = g3_test_rf_loader\n",
    "# test_loader = [test_f_loader, test_rf_loader]\n",
    "\n",
    "emb_dim = 20\n",
    "in_channels = graphs3_train_rf[0].x.shape[1] + emb_dim - 1\n",
    "edge_dim = graphs3_train_rf[0].num_edge_features\n",
    "num_nodes = graphs3_train_rf[0].num_nodes\n",
    "# max_epochs = max_epoch_list[graph_name]\n",
    "max_epochs = 100\n",
    "\n",
    "facts_about(graphs3_train_rf[0])\n",
    "\n",
    "# embedding_dim = emb_dim\n",
    "# in_channels = in_channels\n",
    "# hidden_channels_gnn = config['gnn_hidden']\n",
    "# out_channels_gnn = config['gnn_hidden']\n",
    "# num_layers_gnn = config['gnn_hidden']\n",
    "# heads = config['heads']\n",
    "# hidden_channels_deepset = config['gnn_hidden']\n",
    "# optimizer_class = AdamW\n",
    "# optimizer_params = dict(lr=config['lr'])"
   ],
   "id": "5fd117d025139771",
   "outputs": [
    {
     "name": "stdout",
     "output_type": "stream",
     "text": [
      "[INFO] Normalizing features...\n",
      "fit_transform\n",
      "transform 1\n",
      "transform 2\n",
      "transform 3\n"
     ]
    },
    {
     "name": "stderr",
     "output_type": "stream",
     "text": [
      "100%|██████████| 2612/2612 [00:12<00:00, 211.22it/s]\n",
      "100%|██████████| 836/836 [00:03<00:00, 267.28it/s]\n",
      "100%|██████████| 732/732 [00:02<00:00, 246.29it/s]\n",
      "100%|██████████| 730/730 [00:02<00:00, 264.68it/s]"
     ]
    },
    {
     "name": "stdout",
     "output_type": "stream",
     "text": [
      "Number of nodes: 120 with feature dimension of x: 65\n",
      "Number of isolated nodes: 1\n",
      "Number of edges: 2626 with edge dimension: 5\n",
      "Average node degree: 21.883333206176758\n"
     ]
    },
    {
     "name": "stderr",
     "output_type": "stream",
     "text": [
      "\n"
     ]
    }
   ],
   "execution_count": 29
  },
  {
   "metadata": {
    "ExecuteTime": {
     "end_time": "2025-05-02T01:32:17.451762Z",
     "start_time": "2025-05-02T01:32:15.229829Z"
    }
   },
   "cell_type": "code",
   "source": [
    "PROJECTNAME = \"sweep_test\"\n",
    "\n",
    "TRAINNAME = f\"{graph_name}_{leadtime}_train_run1\"\n",
    "\n",
    "with wandb.init():\n",
    "    config = wandb.config\n",
    "\n",
    "    multigraph = Multigraph(\n",
    "        num_nodes=num_nodes,  #\n",
    "        embedding_dim=emb_dim,\n",
    "        edge_dim=edge_dim,\n",
    "        in_channels=in_channels,\n",
    "        hidden_channels_gnn=config['gnn_hidden'],\n",
    "        out_channels_gnn=config['gnn_hidden'],\n",
    "        num_layers_gnn=config['gnn_layers'],\n",
    "        heads=config['heads'],\n",
    "        hidden_channels_deepset=config['gnn_hidden'],\n",
    "        optimizer_class=AdamW,\n",
    "        optimizer_params=dict(lr=config['lr']),\n",
    "    )\n",
    "    # torch.compile(multigraph)\n",
    "    # batch = next(iter(train_loader))\n",
    "    # multigraph.forward(batch)\n",
    "    multigraph.initialize(train_loader)\n",
    "\n",
    "    wandb_logger = WandbLogger(project=PROJECTNAME)\n",
    "    early_stop = EarlyStopping(monitor=\"val_loss\", patience=10)\n",
    "    # progress_bar = TQDMProgressBar(refresh_rate=0)\n",
    "\n",
    "    # checkpoint_callback = ModelCheckpoint(\n",
    "    #     dirpath=SAVEPATH, filename=TRAINNAME, monitor=\"val_loss\", mode=\"min\", save_top_k=1\n",
    "    # )\n",
    "\n",
    "    trainer = L.Trainer(\n",
    "        max_epochs=1000,\n",
    "        log_every_n_steps=1,\n",
    "        accelerator=\"gpu\",\n",
    "        devices=1,\n",
    "        enable_progress_bar=True,\n",
    "        logger=wandb_logger,\n",
    "        # callbacks=[early_stop, progress_bar, checkpoint_callback],\n",
    "        callbacks=early_stop,\n",
    "    )\n",
    "\n",
    "    trainer.fit(model=multigraph, train_dataloaders=train_loader, val_dataloaders=valid_loader)"
   ],
   "id": "d8ce495ca4437812",
   "outputs": [
    {
     "data": {
      "text/plain": [
       "<IPython.core.display.HTML object>"
      ],
      "text/html": [
       "Changes to your `wandb` environment variables will be ignored because your `wandb` session has already started. For more information on how to modify your settings with `wandb.init()` arguments, please refer to <a href='https://wandb.me/wandb-init' target=\"_blank\">the W&B docs</a>."
      ]
     },
     "metadata": {},
     "output_type": "display_data"
    },
    {
     "data": {
      "text/plain": [
       "<IPython.core.display.HTML object>"
      ],
      "text/html": [
       "Tracking run with wandb version 0.19.10"
      ]
     },
     "metadata": {},
     "output_type": "display_data"
    },
    {
     "data": {
      "text/plain": [
       "<IPython.core.display.HTML object>"
      ],
      "text/html": [
       "Run data is saved locally in <code>/tmp/pycharm_project_408/exploration/sweeps/wandb/run-20250502_033215-g3_24h_train_run1</code>"
      ]
     },
     "metadata": {},
     "output_type": "display_data"
    },
    {
     "data": {
      "text/plain": [
       "<IPython.core.display.HTML object>"
      ],
      "text/html": [
       "Syncing run <strong><a href='https://wandb.ai/leachen01-karlsruhe-institute-of-technology/sweep_test/runs/g3_24h_train_run1' target=\"_blank\">g3_24h_train_run1</a></strong> to <a href='https://wandb.ai/leachen01-karlsruhe-institute-of-technology/sweep_test' target=\"_blank\">Weights & Biases</a> (<a href='https://wandb.me/developer-guide' target=\"_blank\">docs</a>)<br>"
      ]
     },
     "metadata": {},
     "output_type": "display_data"
    },
    {
     "data": {
      "text/plain": [
       "<IPython.core.display.HTML object>"
      ],
      "text/html": [
       " View project at <a href='https://wandb.ai/leachen01-karlsruhe-institute-of-technology/sweep_test' target=\"_blank\">https://wandb.ai/leachen01-karlsruhe-institute-of-technology/sweep_test</a>"
      ]
     },
     "metadata": {},
     "output_type": "display_data"
    },
    {
     "data": {
      "text/plain": [
       "<IPython.core.display.HTML object>"
      ],
      "text/html": [
       " View run at <a href='https://wandb.ai/leachen01-karlsruhe-institute-of-technology/sweep_test/runs/g3_24h_train_run1' target=\"_blank\">https://wandb.ai/leachen01-karlsruhe-institute-of-technology/sweep_test/runs/g3_24h_train_run1</a>"
      ]
     },
     "metadata": {},
     "output_type": "display_data"
    },
    {
     "name": "stderr",
     "output_type": "stream",
     "text": [
      "Traceback (most recent call last):\n",
      "  File \"/tmp/ipykernel_539441/2930110546.py\", line 10, in <module>\n",
      "    multigraph = Multigraph(\n",
      "  File \"/tmp/pycharm_project_408/models/graphensemble/multigraph.py\", line 128, in __init__\n",
      "    self.conv = ResGnn(\n",
      "  File \"/tmp/pycharm_project_408/models/graphensemble/multigraph.py\", line 36, in __init__\n",
      "    assert num_layers > 0, \"num_layers must be > 0.\"\n",
      "TypeError: '>' not supported between instances of 'dict' and 'int'\n"
     ]
    },
    {
     "data": {
      "text/plain": [
       "<IPython.core.display.HTML object>"
      ],
      "text/html": []
     },
     "metadata": {},
     "output_type": "display_data"
    },
    {
     "data": {
      "text/plain": [
       "<IPython.core.display.HTML object>"
      ],
      "text/html": [
       " View run <strong style=\"color:#cdcd00\">g3_24h_train_run1</strong> at: <a href='https://wandb.ai/leachen01-karlsruhe-institute-of-technology/sweep_test/runs/g3_24h_train_run1' target=\"_blank\">https://wandb.ai/leachen01-karlsruhe-institute-of-technology/sweep_test/runs/g3_24h_train_run1</a><br> View project at: <a href='https://wandb.ai/leachen01-karlsruhe-institute-of-technology/sweep_test' target=\"_blank\">https://wandb.ai/leachen01-karlsruhe-institute-of-technology/sweep_test</a><br>Synced 5 W&B file(s), 0 media file(s), 0 artifact file(s) and 0 other file(s)"
      ]
     },
     "metadata": {},
     "output_type": "display_data"
    },
    {
     "data": {
      "text/plain": [
       "<IPython.core.display.HTML object>"
      ],
      "text/html": [
       "Find logs at: <code>/tmp/pycharm_project_408/exploration/sweeps/wandb/run-20250502_033215-g3_24h_train_run1/logs</code>"
      ]
     },
     "metadata": {},
     "output_type": "display_data"
    },
    {
     "ename": "TypeError",
     "evalue": "'>' not supported between instances of 'dict' and 'int'",
     "output_type": "error",
     "traceback": [
      "\u001B[0;31m---------------------------------------------------------------------------\u001B[0m",
      "\u001B[0;31mTypeError\u001B[0m                                 Traceback (most recent call last)",
      "Cell \u001B[0;32mIn[36], line 10\u001B[0m\n\u001B[1;32m      5\u001B[0m \u001B[38;5;28;01mwith\u001B[39;00m wandb\u001B[38;5;241m.\u001B[39minit(\n\u001B[1;32m      6\u001B[0m         project\u001B[38;5;241m=\u001B[39mPROJECTNAME, \u001B[38;5;28mid\u001B[39m\u001B[38;5;241m=\u001B[39mTRAINNAME, config\u001B[38;5;241m=\u001B[39msweep_config[\u001B[38;5;124m'\u001B[39m\u001B[38;5;124mparameters\u001B[39m\u001B[38;5;124m'\u001B[39m], tags\u001B[38;5;241m=\u001B[39m[\u001B[38;5;124m\"\u001B[39m\u001B[38;5;124mfinal\u001B[39m\u001B[38;5;124m\"\u001B[39m] \u001B[38;5;66;03m# , resume=\"never\"\u001B[39;00m\n\u001B[1;32m      7\u001B[0m ):\n\u001B[1;32m      8\u001B[0m     config \u001B[38;5;241m=\u001B[39m wandb\u001B[38;5;241m.\u001B[39mconfig\n\u001B[0;32m---> 10\u001B[0m     multigraph \u001B[38;5;241m=\u001B[39m \u001B[43mMultigraph\u001B[49m\u001B[43m(\u001B[49m\n\u001B[1;32m     11\u001B[0m \u001B[43m        \u001B[49m\u001B[43mnum_nodes\u001B[49m\u001B[38;5;241;43m=\u001B[39;49m\u001B[43mnum_nodes\u001B[49m\u001B[43m,\u001B[49m\u001B[43m  \u001B[49m\u001B[38;5;66;43;03m#\u001B[39;49;00m\n\u001B[1;32m     12\u001B[0m \u001B[43m        \u001B[49m\u001B[43membedding_dim\u001B[49m\u001B[38;5;241;43m=\u001B[39;49m\u001B[43memb_dim\u001B[49m\u001B[43m,\u001B[49m\n\u001B[1;32m     13\u001B[0m \u001B[43m        \u001B[49m\u001B[43medge_dim\u001B[49m\u001B[38;5;241;43m=\u001B[39;49m\u001B[43medge_dim\u001B[49m\u001B[43m,\u001B[49m\n\u001B[1;32m     14\u001B[0m \u001B[43m        \u001B[49m\u001B[43min_channels\u001B[49m\u001B[38;5;241;43m=\u001B[39;49m\u001B[43min_channels\u001B[49m\u001B[43m,\u001B[49m\n\u001B[1;32m     15\u001B[0m \u001B[43m        \u001B[49m\u001B[43mhidden_channels_gnn\u001B[49m\u001B[38;5;241;43m=\u001B[39;49m\u001B[43mconfig\u001B[49m\u001B[43m[\u001B[49m\u001B[38;5;124;43m'\u001B[39;49m\u001B[38;5;124;43mgnn_hidden\u001B[39;49m\u001B[38;5;124;43m'\u001B[39;49m\u001B[43m]\u001B[49m\u001B[43m,\u001B[49m\n\u001B[1;32m     16\u001B[0m \u001B[43m        \u001B[49m\u001B[43mout_channels_gnn\u001B[49m\u001B[38;5;241;43m=\u001B[39;49m\u001B[43mconfig\u001B[49m\u001B[43m[\u001B[49m\u001B[38;5;124;43m'\u001B[39;49m\u001B[38;5;124;43mgnn_hidden\u001B[39;49m\u001B[38;5;124;43m'\u001B[39;49m\u001B[43m]\u001B[49m\u001B[43m,\u001B[49m\n\u001B[1;32m     17\u001B[0m \u001B[43m        \u001B[49m\u001B[43mnum_layers_gnn\u001B[49m\u001B[38;5;241;43m=\u001B[39;49m\u001B[43mconfig\u001B[49m\u001B[43m[\u001B[49m\u001B[38;5;124;43m'\u001B[39;49m\u001B[38;5;124;43mgnn_layers\u001B[39;49m\u001B[38;5;124;43m'\u001B[39;49m\u001B[43m]\u001B[49m\u001B[43m,\u001B[49m\n\u001B[1;32m     18\u001B[0m \u001B[43m        \u001B[49m\u001B[43mheads\u001B[49m\u001B[38;5;241;43m=\u001B[39;49m\u001B[43mconfig\u001B[49m\u001B[43m[\u001B[49m\u001B[38;5;124;43m'\u001B[39;49m\u001B[38;5;124;43mheads\u001B[39;49m\u001B[38;5;124;43m'\u001B[39;49m\u001B[43m]\u001B[49m\u001B[43m,\u001B[49m\n\u001B[1;32m     19\u001B[0m \u001B[43m        \u001B[49m\u001B[43mhidden_channels_deepset\u001B[49m\u001B[38;5;241;43m=\u001B[39;49m\u001B[43mconfig\u001B[49m\u001B[43m[\u001B[49m\u001B[38;5;124;43m'\u001B[39;49m\u001B[38;5;124;43mgnn_hidden\u001B[39;49m\u001B[38;5;124;43m'\u001B[39;49m\u001B[43m]\u001B[49m\u001B[43m,\u001B[49m\n\u001B[1;32m     20\u001B[0m \u001B[43m        \u001B[49m\u001B[43moptimizer_class\u001B[49m\u001B[38;5;241;43m=\u001B[39;49m\u001B[43mAdamW\u001B[49m\u001B[43m,\u001B[49m\n\u001B[1;32m     21\u001B[0m \u001B[43m        \u001B[49m\u001B[43moptimizer_params\u001B[49m\u001B[38;5;241;43m=\u001B[39;49m\u001B[38;5;28;43mdict\u001B[39;49m\u001B[43m(\u001B[49m\u001B[43mlr\u001B[49m\u001B[38;5;241;43m=\u001B[39;49m\u001B[43mconfig\u001B[49m\u001B[43m[\u001B[49m\u001B[38;5;124;43m'\u001B[39;49m\u001B[38;5;124;43mlr\u001B[39;49m\u001B[38;5;124;43m'\u001B[39;49m\u001B[43m]\u001B[49m\u001B[43m)\u001B[49m\u001B[43m,\u001B[49m\n\u001B[1;32m     22\u001B[0m \u001B[43m    \u001B[49m\u001B[43m)\u001B[49m\n\u001B[1;32m     23\u001B[0m     \u001B[38;5;66;03m# torch.compile(multigraph)\u001B[39;00m\n\u001B[1;32m     24\u001B[0m     \u001B[38;5;66;03m# batch = next(iter(train_loader))\u001B[39;00m\n\u001B[1;32m     25\u001B[0m     \u001B[38;5;66;03m# multigraph.forward(batch)\u001B[39;00m\n\u001B[1;32m     26\u001B[0m     multigraph\u001B[38;5;241m.\u001B[39minitialize(train_loader)\n",
      "File \u001B[0;32m/tmp/pycharm_project_408/models/graphensemble/multigraph.py:128\u001B[0m, in \u001B[0;36mMultigraph.__init__\u001B[0;34m(self, num_nodes, embedding_dim, edge_dim, in_channels, hidden_channels_gnn, out_channels_gnn, num_layers_gnn, heads, hidden_channels_deepset, optimizer_class, optimizer_params)\u001B[0m\n\u001B[1;32m    124\u001B[0m \u001B[38;5;28mself\u001B[39m\u001B[38;5;241m.\u001B[39mnum_nodes \u001B[38;5;241m=\u001B[39m num_nodes\n\u001B[1;32m    126\u001B[0m \u001B[38;5;28mself\u001B[39m\u001B[38;5;241m.\u001B[39mencoder \u001B[38;5;241m=\u001B[39m EmbedStations(num_stations_max\u001B[38;5;241m=\u001B[39mnum_nodes, embedding_dim\u001B[38;5;241m=\u001B[39membedding_dim)\n\u001B[0;32m--> 128\u001B[0m \u001B[38;5;28mself\u001B[39m\u001B[38;5;241m.\u001B[39mconv \u001B[38;5;241m=\u001B[39m \u001B[43mResGnn\u001B[49m\u001B[43m(\u001B[49m\n\u001B[1;32m    129\u001B[0m \u001B[43m    \u001B[49m\u001B[43medge_dim\u001B[49m\u001B[38;5;241;43m=\u001B[39;49m\u001B[43medge_dim\u001B[49m\u001B[43m,\u001B[49m\u001B[43m \u001B[49m\u001B[38;5;66;43;03m# Added\u001B[39;49;00m\n\u001B[1;32m    130\u001B[0m \u001B[43m    \u001B[49m\u001B[43min_channels\u001B[49m\u001B[38;5;241;43m=\u001B[39;49m\u001B[43min_channels\u001B[49m\u001B[43m,\u001B[49m\n\u001B[1;32m    131\u001B[0m \u001B[43m    \u001B[49m\u001B[43mhidden_channels\u001B[49m\u001B[38;5;241;43m=\u001B[39;49m\u001B[43mhidden_channels_gnn\u001B[49m\u001B[43m,\u001B[49m\n\u001B[1;32m    132\u001B[0m \u001B[43m    \u001B[49m\u001B[43mout_channels\u001B[49m\u001B[38;5;241;43m=\u001B[39;49m\u001B[43mout_channels_gnn\u001B[49m\u001B[43m,\u001B[49m\n\u001B[1;32m    133\u001B[0m \u001B[43m    \u001B[49m\u001B[43mnum_layers\u001B[49m\u001B[38;5;241;43m=\u001B[39;49m\u001B[43mnum_layers_gnn\u001B[49m\u001B[43m,\u001B[49m\n\u001B[1;32m    134\u001B[0m \u001B[43m    \u001B[49m\u001B[43mheads\u001B[49m\u001B[38;5;241;43m=\u001B[39;49m\u001B[43mheads\u001B[49m\u001B[43m,\u001B[49m\n\u001B[1;32m    135\u001B[0m \u001B[43m\u001B[49m\u001B[43m)\u001B[49m\n\u001B[1;32m    137\u001B[0m \u001B[38;5;28mself\u001B[39m\u001B[38;5;241m.\u001B[39maggr \u001B[38;5;241m=\u001B[39m DeepSetAggregator(\n\u001B[1;32m    138\u001B[0m     in_channels\u001B[38;5;241m=\u001B[39mout_channels_gnn, hidden_channels\u001B[38;5;241m=\u001B[39mhidden_channels_deepset, out_channels\u001B[38;5;241m=\u001B[39m\u001B[38;5;241m2\u001B[39m\n\u001B[1;32m    139\u001B[0m )\n\u001B[1;32m    141\u001B[0m \u001B[38;5;28mself\u001B[39m\u001B[38;5;241m.\u001B[39mpostprocess \u001B[38;5;241m=\u001B[39m MakePositive()\n",
      "File \u001B[0;32m/tmp/pycharm_project_408/models/graphensemble/multigraph.py:36\u001B[0m, in \u001B[0;36mResGnn.__init__\u001B[0;34m(self, edge_dim, in_channels, out_channels, num_layers, hidden_channels, heads)\u001B[0m\n\u001B[1;32m     34\u001B[0m \u001B[38;5;28;01mdef\u001B[39;00m\u001B[38;5;250m \u001B[39m\u001B[38;5;21m__init__\u001B[39m(\u001B[38;5;28mself\u001B[39m, edge_dim: \u001B[38;5;28mint\u001B[39m, in_channels: \u001B[38;5;28mint\u001B[39m, out_channels: \u001B[38;5;28mint\u001B[39m, num_layers: \u001B[38;5;28mint\u001B[39m, hidden_channels: \u001B[38;5;28mint\u001B[39m, heads: \u001B[38;5;28mint\u001B[39m): \u001B[38;5;66;03m# Added\u001B[39;00m\n\u001B[1;32m     35\u001B[0m     \u001B[38;5;28msuper\u001B[39m(ResGnn, \u001B[38;5;28mself\u001B[39m)\u001B[38;5;241m.\u001B[39m\u001B[38;5;21m__init__\u001B[39m()\n\u001B[0;32m---> 36\u001B[0m     \u001B[38;5;28;01massert\u001B[39;00m \u001B[43mnum_layers\u001B[49m\u001B[43m \u001B[49m\u001B[38;5;241;43m>\u001B[39;49m\u001B[43m \u001B[49m\u001B[38;5;241;43m0\u001B[39;49m, \u001B[38;5;124m\"\u001B[39m\u001B[38;5;124mnum_layers must be > 0.\u001B[39m\u001B[38;5;124m\"\u001B[39m\n\u001B[1;32m     38\u001B[0m     \u001B[38;5;66;03m# Create Layers\u001B[39;00m\n\u001B[1;32m     39\u001B[0m     \u001B[38;5;28mself\u001B[39m\u001B[38;5;241m.\u001B[39mconvolutions \u001B[38;5;241m=\u001B[39m ModuleList()\n",
      "\u001B[0;31mTypeError\u001B[0m: '>' not supported between instances of 'dict' and 'int'"
     ]
    }
   ],
   "execution_count": 36
  },
  {
   "metadata": {},
   "cell_type": "code",
   "outputs": [],
   "execution_count": null,
   "source": "wandb.agent(sweep_id, train, count=5)",
   "id": "c1d4f9e712142d3e"
  },
  {
   "metadata": {},
   "cell_type": "code",
   "outputs": [],
   "execution_count": null,
   "source": [
    "'''with wandb.init():\n",
    "    config = wandb.config\n",
    "    print(\"[INFO] Starting sweep with config: \", config)\n",
    "\n",
    "    multigraph = Multigraph(\n",
    "        embedding_dim=emb_dim,\n",
    "        in_channels=in_channels,\n",
    "        hidden_channels_gnn=config.gnn_hidden,\n",
    "        out_channels_gnn=config.gnn_hidden,\n",
    "        num_layers_gnn=config.gnn_layers,\n",
    "        heads=config.heads,\n",
    "        hidden_channels_deepset=config.gnn_hidden,\n",
    "        optimizer_class=AdamW,\n",
    "        optimizer_params=dict(lr=config.lr),\n",
    "    )\n",
    "    torch_geometric.compile(multigraph)\n",
    "\n",
    "    # run a dummy forward pass to initialize the model\n",
    "    multigraph.initialize(train_loader)\n",
    "\n",
    "    wandb_logger = WandbLogger(project=\"multigraph\")\n",
    "    early_stop = EarlyStopping(monitor=\"val_loss\", patience=10)\n",
    "\n",
    "    # Train Model ###################################################################\n",
    "    print(\"[INFO] Training model...\")\n",
    "    trainer = L.Trainer(\n",
    "        max_epochs=1000,\n",
    "        log_every_n_steps=1,\n",
    "        accelerator=\"gpu\",\n",
    "        enable_progress_bar=True,\n",
    "        logger=wandb_logger,\n",
    "        callbacks=early_stop,\n",
    "    )\n",
    "\n",
    "    trainer.fit(model=multigraph, train_dataloaders=train_loader, val_dataloaders=valid_loader)'''"
   ],
   "id": "911e77526f402d9f"
  }
 ],
 "metadata": {
  "kernelspec": {
   "display_name": "Python 3",
   "language": "python",
   "name": "python3"
  },
  "language_info": {
   "codemirror_mode": {
    "name": "ipython",
    "version": 2
   },
   "file_extension": ".py",
   "mimetype": "text/x-python",
   "name": "python",
   "nbconvert_exporter": "python",
   "pygments_lexer": "ipython2",
   "version": "2.7.6"
  }
 },
 "nbformat": 4,
 "nbformat_minor": 5
}
