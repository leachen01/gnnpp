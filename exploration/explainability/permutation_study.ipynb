{
 "cells": [
  {
   "metadata": {
    "ExecuteTime": {
     "end_time": "2025-04-22T15:30:43.094350Z",
     "start_time": "2025-04-22T15:30:43.079982Z"
    }
   },
   "cell_type": "code",
   "source": [
    "%cd /home/ltchen/gnnpp\n",
    "import sys\n",
    "import os\n",
    "import pytorch_lightning as L\n",
    "import torch\n",
    "import torch_geometric\n",
    "import json\n",
    "import copy\n",
    "\n",
    "from typing import Tuple\n",
    "from torch_geometric.nn import GATv2Conv\n",
    "from torch_geometric.utils import scatter\n",
    "from torch.nn import Linear, ModuleList, ReLU\n",
    "from torch_geometric.loader import DataLoader\n",
    "from pytorch_lightning.callbacks import ModelCheckpoint\n",
    "from torch.optim import AdamW\n",
    "from pytorch_lightning.loggers import WandbLogger\n",
    "\n",
    "from models.loss import NormalCRPS\n",
    "from models.model_utils import MakePositive, EmbedStations\n",
    "from utils.data import (\n",
    "    load_dataframes,\n",
    "    load_distances,\n",
    "    normalize_features_and_create_graphs,\n",
    "    rm_edges,\n",
    "    summary_statistics,\n",
    ")\n",
    "from exploration.graph_creation import *\n",
    "from models.graphensemble.multigraph import *\n",
    "import shap\n",
    "from torch_geometric.explain import GNNExplainer"
   ],
   "id": "21f4bd0cd278b402",
   "outputs": [
    {
     "name": "stdout",
     "output_type": "stream",
     "text": [
      "/home/ltchen/gnnpp\n"
     ]
    }
   ],
   "execution_count": 78
  },
  {
   "metadata": {},
   "cell_type": "markdown",
   "source": "## Retrieve trained model",
   "id": "bc3abba9dc166b63"
  },
  {
   "metadata": {
    "ExecuteTime": {
     "end_time": "2025-04-22T15:32:05.140816Z",
     "start_time": "2025-04-22T15:32:05.130055Z"
    }
   },
   "cell_type": "code",
   "source": [
    "leadtime = \"24h\"\n",
    "data_type = \"f\"\n",
    "\n",
    "sys.path.insert(0, os.path.abspath(os.path.join(os.getcwd(), '..')))\n",
    "DIRECTORY = os.getcwd()\n",
    "SAVEPATH = os.path.join(DIRECTORY, f\"leas_final_models/gnn_run4_{leadtime}/models\")\n",
    "JSONPATH = os.path.join(DIRECTORY, f\"trained_models/best_{leadtime}/params.json\")\n",
    "\n",
    "with open(JSONPATH, \"r\") as f:\n",
    "    print(f\"[INFO] Loading {JSONPATH}\")\n",
    "    args_dict = json.load(f)\n",
    "config = args_dict\n",
    "\n",
    "# from gnn_run3 ###############################\n",
    "max_epoch_list = {\n",
    "    'g1': 31,\n",
    "    'g2': 26,\n",
    "    'g3': 31,\n",
    "    'g4': 32,\n",
    "    'g5': 23,\n",
    "}"
   ],
   "id": "5bc4de0a8e4c33c7",
   "outputs": [
    {
     "name": "stdout",
     "output_type": "stream",
     "text": [
      "[INFO] Loading /home/ltchen/gnnpp/trained_models/best_24h/params.json\n"
     ]
    }
   ],
   "execution_count": 84
  },
  {
   "metadata": {
    "ExecuteTime": {
     "end_time": "2025-04-22T15:31:03.229732Z",
     "start_time": "2025-04-22T15:30:58.113715Z"
    }
   },
   "cell_type": "code",
   "source": [
    "dataframes = load_dataframes(mode=\"eval\", leadtime=leadtime)\n",
    "dataframes = summary_statistics(dataframes)\n"
   ],
   "id": "6bb866d8f244135c",
   "outputs": [
    {
     "name": "stdout",
     "output_type": "stream",
     "text": [
      "[INFO] Dataframes exist. Will load pandas dataframes.\n",
      "[INFO] Calculating summary statistics for train\n",
      "[INFO] Calculating summary statistics for test_rf\n",
      "[INFO] Calculating summary statistics for test_f\n"
     ]
    }
   ],
   "execution_count": 81
  },
  {
   "metadata": {
    "ExecuteTime": {
     "end_time": "2025-04-22T15:31:31.293878Z",
     "start_time": "2025-04-22T15:31:03.238307Z"
    }
   },
   "cell_type": "code",
   "source": [
    "graph_name = \"g1\"\n",
    "graphs1_train_rf, tests1 = normalize_features_and_create_graphs1(df_train=dataframes['train'], df_valid_test=[dataframes['test_rf'], dataframes['test_f']], station_df=dataframes['stations'], attributes=[\"geo\"], edges=[(\"geo\", 100)], sum_stats = True)\n",
    "graphs1_test_rf, graphs1_test_f = tests1\n",
    "\n",
    "g1_train_loader = DataLoader(graphs1_train_rf, batch_size=config['batch_size'], shuffle=True)\n",
    "g1_test_f_loader = DataLoader(graphs1_test_f, batch_size=config['batch_size'], shuffle=False)\n",
    "g1_test_rf_loader = DataLoader(graphs1_test_rf, batch_size=config['batch_size'], shuffle=False)\n",
    "\n",
    "train_loader = g1_train_loader\n",
    "test_f_loader = g1_test_f_loader\n",
    "test_rf_loader = g1_test_rf_loader\n",
    "test_loader = [test_f_loader, test_rf_loader]\n",
    "\n",
    "emb_dim = 20\n",
    "in_channels = graphs1_train_rf[0].x.shape[1] + emb_dim - 1\n",
    "edge_dim = graphs1_train_rf[0].num_edge_features\n",
    "max_epochs = max_epoch_list[graph_name]"
   ],
   "id": "6ac93bc25a850608",
   "outputs": [
    {
     "name": "stdout",
     "output_type": "stream",
     "text": [
      "[INFO] Normalizing features...\n",
      "fit_transform\n",
      "transform 1\n",
      "transform 2\n"
     ]
    },
    {
     "name": "stderr",
     "output_type": "stream",
     "text": [
      "100%|██████████| 3448/3448 [00:16<00:00, 211.66it/s]\n",
      "100%|██████████| 732/732 [00:02<00:00, 258.49it/s]\n",
      "100%|██████████| 730/730 [00:02<00:00, 286.08it/s]\n"
     ]
    }
   ],
   "execution_count": 82
  },
  {
   "metadata": {
    "ExecuteTime": {
     "end_time": "2025-04-22T15:31:31.422416Z",
     "start_time": "2025-04-22T15:31:31.300385Z"
    }
   },
   "cell_type": "code",
   "source": [
    "PROJECTNAME = \"gnn_run4\"\n",
    "FILENAME = graph_name + \"_run_\" + leadtime\n",
    "TRAINNAME = graph_name + \"_train_run_\" + leadtime\n",
    "CKPT_PATH = os.path.join(SAVEPATH, TRAINNAME + '.ckpt')\n",
    "RESULTPATH = os.path.join(DIRECTORY, f\"leas_trained_models/best_{leadtime}/best_{leadtime}_{graph_name}\")\n",
    "\n",
    "multigraph = Multigraph.load_from_checkpoint(\n",
    "    CKPT_PATH,\n",
    "    embedding_dim=emb_dim,\n",
    "    edge_dim=edge_dim,\n",
    "    in_channels=in_channels,\n",
    "    hidden_channels_gnn=config['gnn_hidden'],\n",
    "    out_channels_gnn=config['gnn_hidden'],\n",
    "    num_layers_gnn=config['gnn_layers'],\n",
    "    heads=config['heads'],\n",
    "    hidden_channels_deepset=config['gnn_hidden'],\n",
    "    optimizer_class=AdamW,\n",
    "    optimizer_params=dict(lr=config['lr']),\n",
    ")\n",
    "torch_geometric.compile(multigraph)\n",
    "multigraph.eval()\n",
    "batch = next(iter(train_loader))\n",
    "batch = batch.to(\"cuda\")\n",
    "multigraph.to(\"cuda\")\n",
    "multigraph.forward(batch)\n",
    "trainer = L.Trainer(log_every_n_steps=1, accelerator=\"gpu\", devices=1, enable_progress_bar=True)\n",
    "# trainer = L.Trainer()"
   ],
   "id": "e425b55f79b2defa",
   "outputs": [
    {
     "name": "stderr",
     "output_type": "stream",
     "text": [
      "/home/ltchen/.conda/envs/gnn_env4/lib/python3.10/site-packages/torch_geometric/_compile.py:34: UserWarning: 'torch_geometric.compile' is deprecated in favor of 'torch.compile'\n",
      "  warnings.warn(\"'torch_geometric.compile' is deprecated in favor of \"\n",
      "GPU available: True (cuda), used: True\n",
      "TPU available: False, using: 0 TPU cores\n",
      "HPU available: False, using: 0 HPUs\n"
     ]
    }
   ],
   "execution_count": 83
  },
  {
   "metadata": {
    "ExecuteTime": {
     "end_time": "2025-04-21T18:59:23.000663Z",
     "start_time": "2025-04-21T18:59:19.985793Z"
    }
   },
   "cell_type": "code",
   "source": [
    "data_list = [\"f\", \"rf\"]\n",
    "for data, tl in zip(data_list, test_loader):\n",
    "    preds_list = []\n",
    "    preds = trainer.predict(model=multigraph, dataloaders=[tl]) # 92 x 976 x 2 forecasts with mu and sigma of 122 stations\n",
    "    print(preds[0].shape)\n",
    "    # preds = [prediction.reshape(1, 122, 2).mean(axis=0) for prediction in preds]\n",
    "    #ACHTUNG - reshape(1, 122, 2) mit 1 statt 5!\n",
    "    preds = torch.cat(preds, dim=0)\n",
    "    preds_list.append(preds)\n",
    "\n",
    "    targets = dataframes[f\"test_{data}\"][1]\n",
    "    targets = torch.tensor(targets.t2m.values) - 273.15\n",
    "\n",
    "    stacked = torch.stack(preds_list)\n",
    "    final_preds = torch.mean(stacked, dim=0)\n",
    "\n",
    "    res = multigraph.loss_fn.crps(final_preds, targets)\n",
    "    print(\"#############################################\")\n",
    "    print(\"#############################################\")\n",
    "    print(f\"final crps: {res.item()}\")\n",
    "    print(\"#############################################\")\n",
    "    print(\"#############################################\")\n",
    "\n",
    "    os.makedirs(RESULTPATH, exist_ok=True)\n",
    "\n",
    "    df = pd.DataFrame(np.concatenate([targets.view(-1, 1), final_preds], axis=1), columns=[\"t2m\", \"mu\", \"sigma\"])\n",
    "    df.to_csv(os.path.join(RESULTPATH, f\"{data}_{FILENAME}_results.csv\"), index=False)\n",
    "\n",
    "    # Create Log File ###############################################################\n",
    "    log_file = os.path.join(RESULTPATH, f\"{data}.txt\")\n",
    "    with open(log_file, \"w\") as f:\n",
    "        f.write(f\"Data: {data}\\n\")\n",
    "        f.write(f\"Leadtime: {leadtime}\\n\")\n",
    "        f.write(f\"Final crps: {res.item()}\")"
   ],
   "id": "d078ac858d9c9473",
   "outputs": [
    {
     "name": "stderr",
     "output_type": "stream",
     "text": [
      "You are using a CUDA device ('NVIDIA RTX A5000') that has Tensor Cores. To properly utilize them, you should set `torch.set_float32_matmul_precision('medium' | 'high')` which will trade-off precision for performance. For more details, read https://pytorch.org/docs/stable/generated/torch.set_float32_matmul_precision.html#torch.set_float32_matmul_precision\n",
      "LOCAL_RANK: 0 - CUDA_VISIBLE_DEVICES: [0,1]\n",
      "/home/ltchen/.conda/envs/gnn_env4/lib/python3.10/site-packages/pytorch_lightning/trainer/connectors/data_connector.py:424: The 'predict_dataloader' does not have many workers which may be a bottleneck. Consider increasing the value of the `num_workers` argument` to `num_workers=23` in the `DataLoader` to improve performance.\n"
     ]
    },
    {
     "name": "stdout",
     "output_type": "stream",
     "text": [
      "Predicting DataLoader 0: 100%|██████████| 92/92 [00:01<00:00, 81.27it/s]\n",
      "torch.Size([976, 2])\n",
      "#############################################\n",
      "#############################################\n",
      "final crps: 0.6755105734340946\n",
      "#############################################\n",
      "#############################################\n"
     ]
    },
    {
     "name": "stderr",
     "output_type": "stream",
     "text": [
      "LOCAL_RANK: 0 - CUDA_VISIBLE_DEVICES: [0,1]\n"
     ]
    },
    {
     "name": "stdout",
     "output_type": "stream",
     "text": [
      "Predicting DataLoader 0: 100%|██████████| 92/92 [00:01<00:00, 78.49it/s]\n",
      "torch.Size([976, 2])\n",
      "#############################################\n",
      "#############################################\n",
      "final crps: 0.698142507132079\n",
      "#############################################\n",
      "#############################################\n"
     ]
    }
   ],
   "execution_count": 6
  },
  {
   "metadata": {},
   "cell_type": "markdown",
   "source": "## Permutation Importance",
   "id": "87a9670c857e9b31"
  },
  {
   "metadata": {},
   "cell_type": "code",
   "outputs": [],
   "execution_count": null,
   "source": [
    "# load t2m_labels, mu, sigma from csv\n",
    "# get feature_names and shuffle features\n",
    "# create graph with shuffled features\n",
    "# load into test_loader\n",
    "# evaluate ensemble by calcualting crps\n",
    "# save results in csv\n",
    "# Kann ich permutation importance auch auf edge features anwenden? => edge attributes shufflen?"
   ],
   "id": "f009813f94d7eeae"
  },
  {
   "metadata": {
    "ExecuteTime": {
     "end_time": "2025-04-22T15:33:02.730884Z",
     "start_time": "2025-04-22T15:33:02.721046Z"
    }
   },
   "cell_type": "code",
   "source": [
    "#  = dataframes['test_f'][0].columns.tolist() # - ['time', 'number']\n",
    "feature_names = [f for f in dataframes['test_f'][0].columns.tolist() if f not in ['time', 'number']] # dropped time and number: len - 65\n",
    "feature_names\n",
    "# len(feature_names)"
   ],
   "id": "e473930ea97c9491",
   "outputs": [
    {
     "data": {
      "text/plain": [
       "['station_id',\n",
       " 'model_orography',\n",
       " 'station_altitude',\n",
       " 'station_latitude',\n",
       " 'station_longitude',\n",
       " 'cape_mean',\n",
       " 'cape_std',\n",
       " 'sd_mean',\n",
       " 'sd_std',\n",
       " 'stl1_mean',\n",
       " 'stl1_std',\n",
       " 'swvl1_mean',\n",
       " 'swvl1_std',\n",
       " 't2m_mean',\n",
       " 't2m_std',\n",
       " 'tcc_mean',\n",
       " 'tcc_std',\n",
       " 'tcw_mean',\n",
       " 'tcw_std',\n",
       " 'tcwv_mean',\n",
       " 'tcwv_std',\n",
       " 'u10_mean',\n",
       " 'u10_std',\n",
       " 'u100_mean',\n",
       " 'u100_std',\n",
       " 'v10_mean',\n",
       " 'v10_std',\n",
       " 'v100_mean',\n",
       " 'v100_std',\n",
       " 'vis_mean',\n",
       " 'vis_std',\n",
       " 'cp6_mean',\n",
       " 'cp6_std',\n",
       " 'mn2t6_mean',\n",
       " 'mn2t6_std',\n",
       " 'mx2t6_mean',\n",
       " 'mx2t6_std',\n",
       " 'p10fg6_mean',\n",
       " 'p10fg6_std',\n",
       " 'slhf6_mean',\n",
       " 'slhf6_std',\n",
       " 'sshf6_mean',\n",
       " 'sshf6_std',\n",
       " 'ssr6_mean',\n",
       " 'ssr6_std',\n",
       " 'ssrd6_mean',\n",
       " 'ssrd6_std',\n",
       " 'str6_mean',\n",
       " 'str6_std',\n",
       " 'strd6_mean',\n",
       " 'strd6_std',\n",
       " 'tp6_mean',\n",
       " 'tp6_std',\n",
       " 'z_mean',\n",
       " 'z_std',\n",
       " 'q_mean',\n",
       " 'q_std',\n",
       " 'u_mean',\n",
       " 'u_std',\n",
       " 'v_mean',\n",
       " 'v_std',\n",
       " 't_mean',\n",
       " 't_std',\n",
       " 'cos_doy',\n",
       " 'sin_doy']"
      ]
     },
     "execution_count": 86,
     "metadata": {},
     "output_type": "execute_result"
    }
   ],
   "execution_count": 86
  },
  {
   "metadata": {
    "ExecuteTime": {
     "end_time": "2025-04-21T19:14:56.209861Z",
     "start_time": "2025-04-21T19:14:56.196831Z"
    }
   },
   "cell_type": "code",
   "source": [
    "graphs1_test_f[0].x[:,63]\n",
    "graphs1_test_f[100].x[:,63] # alle am gleichen Tag, daher alle gleich"
   ],
   "id": "1e363671e61cf91",
   "outputs": [
    {
     "data": {
      "text/plain": [
       "tensor([-0.1671, -0.1671, -0.1671, -0.1671, -0.1671, -0.1671, -0.1671, -0.1671,\n",
       "        -0.1671, -0.1671, -0.1671, -0.1671, -0.1671, -0.1671, -0.1671, -0.1671,\n",
       "        -0.1671, -0.1671, -0.1671, -0.1671, -0.1671, -0.1671, -0.1671, -0.1671,\n",
       "        -0.1671, -0.1671, -0.1671, -0.1671, -0.1671, -0.1671, -0.1671, -0.1671,\n",
       "        -0.1671, -0.1671, -0.1671, -0.1671, -0.1671, -0.1671, -0.1671, -0.1671,\n",
       "        -0.1671, -0.1671, -0.1671, -0.1671, -0.1671, -0.1671, -0.1671, -0.1671,\n",
       "        -0.1671, -0.1671, -0.1671, -0.1671, -0.1671, -0.1671, -0.1671, -0.1671,\n",
       "        -0.1671, -0.1671, -0.1671, -0.1671, -0.1671, -0.1671, -0.1671, -0.1671,\n",
       "        -0.1671, -0.1671, -0.1671, -0.1671, -0.1671, -0.1671, -0.1671, -0.1671,\n",
       "        -0.1671, -0.1671, -0.1671, -0.1671, -0.1671, -0.1671, -0.1671, -0.1671,\n",
       "        -0.1671, -0.1671, -0.1671, -0.1671, -0.1671, -0.1671, -0.1671, -0.1671,\n",
       "        -0.1671, -0.1671, -0.1671, -0.1671, -0.1671, -0.1671, -0.1671, -0.1671,\n",
       "        -0.1671, -0.1671, -0.1671, -0.1671, -0.1671, -0.1671, -0.1671, -0.1671,\n",
       "        -0.1671, -0.1671, -0.1671, -0.1671, -0.1671, -0.1671, -0.1671, -0.1671,\n",
       "        -0.1671, -0.1671, -0.1671, -0.1671, -0.1671, -0.1671, -0.1671, -0.1671,\n",
       "        -0.1671, -0.1671])"
      ]
     },
     "execution_count": 57,
     "metadata": {},
     "output_type": "execute_result"
    }
   ],
   "execution_count": 57
  },
  {
   "metadata": {
    "ExecuteTime": {
     "end_time": "2025-04-22T17:30:34.755589Z",
     "start_time": "2025-04-22T17:30:34.730371Z"
    }
   },
   "cell_type": "code",
   "source": "torch.Tensor(dataframes[f\"test_{data}\"][1][\"t2m\"]).unsqueeze(1).shape",
   "id": "66b0865f248fdd95",
   "outputs": [
    {
     "data": {
      "text/plain": [
       "torch.Size([89060, 1])"
      ]
     },
     "execution_count": 135,
     "metadata": {},
     "output_type": "execute_result"
    }
   ],
   "execution_count": 135
  },
  {
   "metadata": {
    "ExecuteTime": {
     "end_time": "2025-04-22T17:18:47.551113Z",
     "start_time": "2025-04-22T17:18:47.538499Z"
    }
   },
   "cell_type": "code",
   "source": [
    "def split_graph1(graph) -> List[torch_geometric.data.Data]:\n",
    "    \"\"\"Splits a graph which is created using 51 ensemble members into 5 subgraphs,\n",
    "    each containing 10 or 11 ensemble members.\n",
    "\n",
    "    Args:\n",
    "        graph (torch_geometric.data.Data): the graph to be split\n",
    "    \"\"\"\n",
    "    perm = torch.randperm(51) * 122  # First node of each ensemble member\n",
    "    index = perm[:, None] + torch.arange(122)  # Add the node indices to each ensemble member\n",
    "    print(index.shape)\n",
    "    set1 = index[:10]\n",
    "    set2 = index[10:20]\n",
    "    set3 = index[20:30]\n",
    "    set4 = index[30:40]\n",
    "    set5 = index[40:]  # Has 11 elements\n",
    "    print(set1.shape)\n",
    "    print(set1.flatten().shape)\n",
    "    sets = [\n",
    "        set1,\n",
    "        set2,\n",
    "        set3,\n",
    "        set4,\n",
    "        set5,\n",
    "    ]  # Each set contains a list of station indices corresponding to 10 (or 11) ensemble members\n",
    "    print(set1)\n",
    "    graphs = []\n",
    "    for s in sets:\n",
    "        graphs.append(graph.subgraph(s.flatten()))\n",
    "    return graphs"
   ],
   "id": "acb2dd575c2453a8",
   "outputs": [],
   "execution_count": 123
  },
  {
   "metadata": {
    "ExecuteTime": {
     "end_time": "2025-04-22T17:31:57.580130Z",
     "start_time": "2025-04-22T17:31:52.951714Z"
    }
   },
   "cell_type": "code",
   "source": [
    "# try for one feature first!!\n",
    "graphs1_test = graphs1_test_f\n",
    "feature_idx = [i for i, value in enumerate(feature_names) if value in ['station_altitude']]\n",
    "\n",
    "xs = [g.x for g in graphs1_test]\n",
    "\n",
    "xs = torch.stack(xs)\n",
    "\n",
    "xs_permuted = xs[..., feature_idx]\n",
    "xs_shuffled = shuffle_features(xs=xs, feature_permute_idx=feature_idx)\n",
    "graphs_test_shuffled = []\n",
    "\n",
    "\n",
    "i = 0\n",
    "for graph, shuffled_feature in zip(graphs1_test, xs_shuffled):\n",
    "    graph_copy = copy.deepcopy(graph)\n",
    "    graph_copy.x = shuffled_feature\n",
    "    graphs_test_shuffled.append(graph_copy) # len 732\n",
    "\n",
    "# split graphs if \"f\" because too many ensemble members # not used because we only use summary_statistics\n",
    "# if data_type == \"f\":\n",
    "#     graphs_split = [split_graph1(g) for g in graphs_test_shuffled] # for each of the 732 graphs split the graph in\n",
    "#     graphs_test_shuffled = [g for sublist in graphs_split for g in sublist]\n",
    "\n",
    "bs = 1 # if data_type == \"rf\" else 5\n",
    "shuffled_test_loader = DataLoader(graphs_test_shuffled, batch_size=bs, shuffle=False)\n",
    "\n",
    "preds = trainer.predict(model=multigraph, dataloaders=[shuffled_test_loader])\n",
    "\n",
    "# if data_type == \"f\":\n",
    "#     preds = [prediction.reshape(5, 122, 2).mean(axis=0) for prediction in preds]\n",
    "targets = dataframes[f\"test_{data}\"][1]\n",
    "targets = torch.tensor(targets.t2m.values) - 273.15\n",
    "\n",
    "print(f\"\\033[91m len(preds):{len(preds)} \\033[0m\")\n",
    "preds = torch.cat(preds, dim=0)\n",
    "print(f\"\\033[91m Preds.shape:{preds.shape} \\033[0m\")\n",
    "print(f\"\\033[91m Targets.shape:{targets.shape} \\033[0m\")\n",
    "res = multigraph.loss_fn.crps(preds, targets)\n",
    "score = res.item()\n",
    "\n",
    "print(f\"########### targets ############\\n{targets}\")\n",
    "print(f\"########### preds ############\\n{preds}\")\n",
    "print(f\"########### RES ############\\n{res}\")\n",
    "print(f\"########### SCORE ############\\n{score}\")"
   ],
   "id": "a089aa198e36174e",
   "outputs": [
    {
     "name": "stderr",
     "output_type": "stream",
     "text": [
      "LOCAL_RANK: 0 - CUDA_VISIBLE_DEVICES: [0,1]\n"
     ]
    },
    {
     "name": "stdout",
     "output_type": "stream",
     "text": [
      "Predicting DataLoader 0: 100%|██████████| 730/730 [00:04<00:00, 167.68it/s]\n",
      "\u001B[91m len(preds):730 \u001B[0m\n",
      "\u001B[91m Preds.shape:torch.Size([89060, 2]) \u001B[0m\n",
      "\u001B[91m Targets.shape:torch.Size([89060]) \u001B[0m\n",
      "########### targets ############\n",
      "tensor([ 5.5000,  2.1000,  6.6000,  ...,  3.2000, -2.5000, -4.3000],\n",
      "       dtype=torch.float64)\n",
      "########### preds ############\n",
      "tensor([[4.3365, 0.6600],\n",
      "        [1.1003, 0.6375],\n",
      "        [4.6257, 0.5853],\n",
      "        ...,\n",
      "        [4.7719, 1.0933],\n",
      "        [3.4884, 0.8844],\n",
      "        [0.2549, 0.8322]])\n",
      "########### RES ############\n",
      "0.862702886052042\n",
      "########### SCORE ############\n",
      "0.862702886052042\n"
     ]
    }
   ],
   "execution_count": 137
  },
  {
   "metadata": {
    "ExecuteTime": {
     "end_time": "2025-04-22T18:31:26.673999Z",
     "start_time": "2025-04-22T18:31:26.661519Z"
    }
   },
   "cell_type": "code",
   "source": [
    "values = feature_names\n",
    "grouped = []\n",
    "i = 0\n",
    "while i < len(values):\n",
    "    if values[i] == 'model_orography':\n",
    "        if i + 1 < len(values) and 'station_altitude' in values[i+1]:\n",
    "            grouped.append([values[i], values[i+1]])\n",
    "            i += 2\n",
    "        else:\n",
    "            grouped.append([values[i]])\n",
    "            i += 1\n",
    "    if values[i] == 'cos_doy':\n",
    "        if i + 1 < len(values) and 'sin_doy' in values[i+1]:\n",
    "            grouped.append([values[i], values[i+1]])\n",
    "            i += 2\n",
    "        else:\n",
    "            grouped.append([values[i]])\n",
    "            i += 1\n",
    "    elif i + 1 < len(values) and values[i+1] == values[i].replace('mean', 'std'):\n",
    "        grouped.append([values[i], values[i+1]])\n",
    "        i += 2\n",
    "    else:\n",
    "        grouped.append([values[i]])\n",
    "        i += 1\n",
    "\n",
    "print(grouped)"
   ],
   "id": "931bc4e8149a8d0f",
   "outputs": [
    {
     "name": "stdout",
     "output_type": "stream",
     "text": [
      "[['station_id'], ['model_orography', 'station_altitude'], ['station_latitude'], ['station_longitude'], ['cape_mean', 'cape_std'], ['sd_mean', 'sd_std'], ['stl1_mean', 'stl1_std'], ['swvl1_mean', 'swvl1_std'], ['t2m_mean', 't2m_std'], ['tcc_mean', 'tcc_std'], ['tcw_mean', 'tcw_std'], ['tcwv_mean', 'tcwv_std'], ['u10_mean', 'u10_std'], ['u100_mean', 'u100_std'], ['v10_mean', 'v10_std'], ['v100_mean', 'v100_std'], ['vis_mean', 'vis_std'], ['cp6_mean', 'cp6_std'], ['mn2t6_mean', 'mn2t6_std'], ['mx2t6_mean', 'mx2t6_std'], ['p10fg6_mean', 'p10fg6_std'], ['slhf6_mean', 'slhf6_std'], ['sshf6_mean', 'sshf6_std'], ['ssr6_mean', 'ssr6_std'], ['ssrd6_mean', 'ssrd6_std'], ['str6_mean', 'str6_std'], ['strd6_mean', 'strd6_std'], ['tp6_mean', 'tp6_std'], ['z_mean', 'z_std'], ['q_mean', 'q_std'], ['u_mean', 'u_std'], ['v_mean', 'v_std'], ['t_mean', 't_std'], ['cos_doy', 'sin_doy']]\n"
     ]
    }
   ],
   "execution_count": 160
  },
  {
   "metadata": {
    "ExecuteTime": {
     "end_time": "2025-04-22T18:34:18.147793Z",
     "start_time": "2025-04-22T18:31:44.286536Z"
    }
   },
   "cell_type": "code",
   "source": [
    "# try for all features (in pairs) - alt and orog, mean and std\n",
    "feature_list = grouped\n",
    "graphs1_test = graphs1_test_f\n",
    "\n",
    "rows = []\n",
    "\n",
    "for f_list in feature_list:\n",
    "    feature_idx = [i for i, value in enumerate(feature_names) if value in f_list]\n",
    "    xs = [g.x for g in graphs1_test]\n",
    "    xs = torch.stack(xs)\n",
    "\n",
    "    xs_permuted = xs[..., feature_idx]\n",
    "    xs_shuffled = shuffle_features(xs=xs, feature_permute_idx=feature_idx)\n",
    "    graphs_test_shuffled = []\n",
    "\n",
    "\n",
    "    i = 0\n",
    "    for graph, shuffled_feature in zip(graphs1_test, xs_shuffled):\n",
    "        graph_copy = copy.deepcopy(graph)\n",
    "        graph_copy.x = shuffled_feature\n",
    "        graphs_test_shuffled.append(graph_copy) # len 732\n",
    "\n",
    "    # split graphs if \"f\" because too many ensemble members # not used because we only use summary_statistics\n",
    "    # if data_type == \"f\":\n",
    "    #     graphs_split = [split_graph1(g) for g in graphs_test_shuffled] # for each of the 732 graphs split the graph in\n",
    "    #     graphs_test_shuffled = [g for sublist in graphs_split for g in sublist]\n",
    "\n",
    "    bs = 1 # if data_type == \"rf\" else 5\n",
    "    shuffled_test_loader = DataLoader(graphs_test_shuffled, batch_size=bs, shuffle=False)\n",
    "\n",
    "    preds = trainer.predict(model=multigraph, dataloaders=[shuffled_test_loader])\n",
    "\n",
    "    # if data_type == \"f\":\n",
    "    #     preds = [prediction.reshape(5, 122, 2).mean(axis=0) for prediction in preds]\n",
    "    targets = dataframes[f\"test_{data}\"][1]\n",
    "    targets = torch.tensor(targets.t2m.values) - 273.15\n",
    "\n",
    "    # print(f\"\\033[91m len(preds):{len(preds)} \\033[0m\")\n",
    "    preds = torch.cat(preds, dim=0)\n",
    "    # print(f\"\\033[91m Preds.shape:{preds.shape} \\033[0m\")\n",
    "    # print(f\"\\033[91m Targets.shape:{targets.shape} \\033[0m\")\n",
    "    res = multigraph.loss_fn.crps(preds, targets)\n",
    "    score = res.item()\n",
    "\n",
    "    rows.append({\n",
    "        'Feature': f_list,\n",
    "        'CRPS': score,\n",
    "    })\n",
    "stored_pi = pd.DataFrame(rows)\n",
    "print(stored_pi)"
   ],
   "id": "ab1eb9b4ec28a416",
   "outputs": [
    {
     "name": "stderr",
     "output_type": "stream",
     "text": [
      "LOCAL_RANK: 0 - CUDA_VISIBLE_DEVICES: [0,1]\n",
      "/home/ltchen/.conda/envs/gnn_env4/lib/python3.10/site-packages/pytorch_lightning/trainer/connectors/data_connector.py:424: The 'predict_dataloader' does not have many workers which may be a bottleneck. Consider increasing the value of the `num_workers` argument` to `num_workers=23` in the `DataLoader` to improve performance.\n"
     ]
    },
    {
     "name": "stdout",
     "output_type": "stream",
     "text": [
      "Predicting DataLoader 0: 100%|██████████| 730/730 [00:04<00:00, 171.96it/s]\n"
     ]
    },
    {
     "name": "stderr",
     "output_type": "stream",
     "text": [
      "LOCAL_RANK: 0 - CUDA_VISIBLE_DEVICES: [0,1]\n"
     ]
    },
    {
     "name": "stdout",
     "output_type": "stream",
     "text": [
      "Predicting DataLoader 0: 100%|██████████| 730/730 [00:04<00:00, 159.44it/s]\n"
     ]
    },
    {
     "name": "stderr",
     "output_type": "stream",
     "text": [
      "LOCAL_RANK: 0 - CUDA_VISIBLE_DEVICES: [0,1]\n"
     ]
    },
    {
     "name": "stdout",
     "output_type": "stream",
     "text": [
      "Predicting DataLoader 0: 100%|██████████| 730/730 [00:04<00:00, 158.15it/s]\n"
     ]
    },
    {
     "name": "stderr",
     "output_type": "stream",
     "text": [
      "LOCAL_RANK: 0 - CUDA_VISIBLE_DEVICES: [0,1]\n"
     ]
    },
    {
     "name": "stdout",
     "output_type": "stream",
     "text": [
      "Predicting DataLoader 0: 100%|██████████| 730/730 [00:04<00:00, 178.16it/s]\n"
     ]
    },
    {
     "name": "stderr",
     "output_type": "stream",
     "text": [
      "LOCAL_RANK: 0 - CUDA_VISIBLE_DEVICES: [0,1]\n"
     ]
    },
    {
     "name": "stdout",
     "output_type": "stream",
     "text": [
      "Predicting DataLoader 0: 100%|██████████| 730/730 [00:04<00:00, 162.41it/s]\n"
     ]
    },
    {
     "name": "stderr",
     "output_type": "stream",
     "text": [
      "LOCAL_RANK: 0 - CUDA_VISIBLE_DEVICES: [0,1]\n"
     ]
    },
    {
     "name": "stdout",
     "output_type": "stream",
     "text": [
      "Predicting DataLoader 0: 100%|██████████| 730/730 [00:04<00:00, 157.18it/s]\n"
     ]
    },
    {
     "name": "stderr",
     "output_type": "stream",
     "text": [
      "LOCAL_RANK: 0 - CUDA_VISIBLE_DEVICES: [0,1]\n"
     ]
    },
    {
     "name": "stdout",
     "output_type": "stream",
     "text": [
      "Predicting DataLoader 0: 100%|██████████| 730/730 [00:04<00:00, 168.34it/s]\n"
     ]
    },
    {
     "name": "stderr",
     "output_type": "stream",
     "text": [
      "LOCAL_RANK: 0 - CUDA_VISIBLE_DEVICES: [0,1]\n"
     ]
    },
    {
     "name": "stdout",
     "output_type": "stream",
     "text": [
      "Predicting DataLoader 0: 100%|██████████| 730/730 [00:04<00:00, 178.29it/s]\n"
     ]
    },
    {
     "name": "stderr",
     "output_type": "stream",
     "text": [
      "LOCAL_RANK: 0 - CUDA_VISIBLE_DEVICES: [0,1]\n"
     ]
    },
    {
     "name": "stdout",
     "output_type": "stream",
     "text": [
      "Predicting DataLoader 0: 100%|██████████| 730/730 [00:03<00:00, 183.52it/s]\n"
     ]
    },
    {
     "name": "stderr",
     "output_type": "stream",
     "text": [
      "LOCAL_RANK: 0 - CUDA_VISIBLE_DEVICES: [0,1]\n"
     ]
    },
    {
     "name": "stdout",
     "output_type": "stream",
     "text": [
      "Predicting DataLoader 0: 100%|██████████| 730/730 [00:04<00:00, 165.77it/s]\n"
     ]
    },
    {
     "name": "stderr",
     "output_type": "stream",
     "text": [
      "LOCAL_RANK: 0 - CUDA_VISIBLE_DEVICES: [0,1]\n"
     ]
    },
    {
     "name": "stdout",
     "output_type": "stream",
     "text": [
      "Predicting DataLoader 0: 100%|██████████| 730/730 [00:04<00:00, 168.15it/s]\n"
     ]
    },
    {
     "name": "stderr",
     "output_type": "stream",
     "text": [
      "LOCAL_RANK: 0 - CUDA_VISIBLE_DEVICES: [0,1]\n"
     ]
    },
    {
     "name": "stdout",
     "output_type": "stream",
     "text": [
      "Predicting DataLoader 0: 100%|██████████| 730/730 [00:03<00:00, 185.27it/s]\n"
     ]
    },
    {
     "name": "stderr",
     "output_type": "stream",
     "text": [
      "LOCAL_RANK: 0 - CUDA_VISIBLE_DEVICES: [0,1]\n"
     ]
    },
    {
     "name": "stdout",
     "output_type": "stream",
     "text": [
      "Predicting DataLoader 0: 100%|██████████| 730/730 [00:04<00:00, 178.93it/s]\n"
     ]
    },
    {
     "name": "stderr",
     "output_type": "stream",
     "text": [
      "LOCAL_RANK: 0 - CUDA_VISIBLE_DEVICES: [0,1]\n"
     ]
    },
    {
     "name": "stdout",
     "output_type": "stream",
     "text": [
      "Predicting DataLoader 0: 100%|██████████| 730/730 [00:04<00:00, 176.95it/s]\n"
     ]
    },
    {
     "name": "stderr",
     "output_type": "stream",
     "text": [
      "LOCAL_RANK: 0 - CUDA_VISIBLE_DEVICES: [0,1]\n"
     ]
    },
    {
     "name": "stdout",
     "output_type": "stream",
     "text": [
      "Predicting DataLoader 0: 100%|██████████| 730/730 [00:04<00:00, 166.15it/s]\n"
     ]
    },
    {
     "name": "stderr",
     "output_type": "stream",
     "text": [
      "LOCAL_RANK: 0 - CUDA_VISIBLE_DEVICES: [0,1]\n"
     ]
    },
    {
     "name": "stdout",
     "output_type": "stream",
     "text": [
      "Predicting DataLoader 0: 100%|██████████| 730/730 [00:03<00:00, 200.24it/s]\n"
     ]
    },
    {
     "name": "stderr",
     "output_type": "stream",
     "text": [
      "LOCAL_RANK: 0 - CUDA_VISIBLE_DEVICES: [0,1]\n"
     ]
    },
    {
     "name": "stdout",
     "output_type": "stream",
     "text": [
      "Predicting DataLoader 0: 100%|██████████| 730/730 [00:04<00:00, 177.16it/s]\n"
     ]
    },
    {
     "name": "stderr",
     "output_type": "stream",
     "text": [
      "LOCAL_RANK: 0 - CUDA_VISIBLE_DEVICES: [0,1]\n"
     ]
    },
    {
     "name": "stdout",
     "output_type": "stream",
     "text": [
      "Predicting DataLoader 0: 100%|██████████| 730/730 [00:04<00:00, 154.29it/s]\n"
     ]
    },
    {
     "name": "stderr",
     "output_type": "stream",
     "text": [
      "LOCAL_RANK: 0 - CUDA_VISIBLE_DEVICES: [0,1]\n"
     ]
    },
    {
     "name": "stdout",
     "output_type": "stream",
     "text": [
      "Predicting DataLoader 0: 100%|██████████| 730/730 [00:04<00:00, 153.71it/s]\n"
     ]
    },
    {
     "name": "stderr",
     "output_type": "stream",
     "text": [
      "LOCAL_RANK: 0 - CUDA_VISIBLE_DEVICES: [0,1]\n"
     ]
    },
    {
     "name": "stdout",
     "output_type": "stream",
     "text": [
      "Predicting DataLoader 0: 100%|██████████| 730/730 [00:04<00:00, 170.67it/s]\n"
     ]
    },
    {
     "name": "stderr",
     "output_type": "stream",
     "text": [
      "LOCAL_RANK: 0 - CUDA_VISIBLE_DEVICES: [0,1]\n"
     ]
    },
    {
     "name": "stdout",
     "output_type": "stream",
     "text": [
      "Predicting DataLoader 0: 100%|██████████| 730/730 [00:04<00:00, 158.41it/s]\n"
     ]
    },
    {
     "name": "stderr",
     "output_type": "stream",
     "text": [
      "LOCAL_RANK: 0 - CUDA_VISIBLE_DEVICES: [0,1]\n"
     ]
    },
    {
     "name": "stdout",
     "output_type": "stream",
     "text": [
      "Predicting DataLoader 0: 100%|██████████| 730/730 [00:04<00:00, 162.72it/s]\n"
     ]
    },
    {
     "name": "stderr",
     "output_type": "stream",
     "text": [
      "LOCAL_RANK: 0 - CUDA_VISIBLE_DEVICES: [0,1]\n"
     ]
    },
    {
     "name": "stdout",
     "output_type": "stream",
     "text": [
      "Predicting DataLoader 0: 100%|██████████| 730/730 [00:04<00:00, 157.59it/s]\n"
     ]
    },
    {
     "name": "stderr",
     "output_type": "stream",
     "text": [
      "LOCAL_RANK: 0 - CUDA_VISIBLE_DEVICES: [0,1]\n"
     ]
    },
    {
     "name": "stdout",
     "output_type": "stream",
     "text": [
      "Predicting DataLoader 0: 100%|██████████| 730/730 [00:04<00:00, 163.98it/s]\n"
     ]
    },
    {
     "name": "stderr",
     "output_type": "stream",
     "text": [
      "LOCAL_RANK: 0 - CUDA_VISIBLE_DEVICES: [0,1]\n"
     ]
    },
    {
     "name": "stdout",
     "output_type": "stream",
     "text": [
      "Predicting DataLoader 0: 100%|██████████| 730/730 [00:04<00:00, 178.21it/s]\n"
     ]
    },
    {
     "name": "stderr",
     "output_type": "stream",
     "text": [
      "LOCAL_RANK: 0 - CUDA_VISIBLE_DEVICES: [0,1]\n"
     ]
    },
    {
     "name": "stdout",
     "output_type": "stream",
     "text": [
      "Predicting DataLoader 0: 100%|██████████| 730/730 [00:04<00:00, 170.26it/s]\n"
     ]
    },
    {
     "name": "stderr",
     "output_type": "stream",
     "text": [
      "LOCAL_RANK: 0 - CUDA_VISIBLE_DEVICES: [0,1]\n"
     ]
    },
    {
     "name": "stdout",
     "output_type": "stream",
     "text": [
      "Predicting DataLoader 0: 100%|██████████| 730/730 [00:04<00:00, 170.43it/s]\n"
     ]
    },
    {
     "name": "stderr",
     "output_type": "stream",
     "text": [
      "LOCAL_RANK: 0 - CUDA_VISIBLE_DEVICES: [0,1]\n"
     ]
    },
    {
     "name": "stdout",
     "output_type": "stream",
     "text": [
      "Predicting DataLoader 0: 100%|██████████| 730/730 [00:04<00:00, 160.24it/s]\n"
     ]
    },
    {
     "name": "stderr",
     "output_type": "stream",
     "text": [
      "LOCAL_RANK: 0 - CUDA_VISIBLE_DEVICES: [0,1]\n"
     ]
    },
    {
     "name": "stdout",
     "output_type": "stream",
     "text": [
      "Predicting DataLoader 0: 100%|██████████| 730/730 [00:04<00:00, 161.49it/s]\n"
     ]
    },
    {
     "name": "stderr",
     "output_type": "stream",
     "text": [
      "LOCAL_RANK: 0 - CUDA_VISIBLE_DEVICES: [0,1]\n"
     ]
    },
    {
     "name": "stdout",
     "output_type": "stream",
     "text": [
      "Predicting DataLoader 0: 100%|██████████| 730/730 [00:04<00:00, 158.01it/s]\n"
     ]
    },
    {
     "name": "stderr",
     "output_type": "stream",
     "text": [
      "LOCAL_RANK: 0 - CUDA_VISIBLE_DEVICES: [0,1]\n"
     ]
    },
    {
     "name": "stdout",
     "output_type": "stream",
     "text": [
      "Predicting DataLoader 0: 100%|██████████| 730/730 [00:03<00:00, 191.95it/s]\n"
     ]
    },
    {
     "name": "stderr",
     "output_type": "stream",
     "text": [
      "LOCAL_RANK: 0 - CUDA_VISIBLE_DEVICES: [0,1]\n"
     ]
    },
    {
     "name": "stdout",
     "output_type": "stream",
     "text": [
      "Predicting DataLoader 0: 100%|██████████| 730/730 [00:04<00:00, 177.29it/s]\n"
     ]
    },
    {
     "name": "stderr",
     "output_type": "stream",
     "text": [
      "LOCAL_RANK: 0 - CUDA_VISIBLE_DEVICES: [0,1]\n"
     ]
    },
    {
     "name": "stdout",
     "output_type": "stream",
     "text": [
      "Predicting DataLoader 0: 100%|██████████| 730/730 [00:04<00:00, 173.36it/s]\n"
     ]
    },
    {
     "name": "stderr",
     "output_type": "stream",
     "text": [
      "LOCAL_RANK: 0 - CUDA_VISIBLE_DEVICES: [0,1]\n"
     ]
    },
    {
     "name": "stdout",
     "output_type": "stream",
     "text": [
      "Predicting DataLoader 0: 100%|██████████| 730/730 [00:04<00:00, 169.28it/s]\n",
      "                                Feature      CRPS\n",
      "0                          [station_id]  1.536439\n",
      "1   [model_orography, station_altitude]  0.918685\n",
      "2                    [station_latitude]  0.803999\n",
      "3                   [station_longitude]  0.723477\n",
      "4                 [cape_mean, cape_std]  0.677204\n",
      "5                     [sd_mean, sd_std]  0.693392\n",
      "6                 [stl1_mean, stl1_std]  0.943155\n",
      "7               [swvl1_mean, swvl1_std]  0.735921\n",
      "8                   [t2m_mean, t2m_std]  2.245292\n",
      "9                   [tcc_mean, tcc_std]  0.690027\n",
      "10                  [tcw_mean, tcw_std]  0.744246\n",
      "11                [tcwv_mean, tcwv_std]  0.735172\n",
      "12                  [u10_mean, u10_std]  0.721123\n",
      "13                [u100_mean, u100_std]  0.755403\n",
      "14                  [v10_mean, v10_std]  0.708698\n",
      "15                [v100_mean, v100_std]  0.711448\n",
      "16                  [vis_mean, vis_std]  0.692067\n",
      "17                  [cp6_mean, cp6_std]  0.690758\n",
      "18              [mn2t6_mean, mn2t6_std]  1.481368\n",
      "19              [mx2t6_mean, mx2t6_std]  1.322203\n",
      "20            [p10fg6_mean, p10fg6_std]  0.741300\n",
      "21              [slhf6_mean, slhf6_std]  0.709517\n",
      "22              [sshf6_mean, sshf6_std]  0.753545\n",
      "23                [ssr6_mean, ssr6_std]  0.686551\n",
      "24              [ssrd6_mean, ssrd6_std]  0.684248\n",
      "25                [str6_mean, str6_std]  0.710218\n",
      "26              [strd6_mean, strd6_std]  0.819354\n",
      "27                  [tp6_mean, tp6_std]  0.685804\n",
      "28                      [z_mean, z_std]  0.705723\n",
      "29                      [q_mean, q_std]  0.684244\n",
      "30                      [u_mean, u_std]  0.697744\n",
      "31                      [v_mean, v_std]  0.684702\n",
      "32                      [t_mean, t_std]  0.820388\n",
      "33                   [cos_doy, sin_doy]  0.715138\n"
     ]
    }
   ],
   "execution_count": 161
  },
  {
   "metadata": {
    "ExecuteTime": {
     "end_time": "2025-04-22T18:43:46.901653Z",
     "start_time": "2025-04-22T18:43:46.891143Z"
    }
   },
   "cell_type": "code",
   "source": "",
   "id": "9cca390c9236274c",
   "outputs": [
    {
     "data": {
      "text/plain": [
       "0.6755105734340946"
      ]
     },
     "execution_count": 169,
     "metadata": {},
     "output_type": "execute_result"
    }
   ],
   "execution_count": 169
  },
  {
   "metadata": {
    "ExecuteTime": {
     "end_time": "2025-04-22T18:43:56.415556Z",
     "start_time": "2025-04-22T18:43:56.410551Z"
    }
   },
   "cell_type": "code",
   "source": [
    "stored_pi.to_csv(os.path.join(RESULTPATH, f'leas_permutation_importance_{data_type}.csv'), index=False)\n",
    "crps_value = float([line for line in open(os.path.join(RESULTPATH, f\"{data}.txt\")) if line.startswith('Final crps:')][0].split(':')[1])\n"
   ],
   "id": "8bc39b68a1f29d5f",
   "outputs": [],
   "execution_count": 170
  },
  {
   "metadata": {
    "ExecuteTime": {
     "end_time": "2025-04-22T18:45:38.650676Z",
     "start_time": "2025-04-22T18:45:38.361302Z"
    }
   },
   "cell_type": "code",
   "source": [
    "sorted_stored_pi = stored_pi.sort_values(by='CRPS', ascending=False)\n",
    "sorted_stored_pi['Feature'] = sorted_stored_pi['Feature'].apply(lambda x: '-'.join(x) if isinstance(x, list) else str(x))\n",
    "sorted_stored_pi['Relative'] = (sorted_stored_pi['CRPS'] - crps_value)/ crps_value\n",
    "plt.figure(figsize=(10, 6))\n",
    "plt.bar(sorted_stored_pi['Feature'], sorted_stored_pi['Relative'])\n",
    "\n",
    "plt.xlabel('Feature')\n",
    "plt.ylabel('CRPS Score')\n",
    "plt.title('Feature Importance')\n",
    "plt.xticks(rotation=45, ha='right')  # Rotate x labels so they don't overlap\n",
    "plt.grid(axis='y')  # Horizontal grid lines\n",
    "plt.tight_layout()  # Fit everything nicely\n",
    "plt.show()"
   ],
   "id": "701668c8fca7a81",
   "outputs": [
    {
     "data": {
      "text/plain": [
       "<Figure size 1000x600 with 1 Axes>"
      ],
      "image/png": "[encoded data removed]"
     },
     "metadata": {},
     "output_type": "display_data"
    }
   ],
   "execution_count": 173
  },
  {
   "metadata": {},
   "cell_type": "markdown",
   "source": "## Shapley value",
   "id": "ddd39d3f83d3d331"
  },
  {
   "metadata": {},
   "cell_type": "code",
   "outputs": [],
   "execution_count": null,
   "source": "",
   "id": "7f25cdae5ee57dbe"
  }
 ],
 "metadata": {
  "kernelspec": {
   "display_name": "Python 3",
   "language": "python",
   "name": "python3"
  },
  "language_info": {
   "codemirror_mode": {
    "name": "ipython",
    "version": 2
   },
   "file_extension": ".py",
   "mimetype": "text/x-python",
   "name": "python",
   "nbconvert_exporter": "python",
   "pygments_lexer": "ipython2",
   "version": "2.7.6"
  }
 },
 "nbformat": 4,
 "nbformat_minor": 5
}
