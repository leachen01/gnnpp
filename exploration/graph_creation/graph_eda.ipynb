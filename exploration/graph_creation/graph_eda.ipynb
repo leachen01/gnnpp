{
 "cells": [
  {
   "cell_type": "code",
   "id": "initial_id",
   "metadata": {
    "collapsed": true,
    "ExecuteTime": {
     "end_time": "2025-04-11T23:07:09.069019Z",
     "start_time": "2025-04-11T23:07:09.045858Z"
    }
   },
   "source": [
    "%cd /home/ltchen/gnnpp\n",
    "import numpy as np\n",
    "import torch\n",
    "import matplotlib.pyplot as plt\n",
    "import torch_geometric.datasets as datasets\n",
    "import torch_geometric.data as data\n",
    "import torch_geometric.transforms as transforms\n",
    "import networkx as nx\n",
    "from torch_geometric.utils import to_networkx\n",
    "from scipy.interpolate import interp1d\n",
    "from utils.data import load_dataframes, load_distances, load_stations, dist_km, compute_dist_matrix, normalize_features_and_create_graphs, split_graph, shuffle_features, summary_statistics, get_mask, generate_layers, create_multigraph\n",
    "from tqdm import tqdm\n",
    "from utils.plot import plot_map\n",
    "from torch_geometric.utils import is_undirected, degree, contains_isolated_nodes\n",
    "from exploration.graph_creation import *"
   ],
   "outputs": [
    {
     "name": "stdout",
     "output_type": "stream",
     "text": [
      "/home/ltchen/gnnpp\n"
     ]
    }
   ],
   "execution_count": 2
  },
  {
   "metadata": {
    "ExecuteTime": {
     "end_time": "2025-04-12T00:50:50.624011Z",
     "start_time": "2025-04-12T00:50:49.866301Z"
    }
   },
   "cell_type": "code",
   "source": [
    "dataframes = load_dataframes(mode=\"eval\", leadtime= \"24h\") # load newly created dataframes\n",
    "# dataframes = summary_statistics(dataframes)\n",
    "\n",
    "train = dataframes[\"train\"][0]\n",
    "train_target = dataframes[\"train\"][1]\n",
    "test_rf = dataframes[\"test_rf\"][0]\n",
    "test_rf_target = dataframes[\"test_rf\"][1]\n",
    "test_f = dataframes[\"test_f\"][0]\n",
    "test_f_target = dataframes[\"test_f\"][1]\n",
    "stations = dataframes[\"stations\"]\n",
    "\n"
   ],
   "id": "ae6554565e4df98c",
   "outputs": [
    {
     "name": "stdout",
     "output_type": "stream",
     "text": [
      "[INFO] Dataframes exist. Will load pandas dataframes.\n"
     ]
    }
   ],
   "execution_count": 45
  },
  {
   "metadata": {
    "ExecuteTime": {
     "end_time": "2025-04-11T23:31:08.706740Z",
     "start_time": "2025-04-11T23:31:08.055842Z"
    }
   },
   "cell_type": "code",
   "source": "train.groupby([\"time\", \"station_id\"]).mean()[\"t2m\"]",
   "id": "319d202dce09bd3b",
   "outputs": [
    {
     "data": {
      "text/plain": [
       "time        station_id\n",
       "1997-01-02  0             279.183807\n",
       "            1             278.898285\n",
       "            2             278.370850\n",
       "            3             277.342896\n",
       "            4             278.731567\n",
       "                             ...    \n",
       "2013-12-31  117           279.406189\n",
       "            118           276.338898\n",
       "            119           273.782959\n",
       "            120           270.572021\n",
       "            121           268.595978\n",
       "Name: t2m, Length: 420656, dtype: float32"
      ]
     },
     "execution_count": 19,
     "metadata": {},
     "output_type": "execute_result"
    }
   ],
   "execution_count": 19
  },
  {
   "metadata": {
    "ExecuteTime": {
     "end_time": "2025-04-11T23:31:45.589369Z",
     "start_time": "2025-04-11T23:31:45.545180Z"
    }
   },
   "cell_type": "code",
   "source": "train[train[\"station_id\"] == 62].groupby([\"time\", \"station_id\"]).mean()[\"t2m\"]",
   "id": "cb851bb8accf20bb",
   "outputs": [
    {
     "data": {
      "text/plain": [
       "time        station_id\n",
       "1997-01-02  62            277.574585\n",
       "1997-01-05  62            276.621948\n",
       "1997-01-09  62            277.838745\n",
       "1997-01-12  62            276.268707\n",
       "1997-01-16  62            270.084106\n",
       "                             ...    \n",
       "2013-12-24  62            276.690155\n",
       "2013-12-25  62            273.750122\n",
       "2013-12-27  62            276.239288\n",
       "2013-12-28  62            271.843201\n",
       "2013-12-31  62            275.485107\n",
       "Name: t2m, Length: 3448, dtype: float32"
      ]
     },
     "execution_count": 20,
     "metadata": {},
     "output_type": "execute_result"
    }
   ],
   "execution_count": 20
  },
  {
   "metadata": {
    "ExecuteTime": {
     "end_time": "2025-04-12T00:46:20.110869Z",
     "start_time": "2025-04-12T00:46:20.103801Z"
    }
   },
   "cell_type": "code",
   "source": "stations.iloc[73]",
   "id": "7f0134b2b34f19ed",
   "outputs": [
    {
     "data": {
      "text/plain": [
       "station_id                5100\n",
       "lat                    49.7479\n",
       "lon                     6.6583\n",
       "altitude                 265.0\n",
       "orog                365.289857\n",
       "name          Trier-Petrisberg\n",
       "Name: 73, dtype: object"
      ]
     },
     "execution_count": 44,
     "metadata": {},
     "output_type": "execute_result"
    }
   ],
   "execution_count": 44
  },
  {
   "metadata": {
    "ExecuteTime": {
     "end_time": "2025-04-11T23:38:28.769364Z",
     "start_time": "2025-04-11T23:38:28.750116Z"
    }
   },
   "cell_type": "code",
   "source": [
    "print(f\"Number of NaN in t2m of station 62: \\n{train_target[train_target['station_id'] == 62].isna().sum()}\")\n",
    "print(f\"Number of total values of station 62: {train_target[train_target['station_id'] == 62].shape[0]}\\n\")\n",
    "\n",
    "print(f\"Number of NaN in t2m of station 74: \\n{train_target[train_target['station_id'] == 74].isna().sum()}\")\n",
    "print(f\"Number of total values of station 74: {train_target[train_target['station_id'] == 74].shape[0]}\")"
   ],
   "id": "acb1e0079ef9d541",
   "outputs": [
    {
     "name": "stdout",
     "output_type": "stream",
     "text": [
      "Number of NaN in t2m of station 62: \n",
      "time             0\n",
      "station_id       0\n",
      "t2m           3448\n",
      "dtype: int64\n",
      "Number of total values of station 62: 3448\n",
      "\n",
      "Number of NaN in t2m of station 74: \n",
      "time             0\n",
      "station_id       0\n",
      "t2m           3448\n",
      "dtype: int64\n",
      "Number of total values of station 74: 3448\n"
     ]
    }
   ],
   "execution_count": 33
  },
  {
   "metadata": {
    "ExecuteTime": {
     "end_time": "2025-04-11T23:22:05.911698Z",
     "start_time": "2025-04-11T23:22:05.903912Z"
    }
   },
   "cell_type": "code",
   "source": "d3mat = load_d3_distances(stations, train, train_target)",
   "id": "c33517c793b95f7c",
   "outputs": [
    {
     "name": "stdout",
     "output_type": "stream",
     "text": [
      "[INFO] Loading distances from file...\n"
     ]
    }
   ],
   "execution_count": 14
  },
  {
   "metadata": {
    "ExecuteTime": {
     "end_time": "2025-04-12T00:55:24.361482Z",
     "start_time": "2025-04-12T00:55:24.155393Z"
    }
   },
   "cell_type": "code",
   "source": [
    "# rounded = np.round(d3mat.flatten())\n",
    "rounded = d3mat.flatten()\n",
    "# Plotting the histogram\n",
    "plt.figure(figsize=(10, 6))\n",
    "plt.hist(rounded, edgecolor='black')\n",
    "plt.title('Histogram of Rounded Distance Values')\n",
    "plt.xlabel('Distance')\n",
    "plt.ylabel('Frequency')\n",
    "plt.grid(True)\n",
    "plt.show()"
   ],
   "id": "527c6c980889e0c1",
   "outputs": [
    {
     "data": {
      "text/plain": [
       "<Figure size 1000x600 with 1 Axes>"
      ],
      "image/png": "[encoded data removed]"
     },
     "metadata": {},
     "output_type": "display_data"
    }
   ],
   "execution_count": 48
  },
  {
   "metadata": {
    "ExecuteTime": {
     "end_time": "2025-04-11T23:22:08.268659Z",
     "start_time": "2025-04-11T23:22:08.259372Z"
    }
   },
   "cell_type": "code",
   "source": "np.unravel_index(np.argmax(d3mat), d3mat.shape)",
   "id": "95e4102dbf1733ca",
   "outputs": [
    {
     "data": {
      "text/plain": [
       "(62, 119)"
      ]
     },
     "execution_count": 15,
     "metadata": {},
     "output_type": "execute_result"
    }
   ],
   "execution_count": 15
  },
  {
   "metadata": {
    "ExecuteTime": {
     "end_time": "2025-04-11T23:26:07.191178Z",
     "start_time": "2025-04-11T23:23:06.067848Z"
    }
   },
   "cell_type": "code",
   "source": [
    "# check if get_emp_cdf works\n",
    "id = 62\n",
    "S = np.arange(-30,30, 1)\n",
    "i_train = train[train['station_id'] == id]\n",
    "i_target_temps = train_target[train_target['station_id'] == id]['t2m']\n",
    "print(i_train.shape)\n",
    "print(i_target_temps.shape)\n",
    "print(S.shape)\n",
    "# cdf_values = np.zeros(S.shape)\n",
    "# for idx, x in enumerate(S):\n",
    "#     value = create_emp_cdf_of_errors(i_train, i_target_temps)(x)\n",
    "#     cdf_values[idx] = value\n",
    "# print(cdf_values)\n",
    "# print(cdf_values.shape)\n",
    "\n",
    "cdfs = []\n",
    "\n",
    "for i_id in range(0, 122):\n",
    "    i_train = train[train['station_id'] == i_id]\n",
    "    i_target_temps = train_target[train_target['station_id'] == i_id]['t2m']\n",
    "    G_s = create_emp_cdf_of_errors(i_train, i_target_temps)\n",
    "    cdfs.append(G_s)\n",
    "list_of_all_G_i_values = []\n",
    "for G_i in tqdm(cdfs):\n",
    "    cdf_values = np.zeros(S.shape)\n",
    "    for idx, x in enumerate(S):\n",
    "        cdf_values[idx] = G_i(x)\n",
    "    # print(cdf_values)\n",
    "    list_of_all_G_i_values.append(cdf_values)\n",
    "    # print(len(list_of_all_G_i_values))\n",
    "\n",
    "\n",
    "print(all(f is cdfs[0] for f in cdfs))\n",
    "\n",
    "# plt.figure(figsize=(8, 4))\n",
    "# plt.step(S.T, cdf_values, where='post', label='Empirical CDF')\n",
    "# plt.title('Empirical CDF of Forecast Errors')\n",
    "# plt.xlabel('Error')\n",
    "# plt.ylabel('CDF')\n",
    "# plt.grid(True)\n",
    "# plt.legend()\n",
    "# plt.show()"
   ],
   "id": "cef2fdd5104dd76c",
   "outputs": [
    {
     "name": "stdout",
     "output_type": "stream",
     "text": [
      "(37928, 36)\n",
      "(3448,)\n",
      "(60,)\n"
     ]
    },
    {
     "name": "stderr",
     "output_type": "stream",
     "text": [
      "100%|██████████| 122/122 [02:58<00:00,  1.46s/it]"
     ]
    },
    {
     "name": "stdout",
     "output_type": "stream",
     "text": [
      "False\n"
     ]
    },
    {
     "name": "stderr",
     "output_type": "stream",
     "text": [
      "\n"
     ]
    }
   ],
   "execution_count": 17
  },
  {
   "metadata": {},
   "cell_type": "code",
   "outputs": [],
   "execution_count": null,
   "source": [
    "all(np.array_equal(list_of_all_G_i_values[0], arr) for arr in list_of_all_G_i_values)\n",
    "# print(list_of_all_G_i_values)\n",
    "print(np.sort(d3mat))\n",
    "print(np.argsort(d3mat))\n"
   ],
   "id": "637f83292b3e893f"
  },
  {
   "metadata": {},
   "cell_type": "code",
   "outputs": [],
   "execution_count": null,
   "source": [
    "plt.figure(figsize=(8, 4))\n",
    "plt.step(S.T, list_of_all_G_i_values[119], where='post', label='Empirical CDF')\n",
    "plt.title('Empirical CDF of Forecast Errors')\n",
    "plt.xlabel('Error')\n",
    "plt.ylabel('CDF')\n",
    "plt.grid(True)\n",
    "plt.legend()\n",
    "plt.show()"
   ],
   "id": "ecb85b089c13a634"
  },
  {
   "metadata": {},
   "cell_type": "code",
   "outputs": [],
   "execution_count": null,
   "source": [
    "for idx, array in enumerate(list_of_all_G_i_values):\n",
    "    if np.all(array == 0):\n",
    "        print(idx)\n"
   ],
   "id": "f2f4ec9528674fdb"
  },
  {
   "metadata": {},
   "cell_type": "code",
   "outputs": [],
   "execution_count": null,
   "source": [
    "graphs_train_rf, tests = normalize_features_and_create_graphs1(df_train=dataframes['train'], df_valid_test=[dataframes['test_rf'], dataframes['test_f']], station_df=dataframes['stations'], attributes=[\"geo\", \"alt\", \"lon\", \"lat\", \"dist2\"], edges=[(\"geo\", 100)], sum_stats = True)\n",
    "\n",
    "graphs_test_rf, graphs_test_f = tests\n",
    "graphs_test = graphs_test_rf"
   ],
   "id": "483865a95d4a4fb7"
  }
 ],
 "metadata": {
  "kernelspec": {
   "display_name": "Python 3",
   "language": "python",
   "name": "python3"
  },
  "language_info": {
   "codemirror_mode": {
    "name": "ipython",
    "version": 2
   },
   "file_extension": ".py",
   "mimetype": "text/x-python",
   "name": "python",
   "nbconvert_exporter": "python",
   "pygments_lexer": "ipython2",
   "version": "2.7.6"
  }
 },
 "nbformat": 4,
 "nbformat_minor": 5
}
