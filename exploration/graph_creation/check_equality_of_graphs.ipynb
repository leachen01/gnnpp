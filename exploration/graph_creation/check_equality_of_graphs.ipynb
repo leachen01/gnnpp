{
 "cells": [
  {
   "cell_type": "code",
   "id": "initial_id",
   "metadata": {
    "collapsed": true,
    "ExecuteTime": {
     "end_time": "2025-04-13T18:00:27.773922Z",
     "start_time": "2025-04-13T18:00:24.681895Z"
    }
   },
   "source": [
    "%cd /home/ltchen/gnnpp\n",
    "import sys\n",
    "import json\n",
    "from exploration.graph_creation import *\n",
    "from torch_geometric.loader import DataLoader\n",
    "from pytorch_lightning.callbacks import ModelCheckpoint\n",
    "from torch.optim import AdamW\n",
    "import wandb\n",
    "from pytorch_lightning.loggers import WandbLogger\n",
    "from utils.data import (\n",
    "    load_dataframes,\n",
    "    load_distances,\n",
    "    normalize_features_and_create_graphs,\n",
    "    rm_edges,\n",
    "    summary_statistics,\n",
    ")\n",
    "from models.graphensemble.multigraph import *"
   ],
   "outputs": [
    {
     "name": "stdout",
     "output_type": "stream",
     "text": [
      "/home/ltchen/gnnpp\n"
     ]
    }
   ],
   "execution_count": 1
  },
  {
   "metadata": {
    "ExecuteTime": {
     "end_time": "2025-04-13T18:11:31.324130Z",
     "start_time": "2025-04-13T18:11:31.319260Z"
    }
   },
   "cell_type": "code",
   "source": "PROJECTNAME = \"reproduce_gnn\"",
   "id": "1fc25940bdaa6a3e",
   "outputs": [],
   "execution_count": 11
  },
  {
   "metadata": {
    "ExecuteTime": {
     "end_time": "2025-04-13T18:00:27.783419Z",
     "start_time": "2025-04-13T18:00:27.779287Z"
    }
   },
   "cell_type": "code",
   "source": [
    "sys.path.insert(0, os.path.abspath(os.path.join(os.getcwd(), '..')))\n",
    "DIRECTORY = os.getcwd()\n",
    "SAVEPATH = os.path.join(DIRECTORY, \"explored_models/gnn_new_attr_24h/models\")\n",
    "JSONPATH = os.path.join(DIRECTORY, \"trained_models/best_24h/params.json\")"
   ],
   "id": "12226f102ec600be",
   "outputs": [],
   "execution_count": 2
  },
  {
   "metadata": {
    "ExecuteTime": {
     "end_time": "2025-04-13T18:00:28.879888Z",
     "start_time": "2025-04-13T18:00:28.862442Z"
    }
   },
   "cell_type": "code",
   "source": [
    "with open(JSONPATH, \"r\") as f:\n",
    "    print(f\"[INFO] Loading {JSONPATH}\")\n",
    "    args_dict = json.load(f)\n",
    "config = args_dict\n",
    "print(config)\n",
    "print(config['lr'])\n",
    "print(config['max_dist'])\n",
    "print(type(config))\n",
    "print(type(config['lr']))\n",
    "print(type(config['gnn_hidden']))\n",
    "'''{\"batch_size\":8,\n",
    "\"gnn_hidden\":265,\n",
    "\"gnn_layers\":2,\n",
    "\"heads\":8,\n",
    "\"lr\":0.0002,\n",
    "\"max_dist\":100,\n",
    "\"max_epochs\": 31}'''"
   ],
   "id": "d7c44d07c4d68a02",
   "outputs": [
    {
     "name": "stdout",
     "output_type": "stream",
     "text": [
      "[INFO] Loading /home/ltchen/gnnpp/trained_models/best_24h/params.json\n",
      "{'batch_size': 8, 'gnn_hidden': 265, 'gnn_layers': 2, 'heads': 8, 'lr': 0.0002, 'max_dist': 100, 'max_epochs': 31}\n",
      "0.0002\n",
      "100\n",
      "<class 'dict'>\n",
      "<class 'float'>\n",
      "<class 'int'>\n"
     ]
    },
    {
     "data": {
      "text/plain": [
       "'{\"batch_size\":8,\\n\"gnn_hidden\":265,\\n\"gnn_layers\":2,\\n\"heads\":8,\\n\"lr\":0.0002,\\n\"max_dist\":100,\\n\"max_epochs\": 31}'"
      ]
     },
     "execution_count": 3,
     "metadata": {},
     "output_type": "execute_result"
    }
   ],
   "execution_count": 3
  },
  {
   "metadata": {
    "ExecuteTime": {
     "end_time": "2025-04-13T18:01:23.758204Z",
     "start_time": "2025-04-13T18:00:30.775276Z"
    }
   },
   "cell_type": "code",
   "source": [
    "dataframes = load_dataframes(mode=\"eval\", leadtime= \"24h\") # load newly created dataframes\n",
    "dataframes = summary_statistics(dataframes)\n",
    "dist = load_distances(dataframes[\"stations\"])\n",
    "\n",
    "\n",
    "#self-created\n",
    "l_graphs_train_rf, l_tests = normalize_features_and_create_graphs1(df_train=dataframes['train'], df_valid_test=[dataframes['test_rf'], dataframes['test_f']], station_df=dataframes['stations'], attributes=[\"geo\"], edges=[(\"geo\", 100)], sum_stats = True)\n",
    "\n",
    "l_graphs_test_rf, l_graphs_test_f = l_tests\n",
    "\n",
    "l_graphs_test = l_graphs_test_rf\n",
    "\n",
    "#moritz\n",
    "m_graphs_train_rf, m_tests = normalize_features_and_create_graphs(\n",
    "    training_data=dataframes[\"train\"],\n",
    "    valid_test_data=[dataframes[\"test_rf\"], dataframes[\"test_f\"]],\n",
    "    mat=dist,\n",
    "    max_dist=config['max_dist'],\n",
    ")\n",
    "m_graphs_test_rf, m_graphs_test_f = m_tests\n",
    "\n",
    "m_graphs_test = m_graphs_test_rf\n",
    "\n",
    "# print(graphs_test_rf[0].x.shape) (1342, 36)\n",
    "\n"
   ],
   "id": "d0a9cb7c5d611edd",
   "outputs": [
    {
     "name": "stdout",
     "output_type": "stream",
     "text": [
      "[INFO] Dataframes exist. Will load pandas dataframes.\n",
      "[INFO] Calculating summary statistics for train\n",
      "[INFO] Calculating summary statistics for test_rf\n",
      "[INFO] Calculating summary statistics for test_f\n",
      "[INFO] Loading distances from file...\n",
      "[INFO] Normalizing features...\n",
      "fit_transform\n",
      "transform 1\n",
      "transform 2\n",
      "[INFO] Converting temperature values...\n"
     ]
    },
    {
     "name": "stderr",
     "output_type": "stream",
     "text": [
      "100%|██████████| 3448/3448 [00:16<00:00, 204.35it/s]\n",
      "100%|██████████| 732/732 [00:02<00:00, 271.53it/s]\n",
      "100%|██████████| 730/730 [00:02<00:00, 254.49it/s]\n"
     ]
    },
    {
     "name": "stdout",
     "output_type": "stream",
     "text": [
      "[INFO] Normalizing features...\n",
      "[INFO] Creating graph data...\n"
     ]
    }
   ],
   "execution_count": 4
  },
  {
   "metadata": {
    "ExecuteTime": {
     "end_time": "2025-04-13T18:01:23.768193Z",
     "start_time": "2025-04-13T18:01:23.764293Z"
    }
   },
   "cell_type": "code",
   "source": [
    "l_train_loader = DataLoader(l_graphs_train_rf, batch_size=config['batch_size'], shuffle=True)\n",
    "m_train_loader = DataLoader(m_graphs_train_rf, batch_size=config['batch_size'], shuffle=True)"
   ],
   "id": "bfb4323d09814ddd",
   "outputs": [],
   "execution_count": 5
  },
  {
   "metadata": {
    "ExecuteTime": {
     "end_time": "2025-04-13T18:01:29.931794Z",
     "start_time": "2025-04-13T18:01:29.912654Z"
    }
   },
   "cell_type": "code",
   "source": [
    "print(l_graphs_train_rf[0])\n",
    "print(m_graphs_train_rf[0])\n",
    "\n",
    "graph1 = l_graphs_train_rf[0]\n",
    "graph2 = m_graphs_train_rf[0]\n",
    "\n",
    "print(type(graph1))\n",
    "print(type(graph2))\n",
    "comparison = np.array(graph1.x) == np.array(graph2.x)\n",
    "diff_indices = np.where(comparison == False)[0]\n",
    "print(np.array(graph1.x) ==np.array(graph2.x))\n",
    "print(diff_indices)\n",
    "print(\"a[diff]:\", graph1.x[diff_indices])\n",
    "print(\"b[diff]:\", graph2.x[diff_indices])\n",
    "print(np.allclose(graph1.x, graph2.x, atol=1e-1))"
   ],
   "id": "370b4c2785f24366",
   "outputs": [
    {
     "name": "stdout",
     "output_type": "stream",
     "text": [
      "Data(x=[122, 65], edge_index=[2, 1420], edge_attr=[1420, 1], y=[122, 1], pos=[122, 2], timestamp=1997-01-02 00:00:00, n_idx=[122])\n",
      "Data(x=[122, 65], edge_index=[2, 1420], edge_attr=[1420, 1], y=[122], timestamp=1997-01-02 00:00:00, n_idx=[122])\n",
      "<class 'torch_geometric.data.data.Data'>\n",
      "<class 'torch_geometric.data.data.Data'>\n",
      "[[ True  True  True ...  True  True  True]\n",
      " [ True  True  True ...  True  True  True]\n",
      " [ True  True  True ...  True  True  True]\n",
      " ...\n",
      " [ True  True  True ...  True  True  True]\n",
      " [ True  True  True ...  True  True  True]\n",
      " [ True  True  True ...  True  True  True]]\n",
      "[  1   4   8  12  13  13  14  15  15  16  17  21  27  30  30  30  31  32\n",
      "  33  34  34  34  35  35  35  36  36  37  38  39  40  40  41  41  42  42\n",
      "  43  43  43  43  44  44  44  44  45  47  47  48  48  49  50  51  51  52\n",
      "  55  56  56  56  56  57  59  60  61  61  62  62  63  63  66  67  67  68\n",
      "  69  70  70  71  71  72  73  73  74  74  74  75  76  77  77  77  78  78\n",
      "  79  80  83  84  88  89  90  91  92  93  94  94  95  95  96  97  98  99\n",
      " 100 101 102 103 103 105 106 107 108 109 111 112 114 115 118 118 118 119]\n",
      "a[diff]: tensor([[ 1.0000e+00, -7.3700e-01, -7.7860e-01,  ...,  1.5635e+00,\n",
      "          9.9941e-01,  3.4422e-02],\n",
      "        [ 4.0000e+00, -7.2477e-01, -7.6185e-01,  ...,  7.8820e-01,\n",
      "          9.9941e-01,  3.4422e-02],\n",
      "        [ 8.0000e+00, -7.4634e-01, -7.7860e-01,  ...,  2.5018e-01,\n",
      "          9.9941e-01,  3.4422e-02],\n",
      "        ...,\n",
      "        [ 1.1800e+02,  1.4431e+00,  5.9812e-01,  ..., -5.4229e-01,\n",
      "          9.9941e-01,  3.4422e-02],\n",
      "        [ 1.1800e+02,  1.4431e+00,  5.9812e-01,  ..., -5.4229e-01,\n",
      "          9.9941e-01,  3.4422e-02],\n",
      "        [ 1.1900e+02,  2.3386e+00,  6.4645e-01,  ..., -6.1813e-01,\n",
      "          9.9941e-01,  3.4422e-02]])\n",
      "b[diff]: tensor([[ 1.0000e+00, -7.3700e-01, -7.7860e-01,  ...,  1.5635e+00,\n",
      "          9.9941e-01,  3.4422e-02],\n",
      "        [ 4.0000e+00, -7.2477e-01, -7.6185e-01,  ...,  7.8820e-01,\n",
      "          9.9941e-01,  3.4422e-02],\n",
      "        [ 8.0000e+00, -7.4634e-01, -7.7860e-01,  ...,  2.5018e-01,\n",
      "          9.9941e-01,  3.4422e-02],\n",
      "        ...,\n",
      "        [ 1.1800e+02,  1.4431e+00,  5.9812e-01,  ..., -5.4229e-01,\n",
      "          9.9941e-01,  3.4422e-02],\n",
      "        [ 1.1800e+02,  1.4431e+00,  5.9812e-01,  ..., -5.4229e-01,\n",
      "          9.9941e-01,  3.4422e-02],\n",
      "        [ 1.1900e+02,  2.3386e+00,  6.4645e-01,  ..., -6.1813e-01,\n",
      "          9.9941e-01,  3.4422e-02]])\n",
      "True\n"
     ]
    }
   ],
   "execution_count": 7
  },
  {
   "metadata": {
    "ExecuteTime": {
     "end_time": "2025-04-13T18:01:43.148796Z",
     "start_time": "2025-04-13T18:01:43.143097Z"
    }
   },
   "cell_type": "code",
   "source": [
    "emb_dim=20\n",
    "# edge_dim=l_graphs_test_f[0].num_edge_features\n",
    "edge_dim = 1\n",
    "in_channels = m_graphs_train_rf[0].x.shape[1] + emb_dim - 1"
   ],
   "id": "18ffc00f4461ac56",
   "outputs": [],
   "execution_count": 8
  },
  {
   "metadata": {
    "ExecuteTime": {
     "end_time": "2025-04-13T18:18:55.596949Z",
     "start_time": "2025-04-13T18:11:43.984686Z"
    }
   },
   "cell_type": "code",
   "source": [
    "with wandb.init(\n",
    "    project=PROJECTNAME, id=f\"training_run_24h\", config=args_dict, tags=[\"final_training\"], reinit=True\n",
    "):\n",
    "    config = wandb.config\n",
    "\n",
    "    multigraph = Multigraph(\n",
    "        embedding_dim=emb_dim,\n",
    "        # edge_dim=edge_dim,\n",
    "        in_channels=in_channels,\n",
    "        hidden_channels_gnn=config['gnn_hidden'],\n",
    "        out_channels_gnn=config['gnn_hidden'],\n",
    "        num_layers_gnn=config['gnn_layers'],\n",
    "        heads=config['heads'],\n",
    "        hidden_channels_deepset=config['gnn_hidden'],\n",
    "        optimizer_class=AdamW,\n",
    "        optimizer_params=dict(lr=config['lr']),\n",
    "    )\n",
    "    torch.compile(multigraph)\n",
    "\n",
    "    # understand what this is\n",
    "    batch = next(iter(m_train_loader))\n",
    "    # batch = batch  # .to(\"cuda\")\n",
    "    # multigraph  # .to(\"cuda\")\n",
    "    multigraph.forward(batch)\n",
    "\n",
    "    wandb_logger = WandbLogger(project=PROJECTNAME)\n",
    "    checkpoint_callback = ModelCheckpoint(\n",
    "        dirpath=SAVEPATH, filename=f\"run_24h\", monitor=\"train_loss\", mode=\"min\", save_top_k=1\n",
    "    )\n",
    "\n",
    "    # print(\"[INFO] Training model...\")\n",
    "    trainer = L.Trainer(\n",
    "        max_epochs=config['max_epochs'],\n",
    "        log_every_n_steps=1,\n",
    "        accelerator=\"gpu\",\n",
    "        devices=1,\n",
    "        enable_progress_bar=True,\n",
    "        logger=wandb_logger,\n",
    "        callbacks=checkpoint_callback,\n",
    "    )\n",
    "\n",
    "    trainer.fit(model=multigraph, train_dataloaders=m_train_loader) # trainer speichern und entweder neuladen oder\n",
    "wandb.finish()"
   ],
   "id": "4c9b0c897e513a09",
   "outputs": [
    {
     "data": {
      "text/plain": [
       "<IPython.core.display.HTML object>"
      ],
      "text/html": [
       "Tracking run with wandb version 0.19.6"
      ]
     },
     "metadata": {},
     "output_type": "display_data"
    },
    {
     "data": {
      "text/plain": [
       "<IPython.core.display.HTML object>"
      ],
      "text/html": [
       "Run data is saved locally in <code>/home/ltchen/gnnpp/wandb/run-20250413_201143-training_run_24h</code>"
      ]
     },
     "metadata": {},
     "output_type": "display_data"
    },
    {
     "data": {
      "text/plain": [
       "<IPython.core.display.HTML object>"
      ],
      "text/html": [
       "Syncing run <strong><a href='https://wandb.ai/leachen_thesis/reproduce_gnn/runs/training_run_24h' target=\"_blank\">training_run_24h</a></strong> to <a href='https://wandb.ai/leachen_thesis/reproduce_gnn' target=\"_blank\">Weights & Biases</a> (<a href='https://wandb.me/developer-guide' target=\"_blank\">docs</a>)<br>"
      ]
     },
     "metadata": {},
     "output_type": "display_data"
    },
    {
     "data": {
      "text/plain": [
       "<IPython.core.display.HTML object>"
      ],
      "text/html": [
       " View project at <a href='https://wandb.ai/leachen_thesis/reproduce_gnn' target=\"_blank\">https://wandb.ai/leachen_thesis/reproduce_gnn</a>"
      ]
     },
     "metadata": {},
     "output_type": "display_data"
    },
    {
     "data": {
      "text/plain": [
       "<IPython.core.display.HTML object>"
      ],
      "text/html": [
       " View run at <a href='https://wandb.ai/leachen_thesis/reproduce_gnn/runs/training_run_24h' target=\"_blank\">https://wandb.ai/leachen_thesis/reproduce_gnn/runs/training_run_24h</a>"
      ]
     },
     "metadata": {},
     "output_type": "display_data"
    },
    {
     "name": "stderr",
     "output_type": "stream",
     "text": [
      "GPU available: True (cuda), used: True\n",
      "TPU available: False, using: 0 TPU cores\n",
      "HPU available: False, using: 0 HPUs\n",
      "/home/ltchen/.conda/envs/gnn_env4/lib/python3.10/site-packages/pytorch_lightning/trainer/configuration_validator.py:70: You defined a `validation_step` but have no `val_dataloader`. Skipping val loop.\n",
      "/home/ltchen/.conda/envs/gnn_env4/lib/python3.10/site-packages/pytorch_lightning/loggers/wandb.py:396: There is a wandb run already in progress and newly created instances of `WandbLogger` will reuse this run. If this is not desired, call `wandb.finish()` before instantiating `WandbLogger`.\n",
      "/home/ltchen/.conda/envs/gnn_env4/lib/python3.10/site-packages/pytorch_lightning/callbacks/model_checkpoint.py:654: Checkpoint directory /home/ltchen/gnnpp/explored_models/gnn_new_attr_24h/models exists and is not empty.\n",
      "LOCAL_RANK: 0 - CUDA_VISIBLE_DEVICES: [0,1]\n",
      "\n",
      "  | Name        | Type              | Params | Mode \n",
      "----------------------------------------------------------\n",
      "0 | encoder     | EmbedStations     | 2.4 K  | train\n",
      "1 | conv        | ResGnn            | 9.9 M  | train\n",
      "2 | aggr        | DeepSetAggregator | 212 K  | train\n",
      "3 | postprocess | MakePositive      | 0      | train\n",
      "4 | loss_fn     | NormalCRPS        | 0      | train\n",
      "----------------------------------------------------------\n",
      "10.1 M    Trainable params\n",
      "0         Non-trainable params\n",
      "10.1 M    Total params\n",
      "40.571    Total estimated model params size (MB)\n",
      "24        Modules in train mode\n",
      "0         Modules in eval mode\n",
      "/home/ltchen/.conda/envs/gnn_env4/lib/python3.10/site-packages/pytorch_lightning/trainer/connectors/data_connector.py:424: The 'train_dataloader' does not have many workers which may be a bottleneck. Consider increasing the value of the `num_workers` argument` to `num_workers=23` in the `DataLoader` to improve performance.\n"
     ]
    },
    {
     "name": "stdout",
     "output_type": "stream",
     "text": [
      "Epoch 30: 100%|██████████| 431/431 [00:13<00:00, 31.56it/s, v_num=_24h, train_loss_step=2.170, train_loss_epoch=1.360]"
     ]
    },
    {
     "name": "stderr",
     "output_type": "stream",
     "text": [
      "`Trainer.fit` stopped: `max_epochs=31` reached.\n"
     ]
    },
    {
     "name": "stdout",
     "output_type": "stream",
     "text": [
      "Epoch 30: 100%|██████████| 431/431 [00:13<00:00, 30.91it/s, v_num=_24h, train_loss_step=2.170, train_loss_epoch=1.360]\n"
     ]
    },
    {
     "data": {
      "text/plain": [
       "<IPython.core.display.HTML object>"
      ],
      "text/html": []
     },
     "metadata": {},
     "output_type": "display_data"
    },
    {
     "data": {
      "text/plain": [
       "<IPython.core.display.HTML object>"
      ],
      "text/html": [
       "<br>    <style><br>        .wandb-row {<br>            display: flex;<br>            flex-direction: row;<br>            flex-wrap: wrap;<br>            justify-content: flex-start;<br>            width: 100%;<br>        }<br>        .wandb-col {<br>            display: flex;<br>            flex-direction: column;<br>            flex-basis: 100%;<br>            flex: 1;<br>            padding: 10px;<br>        }<br>    </style><br><div class=\"wandb-row\"><div class=\"wandb-col\"><h3>Run history:</h3><br/><table class=\"wandb\"><tr><td>epoch</td><td>▁▁▁▁▁▁▁▁▁▁▂▂▂▂▂▂▂▂▂▂▃▃▄▄▄▅▅▅▅▆▆▆▇▇▇▇▇▇██</td></tr><tr><td>train_loss_epoch</td><td>█▂▁▁▁▁▁▁▁▁▁▁▁▁▁▁▁▁▁▁▁▁▁▁▁▁▁▁▁▁▁</td></tr><tr><td>train_loss_step</td><td>█▄▃▃▂▂▁▂▁▁▁▂▁▂▁▂▁▁▂▁▁▂▂▁▁▂▂▂▁▁▁▁▁▁▂▂▁▁▁▁</td></tr><tr><td>trainer/global_step</td><td>▁▁▁▂▂▂▂▃▃▃▃▄▄▄▄▅▅▅▅▅▅▅▆▆▆▆▆▆▆▆▇▇▇▇▇▇▇▇██</td></tr></table><br/></div><div class=\"wandb-col\"><h3>Run summary:</h3><br/><table class=\"wandb\"><tr><td>epoch</td><td>30</td></tr><tr><td>train_loss_epoch</td><td>1.3614</td></tr><tr><td>train_loss_step</td><td>2.17139</td></tr><tr><td>trainer/global_step</td><td>13360</td></tr></table><br/></div></div>"
      ]
     },
     "metadata": {},
     "output_type": "display_data"
    },
    {
     "data": {
      "text/plain": [
       "<IPython.core.display.HTML object>"
      ],
      "text/html": [
       " View run <strong style=\"color:#cdcd00\">training_run_24h</strong> at: <a href='https://wandb.ai/leachen_thesis/reproduce_gnn/runs/training_run_24h' target=\"_blank\">https://wandb.ai/leachen_thesis/reproduce_gnn/runs/training_run_24h</a><br> View project at: <a href='https://wandb.ai/leachen_thesis/reproduce_gnn' target=\"_blank\">https://wandb.ai/leachen_thesis/reproduce_gnn</a><br>Synced 5 W&B file(s), 0 media file(s), 0 artifact file(s) and 0 other file(s)"
      ]
     },
     "metadata": {},
     "output_type": "display_data"
    },
    {
     "data": {
      "text/plain": [
       "<IPython.core.display.HTML object>"
      ],
      "text/html": [
       "Find logs at: <code>./wandb/run-20250413_201143-training_run_24h/logs</code>"
      ]
     },
     "metadata": {},
     "output_type": "display_data"
    }
   ],
   "execution_count": 12
  },
  {
   "metadata": {
    "ExecuteTime": {
     "end_time": "2025-04-13T15:07:29.437043Z",
     "start_time": "2025-04-13T15:07:29.427325Z"
    }
   },
   "cell_type": "code",
   "source": [
    "emb_dim=20\n",
    "# edge_dim=l_graphs_test_f[0].num_edge_features\n",
    "edge_dim = 1\n",
    "in_channels = m_graphs_train_rf[0].x.shape[1] + emb_dim - 1"
   ],
   "id": "9aec188ee5531ab6",
   "outputs": [
    {
     "data": {
      "text/plain": [
       "tensor([[ 0.0000e+00, -7.3829e-01, -7.6410e-01,  ...,  6.1836e-01,\n",
       "          9.9941e-01,  3.4422e-02],\n",
       "        [ 1.0000e+00, -7.3700e-01, -7.7860e-01,  ...,  1.5635e+00,\n",
       "          9.9941e-01,  3.4422e-02],\n",
       "        [ 2.0000e+00, -7.3185e-01, -7.3317e-01,  ...,  7.6520e-01,\n",
       "          9.9941e-01,  3.4422e-02],\n",
       "        ...,\n",
       "        [ 1.1900e+02,  2.3386e+00,  6.4645e-01,  ..., -6.1813e-01,\n",
       "          9.9941e-01,  3.4422e-02],\n",
       "        [ 1.2000e+02,  4.7996e+00,  3.9940e+00,  ..., -6.0907e-01,\n",
       "          9.9941e-01,  3.4422e-02],\n",
       "        [ 1.2100e+02,  5.9139e+00,  4.3452e+00,  ..., -4.7565e-01,\n",
       "          9.9941e-01,  3.4422e-02]])"
      ]
     },
     "execution_count": 20,
     "metadata": {},
     "output_type": "execute_result"
    }
   ],
   "execution_count": 20
  },
  {
   "metadata": {
    "ExecuteTime": {
     "end_time": "2025-04-13T15:03:49.843928Z",
     "start_time": "2025-04-13T15:03:49.799315Z"
    }
   },
   "cell_type": "code",
   "source": "",
   "id": "24ef7ea4b69a006f",
   "outputs": [
    {
     "ename": "TypeError",
     "evalue": "'method' object is not iterable",
     "output_type": "error",
     "traceback": [
      "\u001B[0;31m---------------------------------------------------------------------------\u001B[0m",
      "\u001B[0;31mTypeError\u001B[0m                                 Traceback (most recent call last)",
      "Cell \u001B[0;32mIn[16], line 1\u001B[0m\n\u001B[0;32m----> 1\u001B[0m \u001B[43mcompare_data_ignore_extra_keys\u001B[49m\u001B[43m(\u001B[49m\u001B[43mgraph1\u001B[49m\u001B[43m,\u001B[49m\u001B[43m \u001B[49m\u001B[43mgraph2\u001B[49m\u001B[43m)\u001B[49m\n",
      "Cell \u001B[0;32mIn[11], line 22\u001B[0m, in \u001B[0;36mcompare_data_ignore_extra_keys\u001B[0;34m(data1, data2, tol)\u001B[0m\n\u001B[1;32m     21\u001B[0m \u001B[38;5;28;01mdef\u001B[39;00m\u001B[38;5;250m \u001B[39m\u001B[38;5;21mcompare_data_ignore_extra_keys\u001B[39m(data1, data2, tol\u001B[38;5;241m=\u001B[39m\u001B[38;5;241m1e-6\u001B[39m):\n\u001B[0;32m---> 22\u001B[0m     keys_to_compare \u001B[38;5;241m=\u001B[39m \u001B[38;5;28;43mset\u001B[39;49m\u001B[43m(\u001B[49m\u001B[43mdata1\u001B[49m\u001B[38;5;241;43m.\u001B[39;49m\u001B[43mkeys\u001B[49m\u001B[43m)\u001B[49m\u001B[38;5;241m.\u001B[39mintersection(\u001B[38;5;28mset\u001B[39m(data2\u001B[38;5;241m.\u001B[39mkeys))\n\u001B[1;32m     24\u001B[0m     all_match \u001B[38;5;241m=\u001B[39m \u001B[38;5;28;01mTrue\u001B[39;00m\n\u001B[1;32m     25\u001B[0m     \u001B[38;5;28;01mfor\u001B[39;00m key \u001B[38;5;129;01min\u001B[39;00m keys_to_compare:\n",
      "\u001B[0;31mTypeError\u001B[0m: 'method' object is not iterable"
     ]
    }
   ],
   "execution_count": 16
  }
 ],
 "metadata": {
  "kernelspec": {
   "display_name": "Python 3",
   "language": "python",
   "name": "python3"
  },
  "language_info": {
   "codemirror_mode": {
    "name": "ipython",
    "version": 2
   },
   "file_extension": ".py",
   "mimetype": "text/x-python",
   "name": "python",
   "nbconvert_exporter": "python",
   "pygments_lexer": "ipython2",
   "version": "2.7.6"
  }
 },
 "nbformat": 4,
 "nbformat_minor": 5
}
