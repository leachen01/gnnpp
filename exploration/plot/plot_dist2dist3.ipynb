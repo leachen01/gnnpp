{
 "cells": [
  {
   "metadata": {},
   "cell_type": "markdown",
   "source": [
    "# Remove nan stations\n",
    "- Remove Station 62 and 74 in data.py, use this to check\n",
    "- CDF Plots from graph_creation.ipynb\n",
    "- compute dist2 and dist3 beforehand for all leadtimes as they depend on the leadtimes"
   ],
   "id": "eddb3a7bd9ea8841"
  },
  {
   "cell_type": "code",
   "id": "initial_id",
   "metadata": {
    "collapsed": true,
    "ExecuteTime": {
     "end_time": "2025-05-23T06:38:13.059279Z",
     "start_time": "2025-05-23T06:38:09.861147Z"
    }
   },
   "source": [
    "%cd /home/ltchen/gnnpp\n",
    "import sys\n",
    "import json\n",
    "import os\n",
    "from scipy.interpolate import interp1d\n",
    "from utils.data import *\n",
    "from torch_geometric.utils import is_undirected, degree, contains_isolated_nodes\n",
    "from tqdm import tqdm\n",
    "import xarray as xr\n",
    "import wandb\n",
    "from exploration.graph_creation import *\n",
    "from torch_geometric.loader import DataLoader\n",
    "from pytorch_lightning.callbacks import ModelCheckpoint\n",
    "from torch.optim import AdamW\n",
    "from pytorch_lightning.loggers import WandbLogger\n",
    "from exploration.graph_creation import *\n",
    "import matplotlib.pyplot as plt"
   ],
   "outputs": [
    {
     "name": "stdout",
     "output_type": "stream",
     "text": [
      "/home/ltchen/gnnpp\n"
     ]
    }
   ],
   "execution_count": 1
  },
  {
   "metadata": {
    "ExecuteTime": {
     "end_time": "2025-05-23T06:38:15.796082Z",
     "start_time": "2025-05-23T06:38:15.788140Z"
    }
   },
   "cell_type": "code",
   "source": [
    "sys.path.insert(0, os.path.abspath(os.path.join(os.getcwd(), '..')))\n",
    "leadtime = \"72h\"\n",
    "DIRECTORY = os.getcwd()\n",
    "FIGUREPATH = os.path.join(DIRECTORY, 'figures')\n",
    "os.makedirs(FIGUREPATH, exist_ok=True)\n",
    "SAVEPATH = os.path.join(DIRECTORY, f\"explored_models/gnn_no_ensemble_{leadtime}/models\")\n",
    "JSONPATH = os.path.join(DIRECTORY, f\"trained_models/best_{leadtime}/params.json\")"
   ],
   "id": "12226f102ec600be",
   "outputs": [],
   "execution_count": 3
  },
  {
   "metadata": {
    "ExecuteTime": {
     "end_time": "2025-05-23T06:38:23.602492Z",
     "start_time": "2025-05-23T06:38:18.550998Z"
    }
   },
   "cell_type": "code",
   "source": [
    "dataframes = load_dataframes(leadtime= leadtime)\n",
    "dataframes = summary_statistics(dataframes)"
   ],
   "id": "c55d87460c21cbe0",
   "outputs": [
    {
     "name": "stdout",
     "output_type": "stream",
     "text": [
      "[INFO] Dataframes exist. Will load pandas dataframes.\n",
      "[INFO] Calculating summary statistics for train\n",
      "[INFO] Calculating summary statistics for valid\n",
      "[INFO] Calculating summary statistics for test_rf\n",
      "[INFO] Calculating summary statistics for test_f\n"
     ]
    }
   ],
   "execution_count": 4
  },
  {
   "metadata": {
    "ExecuteTime": {
     "end_time": "2025-05-23T06:38:23.614295Z",
     "start_time": "2025-05-23T06:38:23.608172Z"
    }
   },
   "cell_type": "code",
   "source": "dataframes['stations'].shape",
   "id": "aecd406716ff3a83",
   "outputs": [
    {
     "data": {
      "text/plain": [
       "(120, 6)"
      ]
     },
     "execution_count": 5,
     "metadata": {},
     "output_type": "execute_result"
    }
   ],
   "execution_count": 5
  },
  {
   "metadata": {
    "ExecuteTime": {
     "end_time": "2025-05-23T06:38:25.990213Z",
     "start_time": "2025-05-23T06:38:25.982849Z"
    }
   },
   "cell_type": "code",
   "source": "dataframes['train'][0].shape",
   "id": "38a3cb3f8c7733fe",
   "outputs": [
    {
     "data": {
      "text/plain": [
       "(313440, 65)"
      ]
     },
     "execution_count": 6,
     "metadata": {},
     "output_type": "execute_result"
    }
   ],
   "execution_count": 6
  },
  {
   "metadata": {},
   "cell_type": "markdown",
   "source": "### Distance metrics 2 & 3",
   "id": "269845349ae489dd"
  },
  {
   "metadata": {
    "ExecuteTime": {
     "end_time": "2025-05-23T06:38:30.583451Z",
     "start_time": "2025-05-23T06:38:30.350746Z"
    }
   },
   "cell_type": "code",
   "source": [
    "graphs = create_graph_dataset(\n",
    "        df_train=dataframes['train'][0],\n",
    "        df_target=dataframes['train'][1],\n",
    "        station_df=dataframes['stations'],\n",
    "        attributes=[\"dist2\", \"dist3\"], # , \"dist3\"\n",
    "        edges=[(\"dist2\", 0.003), (\"dist3\", 0.0073)], # , \"dist3\"\n",
    "        sum_stats = True,\n",
    "        leadtime = \"120h\",)\n",
    "graphs"
   ],
   "id": "c08c038ef5109102",
   "outputs": [
    {
     "ename": "AssertionError",
     "evalue": "train_set should not be none.",
     "output_type": "error",
     "traceback": [
      "\u001B[0;31m---------------------------------------------------------------------------\u001B[0m",
      "\u001B[0;31mAssertionError\u001B[0m                            Traceback (most recent call last)",
      "Cell \u001B[0;32mIn[7], line 1\u001B[0m\n\u001B[0;32m----> 1\u001B[0m graphs \u001B[38;5;241m=\u001B[39m \u001B[43mcreate_graph_dataset\u001B[49m\u001B[43m(\u001B[49m\n\u001B[1;32m      2\u001B[0m \u001B[43m        \u001B[49m\u001B[43mdf_train\u001B[49m\u001B[38;5;241;43m=\u001B[39;49m\u001B[43mdataframes\u001B[49m\u001B[43m[\u001B[49m\u001B[38;5;124;43m'\u001B[39;49m\u001B[38;5;124;43mtrain\u001B[39;49m\u001B[38;5;124;43m'\u001B[39;49m\u001B[43m]\u001B[49m\u001B[43m[\u001B[49m\u001B[38;5;241;43m0\u001B[39;49m\u001B[43m]\u001B[49m\u001B[43m,\u001B[49m\n\u001B[1;32m      3\u001B[0m \u001B[43m        \u001B[49m\u001B[43mdf_target\u001B[49m\u001B[38;5;241;43m=\u001B[39;49m\u001B[43mdataframes\u001B[49m\u001B[43m[\u001B[49m\u001B[38;5;124;43m'\u001B[39;49m\u001B[38;5;124;43mtrain\u001B[39;49m\u001B[38;5;124;43m'\u001B[39;49m\u001B[43m]\u001B[49m\u001B[43m[\u001B[49m\u001B[38;5;241;43m1\u001B[39;49m\u001B[43m]\u001B[49m\u001B[43m,\u001B[49m\n\u001B[1;32m      4\u001B[0m \u001B[43m        \u001B[49m\u001B[43mstation_df\u001B[49m\u001B[38;5;241;43m=\u001B[39;49m\u001B[43mdataframes\u001B[49m\u001B[43m[\u001B[49m\u001B[38;5;124;43m'\u001B[39;49m\u001B[38;5;124;43mstations\u001B[39;49m\u001B[38;5;124;43m'\u001B[39;49m\u001B[43m]\u001B[49m\u001B[43m,\u001B[49m\n\u001B[1;32m      5\u001B[0m \u001B[43m        \u001B[49m\u001B[43mattributes\u001B[49m\u001B[38;5;241;43m=\u001B[39;49m\u001B[43m[\u001B[49m\u001B[38;5;124;43m\"\u001B[39;49m\u001B[38;5;124;43mdist2\u001B[39;49m\u001B[38;5;124;43m\"\u001B[39;49m\u001B[43m,\u001B[49m\u001B[43m \u001B[49m\u001B[38;5;124;43m\"\u001B[39;49m\u001B[38;5;124;43mdist3\u001B[39;49m\u001B[38;5;124;43m\"\u001B[39;49m\u001B[43m]\u001B[49m\u001B[43m,\u001B[49m\u001B[43m \u001B[49m\u001B[38;5;66;43;03m# , \"dist3\"\u001B[39;49;00m\n\u001B[1;32m      6\u001B[0m \u001B[43m        \u001B[49m\u001B[43medges\u001B[49m\u001B[38;5;241;43m=\u001B[39;49m\u001B[43m[\u001B[49m\u001B[43m(\u001B[49m\u001B[38;5;124;43m\"\u001B[39;49m\u001B[38;5;124;43mdist2\u001B[39;49m\u001B[38;5;124;43m\"\u001B[39;49m\u001B[43m,\u001B[49m\u001B[43m \u001B[49m\u001B[38;5;241;43m0.003\u001B[39;49m\u001B[43m)\u001B[49m\u001B[43m,\u001B[49m\u001B[43m \u001B[49m\u001B[43m(\u001B[49m\u001B[38;5;124;43m\"\u001B[39;49m\u001B[38;5;124;43mdist3\u001B[39;49m\u001B[38;5;124;43m\"\u001B[39;49m\u001B[43m,\u001B[49m\u001B[43m \u001B[49m\u001B[38;5;241;43m0.0073\u001B[39;49m\u001B[43m)\u001B[49m\u001B[43m]\u001B[49m\u001B[43m,\u001B[49m\u001B[43m \u001B[49m\u001B[38;5;66;43;03m# , \"dist3\"\u001B[39;49;00m\n\u001B[1;32m      7\u001B[0m \u001B[43m        \u001B[49m\u001B[43msum_stats\u001B[49m\u001B[43m \u001B[49m\u001B[38;5;241;43m=\u001B[39;49m\u001B[43m \u001B[49m\u001B[38;5;28;43;01mTrue\u001B[39;49;00m\u001B[43m,\u001B[49m\n\u001B[1;32m      8\u001B[0m \u001B[43m        \u001B[49m\u001B[43mleadtime\u001B[49m\u001B[43m \u001B[49m\u001B[38;5;241;43m=\u001B[39;49m\u001B[43m \u001B[49m\u001B[38;5;124;43m\"\u001B[39;49m\u001B[38;5;124;43m120h\u001B[39;49m\u001B[38;5;124;43m\"\u001B[39;49m\u001B[43m,\u001B[49m\u001B[43m)\u001B[49m\n\u001B[1;32m      9\u001B[0m graphs\n",
      "File \u001B[0;32m/tmp/pycharm_project_408/exploration/graph_creation.py:220\u001B[0m, in \u001B[0;36mcreate_graph_dataset\u001B[0;34m(df_train, df_target, station_df, attributes, edges, ensemble, sum_stats, leadtime)\u001B[0m\n\u001B[1;32m    217\u001B[0m attr_tensor \u001B[38;5;241m=\u001B[39m torch\u001B[38;5;241m.\u001B[39mempty((num_stations, num_stations, t_dim), dtype\u001B[38;5;241m=\u001B[39mtorch\u001B[38;5;241m.\u001B[39mfloat32)\n\u001B[1;32m    218\u001B[0m \u001B[38;5;28;01mfor\u001B[39;00m i, list_element \u001B[38;5;129;01min\u001B[39;00m \u001B[38;5;28menumerate\u001B[39m(attributes):\n\u001B[1;32m    219\u001B[0m     \u001B[38;5;66;03m# compute distance matrix\u001B[39;00m\n\u001B[0;32m--> 220\u001B[0m     attr_tensor[:,:,i] \u001B[38;5;241m=\u001B[39m torch\u001B[38;5;241m.\u001B[39mtensor(\u001B[43mcompute_mat\u001B[49m\u001B[43m(\u001B[49m\u001B[43mstation_df\u001B[49m\u001B[38;5;241;43m=\u001B[39;49m\u001B[43mstation_df\u001B[49m\u001B[43m,\u001B[49m\u001B[43m \u001B[49m\u001B[43mmode\u001B[49m\u001B[38;5;241;43m=\u001B[39;49m\u001B[43mlist_element\u001B[49m\u001B[43m,\u001B[49m\u001B[43m \u001B[49m\u001B[43msum_stats\u001B[49m\u001B[38;5;241;43m=\u001B[39;49m\u001B[43msum_stats\u001B[49m\u001B[43m,\u001B[49m\u001B[43m \u001B[49m\u001B[43mleadtime\u001B[49m\u001B[38;5;241;43m=\u001B[39;49m\u001B[43mleadtime\u001B[49m\u001B[43m)\u001B[49m)\n\u001B[1;32m    222\u001B[0m attr_mask \u001B[38;5;241m=\u001B[39m torch\u001B[38;5;241m.\u001B[39mempty(num_stations, num_stations, \u001B[38;5;28mlen\u001B[39m(edges))\n\u001B[1;32m    223\u001B[0m \u001B[38;5;28;01mfor\u001B[39;00m i, el \u001B[38;5;129;01min\u001B[39;00m \u001B[38;5;28menumerate\u001B[39m(edges):\n",
      "File \u001B[0;32m/tmp/pycharm_project_408/exploration/graph_creation.py:153\u001B[0m, in \u001B[0;36mcompute_mat\u001B[0;34m(station_df, mode, sum_stats, train_set, train_target_set, leadtime)\u001B[0m\n\u001B[1;32m    150\u001B[0m     distance_matrix \u001B[38;5;241m=\u001B[39m np\u001B[38;5;241m.\u001B[39mvectorize(signed_geodesic_km)(lat1\u001B[38;5;241m=\u001B[39mmesh1, lat2\u001B[38;5;241m=\u001B[39mmesh2) \u001B[38;5;66;03m# vorzeichen!\u001B[39;00m\n\u001B[1;32m    151\u001B[0m \u001B[38;5;28;01mif\u001B[39;00m mode \u001B[38;5;241m==\u001B[39m \u001B[38;5;124m\"\u001B[39m\u001B[38;5;124mdist2\u001B[39m\u001B[38;5;124m\"\u001B[39m:\n\u001B[1;32m    152\u001B[0m     \u001B[38;5;66;03m# print(\"dist2\")\u001B[39;00m\n\u001B[0;32m--> 153\u001B[0m     distance_matrix \u001B[38;5;241m=\u001B[39m \u001B[43mload_d2_distances\u001B[49m\u001B[43m(\u001B[49m\u001B[43mstation_df\u001B[49m\u001B[43m,\u001B[49m\u001B[43m \u001B[49m\u001B[43mtrain_set\u001B[49m\u001B[43m,\u001B[49m\u001B[43m \u001B[49m\u001B[43msum_stats\u001B[49m\u001B[43m,\u001B[49m\u001B[43m \u001B[49m\u001B[43mleadtime\u001B[49m\u001B[38;5;241;43m=\u001B[39;49m\u001B[43mleadtime\u001B[49m\u001B[43m)\u001B[49m\n\u001B[1;32m    154\u001B[0m \u001B[38;5;28;01mif\u001B[39;00m mode \u001B[38;5;241m==\u001B[39m \u001B[38;5;124m\"\u001B[39m\u001B[38;5;124mdist3\u001B[39m\u001B[38;5;124m\"\u001B[39m:\n\u001B[1;32m    155\u001B[0m     \u001B[38;5;66;03m# print(\"dist3\")\u001B[39;00m\n\u001B[1;32m    156\u001B[0m     distance_matrix \u001B[38;5;241m=\u001B[39m load_d3_distances(station_df, train_set, train_target_set, sum_stats \u001B[38;5;241m=\u001B[39m sum_stats, leadtime\u001B[38;5;241m=\u001B[39mleadtime)\n",
      "File \u001B[0;32m/tmp/pycharm_project_408/exploration/graph_creation.py:61\u001B[0m, in \u001B[0;36mload_d2_distances\u001B[0;34m(stations, train_set, sum_stats, leadtime)\u001B[0m\n\u001B[1;32m     59\u001B[0m \u001B[38;5;28;01mdef\u001B[39;00m\u001B[38;5;250m \u001B[39m\u001B[38;5;21mload_d2_distances\u001B[39m(stations: pd\u001B[38;5;241m.\u001B[39mDataFrame, train_set: pd\u001B[38;5;241m.\u001B[39mDataFrame, sum_stats: \u001B[38;5;28mbool\u001B[39m, leadtime: \u001B[38;5;28mstr\u001B[39m) \u001B[38;5;241m-\u001B[39m\u001B[38;5;241m>\u001B[39m np\u001B[38;5;241m.\u001B[39mndarray:\n\u001B[1;32m     60\u001B[0m     \u001B[38;5;28;01massert\u001B[39;00m leadtime \u001B[38;5;129;01mis\u001B[39;00m \u001B[38;5;129;01mnot\u001B[39;00m \u001B[38;5;28;01mNone\u001B[39;00m, \u001B[38;5;124m\"\u001B[39m\u001B[38;5;124mleadtime should not be none.\u001B[39m\u001B[38;5;124m\"\u001B[39m\n\u001B[0;32m---> 61\u001B[0m     \u001B[38;5;28;01massert\u001B[39;00m train_set \u001B[38;5;129;01mis\u001B[39;00m \u001B[38;5;129;01mnot\u001B[39;00m \u001B[38;5;28;01mNone\u001B[39;00m, \u001B[38;5;124m\"\u001B[39m\u001B[38;5;124mtrain_set should not be none.\u001B[39m\u001B[38;5;124m\"\u001B[39m\n\u001B[1;32m     63\u001B[0m     \u001B[38;5;28;01mif\u001B[39;00m os\u001B[38;5;241m.\u001B[39mpath\u001B[38;5;241m.\u001B[39mexists(\u001B[38;5;124mf\u001B[39m\u001B[38;5;124m\"\u001B[39m\u001B[38;5;124m/mnt/sda/Data2/gnnpp-data/d2_distances_EUPP_\u001B[39m\u001B[38;5;132;01m{\u001B[39;00mleadtime\u001B[38;5;132;01m}\u001B[39;00m\u001B[38;5;124m.npy\u001B[39m\u001B[38;5;124m\"\u001B[39m):\n\u001B[1;32m     64\u001B[0m         \u001B[38;5;28mprint\u001B[39m(\u001B[38;5;124m\"\u001B[39m\u001B[38;5;124m[INFO] Loading distances from file...\u001B[39m\u001B[38;5;124m\"\u001B[39m)\n",
      "\u001B[0;31mAssertionError\u001B[0m: train_set should not be none."
     ]
    }
   ],
   "execution_count": 7
  },
  {
   "metadata": {
    "ExecuteTime": {
     "end_time": "2025-05-11T18:58:40.239029Z",
     "start_time": "2025-05-11T18:58:40.228408Z"
    }
   },
   "cell_type": "code",
   "source": [
    "matd2 = compute_mat(dataframes['stations'], mode=\"dist2\", sum_stats= True, train_set= dataframes['train'][0], train_target_set = dataframes['train'][1], leadtime = \"120h\")\n",
    "matd2.shape"
   ],
   "id": "1e023a9cfc771abb",
   "outputs": [
    {
     "name": "stdout",
     "output_type": "stream",
     "text": [
      "[INFO] Loading distances from file...\n"
     ]
    },
    {
     "data": {
      "text/plain": [
       "(120, 120)"
      ]
     },
     "execution_count": 7,
     "metadata": {},
     "output_type": "execute_result"
    }
   ],
   "execution_count": 7
  },
  {
   "metadata": {
    "ExecuteTime": {
     "end_time": "2025-05-23T06:39:29.023900Z",
     "start_time": "2025-05-23T06:39:29.016303Z"
    }
   },
   "cell_type": "code",
   "source": "d2mat = load_d2_distances(dataframes['stations'], dataframes['train'][0], sum_stats=True, leadtime=\"24h\")",
   "id": "5ee9ba38abd1bc11",
   "outputs": [
    {
     "name": "stdout",
     "output_type": "stream",
     "text": [
      "[INFO] Loading distances from file...\n"
     ]
    }
   ],
   "execution_count": 10
  },
  {
   "metadata": {
    "ExecuteTime": {
     "end_time": "2025-05-23T06:39:32.035389Z",
     "start_time": "2025-05-23T06:39:32.027359Z"
    }
   },
   "cell_type": "code",
   "source": "d2mat.max()",
   "id": "a77fdbcbbd978af",
   "outputs": [
    {
     "data": {
      "text/plain": [
       "0.2601907281080329"
      ]
     },
     "execution_count": 12,
     "metadata": {},
     "output_type": "execute_result"
    }
   ],
   "execution_count": 12
  },
  {
   "metadata": {
    "ExecuteTime": {
     "end_time": "2025-05-23T06:39:30.626981Z",
     "start_time": "2025-05-23T06:39:30.619702Z"
    }
   },
   "cell_type": "code",
   "source": "d3mat = load_d3_distances(dataframes['stations'], dataframes['train'][0], dataframes['train'][1], sum_stats=True, leadtime=\"24h\")",
   "id": "a9c253d17b32e6e0",
   "outputs": [
    {
     "name": "stdout",
     "output_type": "stream",
     "text": [
      "[INFO] Loading distances from file...\n"
     ]
    }
   ],
   "execution_count": 11
  },
  {
   "metadata": {
    "ExecuteTime": {
     "end_time": "2025-05-23T06:39:33.402144Z",
     "start_time": "2025-05-23T06:39:33.392820Z"
    }
   },
   "cell_type": "code",
   "source": "d3mat.max()",
   "id": "3007605055e27975",
   "outputs": [
    {
     "data": {
      "text/plain": [
       "0.5731814701378253"
      ]
     },
     "execution_count": 13,
     "metadata": {},
     "output_type": "execute_result"
    }
   ],
   "execution_count": 13
  },
  {
   "metadata": {
    "ExecuteTime": {
     "end_time": "2025-05-23T06:39:19.641832Z",
     "start_time": "2025-05-23T06:39:14.853308Z"
    }
   },
   "cell_type": "code",
   "source": [
    "dataframes = load_dataframes(leadtime=\"24h\")\n",
    "dataframes = summary_statistics(dataframes)\n",
    "d3mat_24h = load_d3_distances(dataframes['stations'], dataframes['train'][0], dataframes['train'][1], sum_stats=True, leadtime=\"72h\")"
   ],
   "id": "df4e330f7c3446af",
   "outputs": [
    {
     "name": "stdout",
     "output_type": "stream",
     "text": [
      "[INFO] Dataframes exist. Will load pandas dataframes.\n",
      "[INFO] Calculating summary statistics for train\n",
      "[INFO] Calculating summary statistics for valid\n",
      "[INFO] Calculating summary statistics for test_rf\n",
      "[INFO] Calculating summary statistics for test_f\n",
      "[INFO] Loading distances from file...\n"
     ]
    }
   ],
   "execution_count": 8
  },
  {
   "metadata": {
    "ExecuteTime": {
     "end_time": "2025-05-19T16:27:41.377647Z",
     "start_time": "2025-05-19T16:27:41.367530Z"
    }
   },
   "cell_type": "code",
   "source": "d3mat_24h",
   "id": "1a767473c3f3b8c9",
   "outputs": [
    {
     "data": {
      "text/plain": [
       "array([[0.        , 0.06586907, 0.01095904, ..., 0.33626531, 0.28579632,\n",
       "        0.31267228],\n",
       "       [0.06586907, 0.        , 0.07433959, ..., 0.27041539, 0.2202144 ,\n",
       "        0.24827718],\n",
       "       [0.01095904, 0.07433959, 0.        , ..., 0.34471669, 0.29394142,\n",
       "        0.31930513],\n",
       "       ...,\n",
       "       [0.33626531, 0.27041539, 0.34471669, ..., 0.        , 0.05077527,\n",
       "        0.02541156],\n",
       "       [0.28579632, 0.2202144 , 0.29394142, ..., 0.05077527, 0.        ,\n",
       "        0.03049387],\n",
       "       [0.31267228, 0.24827718, 0.31930513, ..., 0.02541156, 0.03049387,\n",
       "        0.        ]])"
      ]
     },
     "execution_count": 7,
     "metadata": {},
     "output_type": "execute_result"
    }
   ],
   "execution_count": 7
  },
  {
   "metadata": {
    "ExecuteTime": {
     "end_time": "2025-05-23T06:39:56.800562Z",
     "start_time": "2025-05-23T06:39:56.791674Z"
    }
   },
   "cell_type": "code",
   "source": "np.unravel_index(np.argmax(d2mat), d2mat.shape)",
   "id": "536368bc749a83c4",
   "outputs": [
    {
     "data": {
      "text/plain": [
       "(2, 119)"
      ]
     },
     "execution_count": 16,
     "metadata": {},
     "output_type": "execute_result"
    }
   ],
   "execution_count": 16
  },
  {
   "metadata": {
    "ExecuteTime": {
     "end_time": "2025-05-19T04:40:06.157498Z",
     "start_time": "2025-05-19T04:40:06.146790Z"
    }
   },
   "cell_type": "code",
   "source": "dataframes['train'][0]['t2m_mean'].min()",
   "id": "1b35babfe8dae24c",
   "outputs": [
    {
     "data": {
      "text/plain": [
       "245.61275"
      ]
     },
     "execution_count": 26,
     "metadata": {},
     "output_type": "execute_result"
    }
   ],
   "execution_count": 26
  },
  {
   "metadata": {
    "ExecuteTime": {
     "end_time": "2025-05-23T06:40:01.328403Z",
     "start_time": "2025-05-23T06:40:01.310673Z"
    }
   },
   "cell_type": "code",
   "source": [
    "dataframes['train'][0]['t2m_mean'].max()\n",
    "percentile99 = (dataframes['train'][0]['t2m_mean'].max() - dataframes['train'][0]['t2m_mean'].min())*0.99 + dataframes['train'][0]['t2m_mean'].min()\n",
    "step_size = (dataframes['train'][0]['t2m_mean'].max() - dataframes['train'][0]['t2m_mean'].min())/50\n",
    "percentile99\n",
    "#step_size\n"
   ],
   "id": "d9a88675bdc6e6cd",
   "outputs": [
    {
     "data": {
      "text/plain": [
       "299.1410725402832"
      ]
     },
     "execution_count": 17,
     "metadata": {},
     "output_type": "execute_result"
    }
   ],
   "execution_count": 17
  },
  {
   "metadata": {
    "ExecuteTime": {
     "end_time": "2025-05-23T06:45:26.414983Z",
     "start_time": "2025-05-23T06:45:25.832591Z"
    }
   },
   "cell_type": "code",
   "source": [
    "# check if get_emp_cdf works\n",
    "i = 2\n",
    "j = 119\n",
    "S = np.arange(dataframes['train'][0]['t2m_mean'].min(),percentile99, step_size) #1th and 99th percentile? => Anzahl Schritte statt Schritgroesse? => equidistant\n",
    "#cdf_values = create_emp_cdf(train_set['t2m'])(S)\n",
    "temps1 = dataframes['train'][0][dataframes['train'][0]['station_id'] == i]['t2m_mean']\n",
    "temps2 = dataframes['train'][0][dataframes['train'][0]['station_id'] == j]['t2m_mean']\n",
    "cdf1 = create_emp_cdf(temps1)(S)\n",
    "cdf2 = create_emp_cdf(temps2)(S)\n",
    "#print(cdf1.shape)\n",
    "\n",
    "plt.figure(figsize=(8, 4))\n",
    "plt.step(S, cdf1, where='post', label=f'Station {i}')\n",
    "plt.step(S, cdf2, where='post', label=f'Station {j}')\n",
    "for x, y1, y2 in zip(S, cdf1, cdf2):\n",
    "    plt.plot([(x+0.5*step_size), (x+0.5*step_size)], [y1, y2], color='gray', alpha=0.5, linewidth=1)\n",
    "plt.title(f'Empirical CDFs of Temperature Data \\nfor Stations {i} and {j}', fontsize=24)\n",
    "plt.xlabel('Temperature [K]', fontsize=24)\n",
    "plt.ylabel('CDF', fontsize=24)\n",
    "plt.grid(True)\n",
    "plt.gca().tick_params(axis='both', which='major', labelsize=14)\n",
    "plt.legend(fontsize=18)\n",
    "plt.savefig(os.path.join(FIGUREPATH, \"methodology/dist2_big.pdf\"), bbox_inches = 'tight', dpi=300)\n",
    "plt.show()\n"
   ],
   "id": "1ba8bf70b214b0b6",
   "outputs": [
    {
     "data": {
      "text/plain": [
       "<Figure size 800x400 with 1 Axes>"
      ],
      "image/png": "[encoded data removed]"
     },
     "metadata": {},
     "output_type": "display_data"
    }
   ],
   "execution_count": 31
  },
  {
   "metadata": {},
   "cell_type": "code",
   "outputs": [],
   "execution_count": null,
   "source": [
    "plt.figure(figsize=(8, 4))\n",
    "plt.step(S_d2.T, list_of_all_G2_i_values[117], where='post', label='Empirical CDF')\n",
    "plt.title('Empirical CDF of Forecast Errors')\n",
    "plt.xlabel('Error')\n",
    "plt.ylabel('CDF')\n",
    "plt.grid(True)\n",
    "plt.show()"
   ],
   "id": "2b8ba4e1a5d3b177"
  },
  {
   "metadata": {
    "ExecuteTime": {
     "end_time": "2025-05-19T04:53:54.736142Z",
     "start_time": "2025-05-19T04:53:03.310238Z"
    }
   },
   "cell_type": "code",
   "source": [
    "# check if get_emp_cdf works\n",
    "S_d3 = np.arange(-10, 10, 0.5)\n",
    "cdfs = []\n",
    "\n",
    "for i_id in range(0, dataframes['stations'].station_id.nunique()):\n",
    "    i_train = dataframes['train'][0][dataframes['train'][0]['station_id'] == i_id]\n",
    "    i_target_temps = dataframes['train'][1][dataframes['train'][1]['station_id'] == i_id]['t2m']\n",
    "    G_s = create_emp_cdf_of_errors(i_train, i_target_temps, True)\n",
    "    cdfs.append(G_s)\n",
    "list_of_all_G_i_values = []\n",
    "for G_i in tqdm(cdfs):\n",
    "    cdf_values = np.zeros(S.shape)\n",
    "    for idx, x in enumerate(S):\n",
    "        cdf_values[idx] = G_i(x)\n",
    "    # print(cdf_values)\n",
    "    list_of_all_G_i_values.append(cdf_values)\n",
    "    # print(len(list_of_all_G_i_values))\n",
    "\n",
    "\n",
    "print(all(f is cdfs[0] for f in cdfs))"
   ],
   "id": "b069da784b77a388",
   "outputs": [
    {
     "name": "stderr",
     "output_type": "stream",
     "text": [
      "100%|██████████| 120/120 [00:50<00:00,  2.35it/s]"
     ]
    },
    {
     "name": "stdout",
     "output_type": "stream",
     "text": [
      "False\n"
     ]
    },
    {
     "name": "stderr",
     "output_type": "stream",
     "text": [
      "\n"
     ]
    }
   ],
   "execution_count": 35
  },
  {
   "metadata": {
    "ExecuteTime": {
     "end_time": "2025-05-19T04:55:36.822670Z",
     "start_time": "2025-05-19T04:55:36.815332Z"
    }
   },
   "cell_type": "code",
   "source": "print(list_of_all_G_i_values[63])",
   "id": "d74e23c930651a81",
   "outputs": [
    {
     "name": "stdout",
     "output_type": "stream",
     "text": [
      "[1. 1. 1. 1. 1. 1. 1. 1. 1. 1. 1. 1. 1. 1. 1. 1. 1. 1. 1. 1. 1. 1. 1. 1.\n",
      " 1. 1. 1. 1. 1. 1. 1. 1. 1. 1. 1. 1. 1. 1. 1. 1. 1. 1. 1. 1. 1. 1. 1. 1.\n",
      " 1. 1. 1. 1. 1. 1. 1.]\n"
     ]
    }
   ],
   "execution_count": 37
  },
  {
   "metadata": {
    "ExecuteTime": {
     "end_time": "2025-05-23T06:45:49.032767Z",
     "start_time": "2025-05-23T06:45:47.888078Z"
    }
   },
   "cell_type": "code",
   "source": [
    "# plot\n",
    "# check if create_emp_cdf_of_errors(station_df, target_temp, sum_stats)\n",
    "i = 1\n",
    "j = 3\n",
    "# S = np.arange(dataframes['train'][0]['t2m_mean'].min(), dataframes['train'][0]['t2m_mean'].max(), 1) #1th and 99th percentile? => Anzahl Schritte statt Schritgroesse? => equidistant\n",
    "S_d3 = np.arange(-10, 10, 0.5)\n",
    "#cdf_values = create_emp_cdf(train_set['t2m'])(S)\n",
    "#temps1 = dataframes['train'][0][dataframes['train'][0]['station_id'] == i]['t2m_mean']\n",
    "#temps2 = dataframes['train'][0][dataframes['train'][0]['station_id'] == j]['t2m_mean']\n",
    "i_train = dataframes['train'][0][dataframes['train'][0]['station_id'] == i]\n",
    "i_target_temps = dataframes['train'][1][dataframes['train'][1]['station_id'] == i]['t2m']\n",
    "j_train = dataframes['train'][0][dataframes['train'][0]['station_id'] == j]\n",
    "j_target_temps = dataframes['train'][1][dataframes['train'][1]['station_id'] == j]['t2m']\n",
    "list_for_cdf1 = []\n",
    "list_for_cdf2 = []\n",
    "for z in S_d3:\n",
    "    cdf1 = create_emp_cdf_of_errors(station_df=i_train, target_temp=i_target_temps, sum_stats=True)(z)\n",
    "    cdf2 = create_emp_cdf_of_errors(station_df=j_train, target_temp=j_target_temps, sum_stats=True)(z)\n",
    "    list_for_cdf1.append(cdf1)\n",
    "    list_for_cdf2.append(cdf2)\n",
    "\n",
    "#print(cdf1.shape)\n",
    "\n",
    "plt.figure(figsize=(8, 4))\n",
    "plt.step(S_d3, list_for_cdf1, where='post', label=f'Station {i}')\n",
    "plt.step(S_d3, list_for_cdf2, where='post', label=f'Station {j}')\n",
    "for x, y1, y2 in zip(S_d3, list_for_cdf1, list_for_cdf2):\n",
    "    plt.plot([(x+0.25), (x+0.25)], [y1, y2], color='gray', alpha=0.5, linewidth=1)\n",
    "plt.title(f'Empirical CDFs of Temperature Forecast \\nErrors for Stations {i} and {j}', fontsize=24)\n",
    "plt.xlabel('Temperature [K]', fontsize=24)\n",
    "plt.ylabel('CDF', fontsize=24)\n",
    "plt.grid(True)\n",
    "plt.gca().tick_params(axis='both', which='major', labelsize=14)\n",
    "plt.legend(fontsize=18)\n",
    "plt.savefig(os.path.join(FIGUREPATH, \"methodology/dist3_small.pdf\"), bbox_inches = 'tight', dpi=300)\n",
    "plt.show()\n"
   ],
   "id": "9483cf8b8e5dec18",
   "outputs": [
    {
     "data": {
      "text/plain": [
       "<Figure size 800x400 with 1 Axes>"
      ],
      "image/png": "[encoded data removed]"
     },
     "metadata": {},
     "output_type": "display_data"
    }
   ],
   "execution_count": 33
  },
  {
   "metadata": {
    "ExecuteTime": {
     "end_time": "2025-05-19T04:52:19.791651Z",
     "start_time": "2025-05-19T04:52:19.606786Z"
    }
   },
   "cell_type": "code",
   "source": [
    "# print(list_of_all_G_i_values[63])\n",
    "i = 1\n",
    "j = 3\n",
    "plt.figure(figsize=(8, 4))\n",
    "plt.step(S.T, list_of_all_G_i_values[1], where='post', label=f'Error CDF Station {i}')\n",
    "plt.step(S.T, list_of_all_G_i_values[j], where='post', label=f'Error CDF Station {j}')\n",
    "plt.title('Empirical CDF of Forecast Errors')\n",
    "plt.xlabel('Error')\n",
    "plt.ylabel('CDF')\n",
    "plt.grid(True)\n",
    "plt.show()"
   ],
   "id": "458f973a942aae80",
   "outputs": [
    {
     "data": {
      "text/plain": [
       "<Figure size 800x400 with 1 Axes>"
      ],
      "image/png": "[encoded data removed]"
     },
     "metadata": {},
     "output_type": "display_data"
    }
   ],
   "execution_count": 33
  },
  {
   "metadata": {
    "ExecuteTime": {
     "end_time": "2025-05-19T05:18:51.973461Z",
     "start_time": "2025-05-19T05:18:51.965787Z"
    }
   },
   "cell_type": "code",
   "source": [
    "for idx, array in enumerate(list_of_all_G_i_values):\n",
    "    if np.all(array == 0):\n",
    "        print(idx)"
   ],
   "id": "a198f79313653de8",
   "outputs": [],
   "execution_count": 42
  },
  {
   "metadata": {},
   "cell_type": "markdown",
   "source": "### Load graphs",
   "id": "e3f674599c46a482"
  },
  {
   "metadata": {
    "ExecuteTime": {
     "end_time": "2025-04-24T01:11:42.920989Z",
     "start_time": "2025-04-24T01:11:42.914267Z"
    }
   },
   "cell_type": "code",
   "source": [
    "leadtime = \"24h\"\n",
    "\n",
    "sys.path.insert(0, os.path.abspath(os.path.join(os.getcwd(), '..')))\n",
    "DIRECTORY = os.getcwd()\n",
    "SAVEPATH = os.path.join(DIRECTORY, f\"leas_final_models/gnn_run5_{leadtime}/models\")\n",
    "JSONPATH = os.path.join(DIRECTORY, f\"trained_models/best_{leadtime}/params.json\")\n",
    "\n",
    "with open(JSONPATH, \"r\") as f:\n",
    "    print(f\"[INFO] Loading {JSONPATH}\")\n",
    "    args_dict = json.load(f)\n",
    "config = args_dict\n",
    "\n",
    "'''{\"batch_size\":8,\n",
    "\"gnn_hidden\":265,\n",
    "\"gnn_layers\":2,\n",
    "\"heads\":8,\n",
    "\"lr\":0.0002,\n",
    "\"max_dist\":100,\n",
    "\"max_epochs\": 31}'''"
   ],
   "id": "1816e9bf726a1c8f",
   "outputs": [
    {
     "name": "stdout",
     "output_type": "stream",
     "text": [
      "[INFO] Loading /home/ltchen/gnnpp/trained_models/best_24h/params.json\n"
     ]
    }
   ],
   "execution_count": 31
  },
  {
   "metadata": {
    "ExecuteTime": {
     "end_time": "2025-04-24T01:12:24.778425Z",
     "start_time": "2025-04-24T01:11:56.268597Z"
    }
   },
   "cell_type": "code",
   "source": [
    "graph_name = \"g1\"\n",
    "graphs1_train_rf, tests1 = normalize_features_and_create_graphs1(df_train=dataframes['train'], df_valid_test=[dataframes['valid'], dataframes['test_rf'], dataframes['test_f']], station_df=dataframes['stations'], attributes=[\"geo\"], edges=[(\"geo\", 100)], sum_stats = True)\n",
    "graphs1_valid_rf, graphs1_test_rf, graphs1_test_f = tests1\n",
    "\n",
    "g1_train_loader = DataLoader(graphs1_train_rf, batch_size=config['batch_size'], shuffle=True)\n",
    "g1_valid_loader = DataLoader(graphs1_valid_rf, batch_size=config['batch_size'], shuffle=False)\n",
    "g1_test_f_loader = DataLoader(graphs1_test_f, batch_size=config['batch_size'], shuffle=False)\n",
    "g1_test_rf_loader = DataLoader(graphs1_test_rf, batch_size=config['batch_size'], shuffle=False)\n",
    "\n",
    "train_loader = g1_train_loader\n",
    "valid_loader = g1_valid_loader\n",
    "test_f_loader = g1_test_f_loader\n",
    "test_rf_loader = g1_test_rf_loader\n",
    "test_loader = [test_f_loader, test_rf_loader]\n",
    "\n",
    "emb_dim = 20\n",
    "in_channels = graphs1_train_rf[0].x.shape[1] + emb_dim - 1\n",
    "edge_dim = graphs1_train_rf[0].num_edge_features\n",
    "num_nodes = graphs1_train_rf[0].num_nodes\n",
    "# max_epochs = max_epoch_list[graph_name]\n",
    "max_epochs = 31\n",
    "\n"
   ],
   "id": "7f5debfc0d9e8622",
   "outputs": [
    {
     "name": "stdout",
     "output_type": "stream",
     "text": [
      "[INFO] Normalizing features...\n",
      "fit_transform\n",
      "transform 1\n",
      "transform 2\n",
      "transform 3\n"
     ]
    },
    {
     "name": "stderr",
     "output_type": "stream",
     "text": [
      "100%|██████████| 2612/2612 [00:11<00:00, 224.58it/s]\n",
      "100%|██████████| 836/836 [00:03<00:00, 273.26it/s]\n",
      "100%|██████████| 732/732 [00:02<00:00, 260.55it/s]\n",
      "100%|██████████| 730/730 [00:02<00:00, 279.82it/s]\n"
     ]
    }
   ],
   "execution_count": 32
  },
  {
   "metadata": {
    "ExecuteTime": {
     "end_time": "2025-04-24T01:29:19.735312Z",
     "start_time": "2025-04-24T01:29:19.688290Z"
    }
   },
   "cell_type": "code",
   "source": "graphs1_train_rf[0].num_idx",
   "id": "37c33ae8dfad139e",
   "outputs": [
    {
     "ename": "AttributeError",
     "evalue": "'GlobalStorage' object has no attribute 'num_idx'",
     "output_type": "error",
     "traceback": [
      "\u001B[0;31m---------------------------------------------------------------------------\u001B[0m",
      "\u001B[0;31mAttributeError\u001B[0m                            Traceback (most recent call last)",
      "Cell \u001B[0;32mIn[55], line 1\u001B[0m\n\u001B[0;32m----> 1\u001B[0m \u001B[43mgraphs1_train_rf\u001B[49m\u001B[43m[\u001B[49m\u001B[38;5;241;43m0\u001B[39;49m\u001B[43m]\u001B[49m\u001B[38;5;241;43m.\u001B[39;49m\u001B[43mnum_idx\u001B[49m\n",
      "File \u001B[0;32m~/.conda/envs/gnn_env4/lib/python3.10/site-packages/torch_geometric/data/data.py:561\u001B[0m, in \u001B[0;36mData.__getattr__\u001B[0;34m(self, key)\u001B[0m\n\u001B[1;32m    555\u001B[0m \u001B[38;5;28;01mif\u001B[39;00m \u001B[38;5;124m'\u001B[39m\u001B[38;5;124m_store\u001B[39m\u001B[38;5;124m'\u001B[39m \u001B[38;5;129;01mnot\u001B[39;00m \u001B[38;5;129;01min\u001B[39;00m \u001B[38;5;28mself\u001B[39m\u001B[38;5;241m.\u001B[39m\u001B[38;5;18m__dict__\u001B[39m:\n\u001B[1;32m    556\u001B[0m     \u001B[38;5;28;01mraise\u001B[39;00m \u001B[38;5;167;01mRuntimeError\u001B[39;00m(\n\u001B[1;32m    557\u001B[0m         \u001B[38;5;124m\"\u001B[39m\u001B[38;5;124mThe \u001B[39m\u001B[38;5;124m'\u001B[39m\u001B[38;5;124mdata\u001B[39m\u001B[38;5;124m'\u001B[39m\u001B[38;5;124m object was created by an older version of PyG. \u001B[39m\u001B[38;5;124m\"\u001B[39m\n\u001B[1;32m    558\u001B[0m         \u001B[38;5;124m\"\u001B[39m\u001B[38;5;124mIf this error occurred while loading an already existing \u001B[39m\u001B[38;5;124m\"\u001B[39m\n\u001B[1;32m    559\u001B[0m         \u001B[38;5;124m\"\u001B[39m\u001B[38;5;124mdataset, remove the \u001B[39m\u001B[38;5;124m'\u001B[39m\u001B[38;5;124mprocessed/\u001B[39m\u001B[38;5;124m'\u001B[39m\u001B[38;5;124m directory in the dataset\u001B[39m\u001B[38;5;124m'\u001B[39m\u001B[38;5;124ms \u001B[39m\u001B[38;5;124m\"\u001B[39m\n\u001B[1;32m    560\u001B[0m         \u001B[38;5;124m\"\u001B[39m\u001B[38;5;124mroot folder and try again.\u001B[39m\u001B[38;5;124m\"\u001B[39m)\n\u001B[0;32m--> 561\u001B[0m \u001B[38;5;28;01mreturn\u001B[39;00m \u001B[38;5;28;43mgetattr\u001B[39;49m\u001B[43m(\u001B[49m\u001B[38;5;28;43mself\u001B[39;49m\u001B[38;5;241;43m.\u001B[39;49m\u001B[43m_store\u001B[49m\u001B[43m,\u001B[49m\u001B[43m \u001B[49m\u001B[43mkey\u001B[49m\u001B[43m)\u001B[49m\n",
      "File \u001B[0;32m~/.conda/envs/gnn_env4/lib/python3.10/site-packages/torch_geometric/data/storage.py:96\u001B[0m, in \u001B[0;36mBaseStorage.__getattr__\u001B[0;34m(self, key)\u001B[0m\n\u001B[1;32m     94\u001B[0m     \u001B[38;5;28;01mreturn\u001B[39;00m \u001B[38;5;28mself\u001B[39m[key]\n\u001B[1;32m     95\u001B[0m \u001B[38;5;28;01mexcept\u001B[39;00m \u001B[38;5;167;01mKeyError\u001B[39;00m:\n\u001B[0;32m---> 96\u001B[0m     \u001B[38;5;28;01mraise\u001B[39;00m \u001B[38;5;167;01mAttributeError\u001B[39;00m(\n\u001B[1;32m     97\u001B[0m         \u001B[38;5;124mf\u001B[39m\u001B[38;5;124m\"\u001B[39m\u001B[38;5;124m'\u001B[39m\u001B[38;5;132;01m{\u001B[39;00m\u001B[38;5;28mself\u001B[39m\u001B[38;5;241m.\u001B[39m\u001B[38;5;18m__class__\u001B[39m\u001B[38;5;241m.\u001B[39m\u001B[38;5;18m__name__\u001B[39m\u001B[38;5;132;01m}\u001B[39;00m\u001B[38;5;124m'\u001B[39m\u001B[38;5;124m object has no attribute \u001B[39m\u001B[38;5;124m'\u001B[39m\u001B[38;5;132;01m{\u001B[39;00mkey\u001B[38;5;132;01m}\u001B[39;00m\u001B[38;5;124m'\u001B[39m\u001B[38;5;124m\"\u001B[39m\n\u001B[1;32m     98\u001B[0m     ) \u001B[38;5;28;01mfrom\u001B[39;00m\u001B[38;5;250m \u001B[39m\u001B[38;5;28;01mNone\u001B[39;00m\n",
      "\u001B[0;31mAttributeError\u001B[0m: 'GlobalStorage' object has no attribute 'num_idx'"
     ]
    }
   ],
   "execution_count": 55
  },
  {
   "metadata": {
    "ExecuteTime": {
     "end_time": "2025-04-24T02:22:32.823575Z",
     "start_time": "2025-04-24T02:22:24.034983Z"
    }
   },
   "cell_type": "code",
   "source": [
    "PROJECTNAME = \"gnn_run_test\"\n",
    "graph_name = \"g1\"\n",
    "FILENAME = graph_name + \"_run_\" + leadtime\n",
    "TRAINNAME = graph_name + \"_train_run_\" + leadtime\n",
    "\n",
    "RESULTPATH = os.path.join(DIRECTORY, f\"leas_trained_models/best_{leadtime}/best_{leadtime}_{graph_name}\")\n",
    "\n",
    "with wandb.init(\n",
    "        project=PROJECTNAME, id=TRAINNAME, config=args_dict, tags=[\"final\"]\n",
    "):\n",
    "    config = wandb.config\n",
    "\n",
    "    multigraph = Multigraph1(\n",
    "        num_nodes=num_nodes, #120\n",
    "        embedding_dim=emb_dim, #20\n",
    "        edge_dim=edge_dim, # 1\n",
    "        in_channels=in_channels, # 84\n",
    "        hidden_channels_gnn=config['gnn_hidden'], # 265\n",
    "        out_channels_gnn=config['gnn_hidden'], # 265\n",
    "        num_layers_gnn=config['gnn_layers'], # 2\n",
    "        heads=config['heads'], # 8\n",
    "        hidden_channels_deepset=config['gnn_hidden'], # 265\n",
    "        optimizer_class=AdamW,\n",
    "        optimizer_params=dict(lr=config['lr']),\n",
    "    )\n",
    "    torch.compile(multigraph)\n",
    "    batch = next(iter(train_loader))\n",
    "    multigraph.forward(batch)\n",
    "\n",
    "    wandb_logger = WandbLogger(project=PROJECTNAME)\n",
    "    checkpoint_callback = ModelCheckpoint(\n",
    "        dirpath=SAVEPATH, filename=TRAINNAME, monitor=\"train_loss\", mode=\"min\", save_top_k=1\n",
    "    )\n",
    "\n",
    "    # print(\"[INFO] Training model...\")\n",
    "    trainer = L.Trainer(\n",
    "        max_epochs=max_epochs,\n",
    "        log_every_n_steps=1,\n",
    "        accelerator=\"gpu\",\n",
    "        devices=1,\n",
    "        enable_progress_bar=True,\n",
    "        logger=wandb_logger,\n",
    "        callbacks=checkpoint_callback,\n",
    "    )\n",
    "\n",
    "    trainer.fit(model=multigraph, train_dataloaders=train_loader)"
   ],
   "id": "8cc7750ebe11a23d",
   "outputs": [
    {
     "data": {
      "text/plain": [
       "<IPython.core.display.HTML object>"
      ],
      "text/html": [
       "Tracking run with wandb version 0.19.6"
      ]
     },
     "metadata": {},
     "output_type": "display_data"
    },
    {
     "data": {
      "text/plain": [
       "<IPython.core.display.HTML object>"
      ],
      "text/html": [
       "Run data is saved locally in <code>/home/ltchen/gnnpp/wandb/run-20250424_042224-g1_train_run_24h</code>"
      ]
     },
     "metadata": {},
     "output_type": "display_data"
    },
    {
     "data": {
      "text/plain": [
       "<IPython.core.display.HTML object>"
      ],
      "text/html": [
       "Syncing run <strong><a href='https://wandb.ai/leachen01-karlsruhe-institute-of-technology/gnn_run_test/runs/g1_train_run_24h' target=\"_blank\">g1_train_run_24h</a></strong> to <a href='https://wandb.ai/leachen01-karlsruhe-institute-of-technology/gnn_run_test' target=\"_blank\">Weights & Biases</a> (<a href='https://wandb.me/developer-guide' target=\"_blank\">docs</a>)<br>"
      ]
     },
     "metadata": {},
     "output_type": "display_data"
    },
    {
     "data": {
      "text/plain": [
       "<IPython.core.display.HTML object>"
      ],
      "text/html": [
       " View project at <a href='https://wandb.ai/leachen01-karlsruhe-institute-of-technology/gnn_run_test' target=\"_blank\">https://wandb.ai/leachen01-karlsruhe-institute-of-technology/gnn_run_test</a>"
      ]
     },
     "metadata": {},
     "output_type": "display_data"
    },
    {
     "data": {
      "text/plain": [
       "<IPython.core.display.HTML object>"
      ],
      "text/html": [
       " View run at <a href='https://wandb.ai/leachen01-karlsruhe-institute-of-technology/gnn_run_test/runs/g1_train_run_24h' target=\"_blank\">https://wandb.ai/leachen01-karlsruhe-institute-of-technology/gnn_run_test/runs/g1_train_run_24h</a>"
      ]
     },
     "metadata": {},
     "output_type": "display_data"
    },
    {
     "name": "stderr",
     "output_type": "stream",
     "text": [
      "GPU available: True (cuda), used: True\n",
      "TPU available: False, using: 0 TPU cores\n",
      "HPU available: False, using: 0 HPUs\n",
      "/home/ltchen/.conda/envs/gnn_env4/lib/python3.10/site-packages/pytorch_lightning/trainer/configuration_validator.py:70: You defined a `validation_step` but have no `val_dataloader`. Skipping val loop.\n",
      "/home/ltchen/.conda/envs/gnn_env4/lib/python3.10/site-packages/pytorch_lightning/loggers/wandb.py:396: There is a wandb run already in progress and newly created instances of `WandbLogger` will reuse this run. If this is not desired, call `wandb.finish()` before instantiating `WandbLogger`.\n",
      "LOCAL_RANK: 0 - CUDA_VISIBLE_DEVICES: [0,1]\n",
      "\n",
      "  | Name        | Type              | Params | Mode \n",
      "----------------------------------------------------------\n",
      "0 | encoder     | EmbedStations     | 2.4 K  | train\n",
      "1 | conv        | ResGnn            | 9.9 M  | train\n",
      "2 | aggr        | DeepSetAggregator | 212 K  | train\n",
      "3 | postprocess | MakePositive      | 0      | train\n",
      "4 | loss_fn     | NormalCRPS        | 0      | train\n",
      "----------------------------------------------------------\n",
      "10.1 M    Trainable params\n",
      "0         Non-trainable params\n",
      "10.1 M    Total params\n",
      "40.571    Total estimated model params size (MB)\n",
      "24        Modules in train mode\n",
      "0         Modules in eval mode\n",
      "/home/ltchen/.conda/envs/gnn_env4/lib/python3.10/site-packages/pytorch_lightning/trainer/connectors/data_connector.py:424: The 'train_dataloader' does not have many workers which may be a bottleneck. Consider increasing the value of the `num_workers` argument` to `num_workers=23` in the `DataLoader` to improve performance.\n"
     ]
    },
    {
     "name": "stdout",
     "output_type": "stream",
     "text": [
      "Epoch 0:  52%|█████▏    | 171/327 [00:05<00:04, 32.43it/s, v_num=_24h, train_loss_step=1.070]"
     ]
    },
    {
     "name": "stderr",
     "output_type": "stream",
     "text": [
      "\n",
      "Detected KeyboardInterrupt, attempting graceful shutdown ...\n",
      "Traceback (most recent call last):\n",
      "  File \"/home/ltchen/.conda/envs/gnn_env4/lib/python3.10/site-packages/pytorch_lightning/trainer/call.py\", line 47, in _call_and_handle_interrupt\n",
      "    return trainer_fn(*args, **kwargs)\n",
      "  File \"/home/ltchen/.conda/envs/gnn_env4/lib/python3.10/site-packages/pytorch_lightning/trainer/trainer.py\", line 574, in _fit_impl\n",
      "    self._run(model, ckpt_path=ckpt_path)\n",
      "  File \"/home/ltchen/.conda/envs/gnn_env4/lib/python3.10/site-packages/pytorch_lightning/trainer/trainer.py\", line 981, in _run\n",
      "    results = self._run_stage()\n",
      "  File \"/home/ltchen/.conda/envs/gnn_env4/lib/python3.10/site-packages/pytorch_lightning/trainer/trainer.py\", line 1025, in _run_stage\n",
      "    self.fit_loop.run()\n",
      "  File \"/home/ltchen/.conda/envs/gnn_env4/lib/python3.10/site-packages/pytorch_lightning/loops/fit_loop.py\", line 205, in run\n",
      "    self.advance()\n",
      "  File \"/home/ltchen/.conda/envs/gnn_env4/lib/python3.10/site-packages/pytorch_lightning/loops/fit_loop.py\", line 363, in advance\n",
      "    self.epoch_loop.run(self._data_fetcher)\n",
      "  File \"/home/ltchen/.conda/envs/gnn_env4/lib/python3.10/site-packages/pytorch_lightning/loops/training_epoch_loop.py\", line 140, in run\n",
      "    self.advance(data_fetcher)\n",
      "  File \"/home/ltchen/.conda/envs/gnn_env4/lib/python3.10/site-packages/pytorch_lightning/loops/training_epoch_loop.py\", line 250, in advance\n",
      "    batch_output = self.automatic_optimization.run(trainer.optimizers[0], batch_idx, kwargs)\n",
      "  File \"/home/ltchen/.conda/envs/gnn_env4/lib/python3.10/site-packages/pytorch_lightning/loops/optimization/automatic.py\", line 190, in run\n",
      "    self._optimizer_step(batch_idx, closure)\n",
      "  File \"/home/ltchen/.conda/envs/gnn_env4/lib/python3.10/site-packages/pytorch_lightning/loops/optimization/automatic.py\", line 268, in _optimizer_step\n",
      "    call._call_lightning_module_hook(\n",
      "  File \"/home/ltchen/.conda/envs/gnn_env4/lib/python3.10/site-packages/pytorch_lightning/trainer/call.py\", line 167, in _call_lightning_module_hook\n",
      "    output = fn(*args, **kwargs)\n",
      "  File \"/home/ltchen/.conda/envs/gnn_env4/lib/python3.10/site-packages/pytorch_lightning/core/module.py\", line 1306, in optimizer_step\n",
      "    optimizer.step(closure=optimizer_closure)\n",
      "  File \"/home/ltchen/.conda/envs/gnn_env4/lib/python3.10/site-packages/pytorch_lightning/core/optimizer.py\", line 153, in step\n",
      "    step_output = self._strategy.optimizer_step(self._optimizer, closure, **kwargs)\n",
      "  File \"/home/ltchen/.conda/envs/gnn_env4/lib/python3.10/site-packages/pytorch_lightning/strategies/strategy.py\", line 238, in optimizer_step\n",
      "    return self.precision_plugin.optimizer_step(optimizer, model=model, closure=closure, **kwargs)\n",
      "  File \"/home/ltchen/.conda/envs/gnn_env4/lib/python3.10/site-packages/pytorch_lightning/plugins/precision/precision.py\", line 122, in optimizer_step\n",
      "    return optimizer.step(closure=closure, **kwargs)\n",
      "  File \"/home/ltchen/.conda/envs/gnn_env4/lib/python3.10/site-packages/torch/optim/optimizer.py\", line 484, in wrapper\n",
      "    out = func(*args, **kwargs)\n",
      "  File \"/home/ltchen/.conda/envs/gnn_env4/lib/python3.10/site-packages/torch/optim/optimizer.py\", line 89, in _use_grad\n",
      "    ret = func(self, *args, **kwargs)\n",
      "  File \"/home/ltchen/.conda/envs/gnn_env4/lib/python3.10/site-packages/torch/optim/adamw.py\", line 204, in step\n",
      "    loss = closure()\n",
      "  File \"/home/ltchen/.conda/envs/gnn_env4/lib/python3.10/site-packages/pytorch_lightning/plugins/precision/precision.py\", line 108, in _wrap_closure\n",
      "    closure_result = closure()\n",
      "  File \"/home/ltchen/.conda/envs/gnn_env4/lib/python3.10/site-packages/pytorch_lightning/loops/optimization/automatic.py\", line 144, in __call__\n",
      "    self._result = self.closure(*args, **kwargs)\n",
      "  File \"/home/ltchen/.conda/envs/gnn_env4/lib/python3.10/site-packages/torch/utils/_contextlib.py\", line 116, in decorate_context\n",
      "    return func(*args, **kwargs)\n",
      "  File \"/home/ltchen/.conda/envs/gnn_env4/lib/python3.10/site-packages/pytorch_lightning/loops/optimization/automatic.py\", line 129, in closure\n",
      "    step_output = self._step_fn()\n",
      "  File \"/home/ltchen/.conda/envs/gnn_env4/lib/python3.10/site-packages/pytorch_lightning/loops/optimization/automatic.py\", line 317, in _training_step\n",
      "    training_step_output = call._call_strategy_hook(trainer, \"training_step\", *kwargs.values())\n",
      "  File \"/home/ltchen/.conda/envs/gnn_env4/lib/python3.10/site-packages/pytorch_lightning/trainer/call.py\", line 319, in _call_strategy_hook\n",
      "    output = fn(*args, **kwargs)\n",
      "  File \"/home/ltchen/.conda/envs/gnn_env4/lib/python3.10/site-packages/pytorch_lightning/strategies/strategy.py\", line 390, in training_step\n",
      "    return self.lightning_module.training_step(*args, **kwargs)\n",
      "  File \"/tmp/ipykernel_4133795/3117906408.py\", line 158, in training_step\n",
      "    y_hat = self.forward(batch) # 960\n",
      "  File \"/tmp/ipykernel_4133795/3117906408.py\", line 152, in forward\n",
      "    x = self.conv(x, edge_index, edge_attr) # [960, 265]\n",
      "  File \"/home/ltchen/.conda/envs/gnn_env4/lib/python3.10/site-packages/torch/nn/modules/module.py\", line 1553, in _wrapped_call_impl\n",
      "    return self._call_impl(*args, **kwargs)\n",
      "  File \"/home/ltchen/.conda/envs/gnn_env4/lib/python3.10/site-packages/torch/nn/modules/module.py\", line 1562, in _call_impl\n",
      "    return forward_call(*args, **kwargs)\n",
      "  File \"/tmp/ipykernel_4133795/3117906408.py\", line 56, in forward\n",
      "    x = x + self.relu(conv(x, edge_index, edge_attr))  # Residual Layers\n",
      "  File \"/home/ltchen/.conda/envs/gnn_env4/lib/python3.10/site-packages/torch/nn/modules/module.py\", line 1553, in _wrapped_call_impl\n",
      "    return self._call_impl(*args, **kwargs)\n",
      "  File \"/home/ltchen/.conda/envs/gnn_env4/lib/python3.10/site-packages/torch/nn/modules/module.py\", line 1562, in _call_impl\n",
      "    return forward_call(*args, **kwargs)\n",
      "  File \"/home/ltchen/.conda/envs/gnn_env4/lib/python3.10/site-packages/torch_geometric/nn/conv/gatv2_conv.py\", line 325, in forward\n",
      "    alpha = self.edge_updater(edge_index, x=(x_l, x_r),\n",
      "  File \"/tmp/torch_geometric.nn.conv.gatv2_conv_GATv2Conv_edge_updater_vnbkltgq.py\", line 176, in edge_updater\n",
      "    out = self.edge_update(\n",
      "  File \"/home/ltchen/.conda/envs/gnn_env4/lib/python3.10/site-packages/torch_geometric/nn/conv/gatv2_conv.py\", line 364, in edge_update\n",
      "    edge_attr = self.lin_edge(edge_attr)\n",
      "  File \"/home/ltchen/.conda/envs/gnn_env4/lib/python3.10/site-packages/torch/nn/modules/module.py\", line 1553, in _wrapped_call_impl\n",
      "    return self._call_impl(*args, **kwargs)\n",
      "  File \"/home/ltchen/.conda/envs/gnn_env4/lib/python3.10/site-packages/torch/nn/modules/module.py\", line 1562, in _call_impl\n",
      "    return forward_call(*args, **kwargs)\n",
      "  File \"/home/ltchen/.conda/envs/gnn_env4/lib/python3.10/site-packages/torch_geometric/nn/dense/linear.py\", line 147, in forward\n",
      "    return F.linear(x, self.weight, self.bias)\n",
      "KeyboardInterrupt\n",
      "\n",
      "During handling of the above exception, another exception occurred:\n",
      "\n",
      "Traceback (most recent call last):\n",
      "  File \"/tmp/ipykernel_4133795/1182909222.py\", line 46, in <module>\n",
      "    trainer.fit(model=multigraph, train_dataloaders=train_loader)\n",
      "  File \"/home/ltchen/.conda/envs/gnn_env4/lib/python3.10/site-packages/pytorch_lightning/trainer/trainer.py\", line 538, in fit\n",
      "    call._call_and_handle_interrupt(\n",
      "  File \"/home/ltchen/.conda/envs/gnn_env4/lib/python3.10/site-packages/pytorch_lightning/trainer/call.py\", line 64, in _call_and_handle_interrupt\n",
      "    exit(1)\n",
      "NameError: name 'exit' is not defined\n"
     ]
    },
    {
     "data": {
      "text/plain": [
       "<IPython.core.display.HTML object>"
      ],
      "text/html": []
     },
     "metadata": {},
     "output_type": "display_data"
    },
    {
     "data": {
      "text/plain": [
       "<IPython.core.display.HTML object>"
      ],
      "text/html": [
       "<br>    <style><br>        .wandb-row {<br>            display: flex;<br>            flex-direction: row;<br>            flex-wrap: wrap;<br>            justify-content: flex-start;<br>            width: 100%;<br>        }<br>        .wandb-col {<br>            display: flex;<br>            flex-direction: column;<br>            flex-basis: 100%;<br>            flex: 1;<br>            padding: 10px;<br>        }<br>    </style><br><div class=\"wandb-row\"><div class=\"wandb-col\"><h3>Run history:</h3><br/><table class=\"wandb\"><tr><td>epoch</td><td>▁▁▁▁▁▁▁▁▁▁▁▁▁▁▁▁▁▁▁▁▁▁▁▁▁▁▁▁▁▁▁▁▁▁▁▁▁▁▁▁</td></tr><tr><td>train_loss_step</td><td>▆▇█▆▄▃▄▃▃▂▂▂▂▂▂▁▁▁▁▁▁▁▁▁▁▁▁▁▁▁▁▁▁▁▁▁▁▁▁▁</td></tr><tr><td>trainer/global_step</td><td>▁▁▁▂▂▂▂▂▂▃▃▄▄▄▄▄▄▅▅▅▅▅▅▆▆▆▆▆▇▇▇▇▇▇▇█████</td></tr></table><br/></div><div class=\"wandb-col\"><h3>Run summary:</h3><br/><table class=\"wandb\"><tr><td>epoch</td><td>0</td></tr><tr><td>train_loss_step</td><td>1.07425</td></tr><tr><td>trainer/global_step</td><td>170</td></tr></table><br/></div></div>"
      ]
     },
     "metadata": {},
     "output_type": "display_data"
    },
    {
     "data": {
      "text/plain": [
       "<IPython.core.display.HTML object>"
      ],
      "text/html": [
       " View run <strong style=\"color:#cdcd00\">g1_train_run_24h</strong> at: <a href='https://wandb.ai/leachen01-karlsruhe-institute-of-technology/gnn_run_test/runs/g1_train_run_24h' target=\"_blank\">https://wandb.ai/leachen01-karlsruhe-institute-of-technology/gnn_run_test/runs/g1_train_run_24h</a><br> View project at: <a href='https://wandb.ai/leachen01-karlsruhe-institute-of-technology/gnn_run_test' target=\"_blank\">https://wandb.ai/leachen01-karlsruhe-institute-of-technology/gnn_run_test</a><br>Synced 5 W&B file(s), 0 media file(s), 0 artifact file(s) and 0 other file(s)"
      ]
     },
     "metadata": {},
     "output_type": "display_data"
    },
    {
     "data": {
      "text/plain": [
       "<IPython.core.display.HTML object>"
      ],
      "text/html": [
       "Find logs at: <code>./wandb/run-20250424_042224-g1_train_run_24h/logs</code>"
      ]
     },
     "metadata": {},
     "output_type": "display_data"
    },
    {
     "ename": "NameError",
     "evalue": "name 'exit' is not defined",
     "output_type": "error",
     "traceback": [
      "\u001B[0;31m---------------------------------------------------------------------------\u001B[0m",
      "\u001B[0;31mKeyboardInterrupt\u001B[0m                         Traceback (most recent call last)",
      "File \u001B[0;32m~/.conda/envs/gnn_env4/lib/python3.10/site-packages/pytorch_lightning/trainer/call.py:47\u001B[0m, in \u001B[0;36m_call_and_handle_interrupt\u001B[0;34m(trainer, trainer_fn, *args, **kwargs)\u001B[0m\n\u001B[1;32m     46\u001B[0m         \u001B[38;5;28;01mreturn\u001B[39;00m trainer\u001B[38;5;241m.\u001B[39mstrategy\u001B[38;5;241m.\u001B[39mlauncher\u001B[38;5;241m.\u001B[39mlaunch(trainer_fn, \u001B[38;5;241m*\u001B[39margs, trainer\u001B[38;5;241m=\u001B[39mtrainer, \u001B[38;5;241m*\u001B[39m\u001B[38;5;241m*\u001B[39mkwargs)\n\u001B[0;32m---> 47\u001B[0m     \u001B[38;5;28;01mreturn\u001B[39;00m \u001B[43mtrainer_fn\u001B[49m\u001B[43m(\u001B[49m\u001B[38;5;241;43m*\u001B[39;49m\u001B[43margs\u001B[49m\u001B[43m,\u001B[49m\u001B[43m \u001B[49m\u001B[38;5;241;43m*\u001B[39;49m\u001B[38;5;241;43m*\u001B[39;49m\u001B[43mkwargs\u001B[49m\u001B[43m)\u001B[49m\n\u001B[1;32m     49\u001B[0m \u001B[38;5;28;01mexcept\u001B[39;00m _TunerExitException:\n",
      "File \u001B[0;32m~/.conda/envs/gnn_env4/lib/python3.10/site-packages/pytorch_lightning/trainer/trainer.py:574\u001B[0m, in \u001B[0;36mTrainer._fit_impl\u001B[0;34m(self, model, train_dataloaders, val_dataloaders, datamodule, ckpt_path)\u001B[0m\n\u001B[1;32m    568\u001B[0m ckpt_path \u001B[38;5;241m=\u001B[39m \u001B[38;5;28mself\u001B[39m\u001B[38;5;241m.\u001B[39m_checkpoint_connector\u001B[38;5;241m.\u001B[39m_select_ckpt_path(\n\u001B[1;32m    569\u001B[0m     \u001B[38;5;28mself\u001B[39m\u001B[38;5;241m.\u001B[39mstate\u001B[38;5;241m.\u001B[39mfn,\n\u001B[1;32m    570\u001B[0m     ckpt_path,\n\u001B[1;32m    571\u001B[0m     model_provided\u001B[38;5;241m=\u001B[39m\u001B[38;5;28;01mTrue\u001B[39;00m,\n\u001B[1;32m    572\u001B[0m     model_connected\u001B[38;5;241m=\u001B[39m\u001B[38;5;28mself\u001B[39m\u001B[38;5;241m.\u001B[39mlightning_module \u001B[38;5;129;01mis\u001B[39;00m \u001B[38;5;129;01mnot\u001B[39;00m \u001B[38;5;28;01mNone\u001B[39;00m,\n\u001B[1;32m    573\u001B[0m )\n\u001B[0;32m--> 574\u001B[0m \u001B[38;5;28;43mself\u001B[39;49m\u001B[38;5;241;43m.\u001B[39;49m\u001B[43m_run\u001B[49m\u001B[43m(\u001B[49m\u001B[43mmodel\u001B[49m\u001B[43m,\u001B[49m\u001B[43m \u001B[49m\u001B[43mckpt_path\u001B[49m\u001B[38;5;241;43m=\u001B[39;49m\u001B[43mckpt_path\u001B[49m\u001B[43m)\u001B[49m\n\u001B[1;32m    576\u001B[0m \u001B[38;5;28;01massert\u001B[39;00m \u001B[38;5;28mself\u001B[39m\u001B[38;5;241m.\u001B[39mstate\u001B[38;5;241m.\u001B[39mstopped\n",
      "File \u001B[0;32m~/.conda/envs/gnn_env4/lib/python3.10/site-packages/pytorch_lightning/trainer/trainer.py:981\u001B[0m, in \u001B[0;36mTrainer._run\u001B[0;34m(self, model, ckpt_path)\u001B[0m\n\u001B[1;32m    978\u001B[0m \u001B[38;5;66;03m# ----------------------------\u001B[39;00m\n\u001B[1;32m    979\u001B[0m \u001B[38;5;66;03m# RUN THE TRAINER\u001B[39;00m\n\u001B[1;32m    980\u001B[0m \u001B[38;5;66;03m# ----------------------------\u001B[39;00m\n\u001B[0;32m--> 981\u001B[0m results \u001B[38;5;241m=\u001B[39m \u001B[38;5;28;43mself\u001B[39;49m\u001B[38;5;241;43m.\u001B[39;49m\u001B[43m_run_stage\u001B[49m\u001B[43m(\u001B[49m\u001B[43m)\u001B[49m\n\u001B[1;32m    983\u001B[0m \u001B[38;5;66;03m# ----------------------------\u001B[39;00m\n\u001B[1;32m    984\u001B[0m \u001B[38;5;66;03m# POST-Training CLEAN UP\u001B[39;00m\n\u001B[1;32m    985\u001B[0m \u001B[38;5;66;03m# ----------------------------\u001B[39;00m\n",
      "File \u001B[0;32m~/.conda/envs/gnn_env4/lib/python3.10/site-packages/pytorch_lightning/trainer/trainer.py:1025\u001B[0m, in \u001B[0;36mTrainer._run_stage\u001B[0;34m(self)\u001B[0m\n\u001B[1;32m   1024\u001B[0m \u001B[38;5;28;01mwith\u001B[39;00m torch\u001B[38;5;241m.\u001B[39mautograd\u001B[38;5;241m.\u001B[39mset_detect_anomaly(\u001B[38;5;28mself\u001B[39m\u001B[38;5;241m.\u001B[39m_detect_anomaly):\n\u001B[0;32m-> 1025\u001B[0m     \u001B[38;5;28;43mself\u001B[39;49m\u001B[38;5;241;43m.\u001B[39;49m\u001B[43mfit_loop\u001B[49m\u001B[38;5;241;43m.\u001B[39;49m\u001B[43mrun\u001B[49m\u001B[43m(\u001B[49m\u001B[43m)\u001B[49m\n\u001B[1;32m   1026\u001B[0m \u001B[38;5;28;01mreturn\u001B[39;00m \u001B[38;5;28;01mNone\u001B[39;00m\n",
      "File \u001B[0;32m~/.conda/envs/gnn_env4/lib/python3.10/site-packages/pytorch_lightning/loops/fit_loop.py:205\u001B[0m, in \u001B[0;36m_FitLoop.run\u001B[0;34m(self)\u001B[0m\n\u001B[1;32m    204\u001B[0m \u001B[38;5;28mself\u001B[39m\u001B[38;5;241m.\u001B[39mon_advance_start()\n\u001B[0;32m--> 205\u001B[0m \u001B[38;5;28;43mself\u001B[39;49m\u001B[38;5;241;43m.\u001B[39;49m\u001B[43madvance\u001B[49m\u001B[43m(\u001B[49m\u001B[43m)\u001B[49m\n\u001B[1;32m    206\u001B[0m \u001B[38;5;28mself\u001B[39m\u001B[38;5;241m.\u001B[39mon_advance_end()\n",
      "File \u001B[0;32m~/.conda/envs/gnn_env4/lib/python3.10/site-packages/pytorch_lightning/loops/fit_loop.py:363\u001B[0m, in \u001B[0;36m_FitLoop.advance\u001B[0;34m(self)\u001B[0m\n\u001B[1;32m    362\u001B[0m \u001B[38;5;28;01massert\u001B[39;00m \u001B[38;5;28mself\u001B[39m\u001B[38;5;241m.\u001B[39m_data_fetcher \u001B[38;5;129;01mis\u001B[39;00m \u001B[38;5;129;01mnot\u001B[39;00m \u001B[38;5;28;01mNone\u001B[39;00m\n\u001B[0;32m--> 363\u001B[0m \u001B[38;5;28;43mself\u001B[39;49m\u001B[38;5;241;43m.\u001B[39;49m\u001B[43mepoch_loop\u001B[49m\u001B[38;5;241;43m.\u001B[39;49m\u001B[43mrun\u001B[49m\u001B[43m(\u001B[49m\u001B[38;5;28;43mself\u001B[39;49m\u001B[38;5;241;43m.\u001B[39;49m\u001B[43m_data_fetcher\u001B[49m\u001B[43m)\u001B[49m\n",
      "File \u001B[0;32m~/.conda/envs/gnn_env4/lib/python3.10/site-packages/pytorch_lightning/loops/training_epoch_loop.py:140\u001B[0m, in \u001B[0;36m_TrainingEpochLoop.run\u001B[0;34m(self, data_fetcher)\u001B[0m\n\u001B[1;32m    139\u001B[0m \u001B[38;5;28;01mtry\u001B[39;00m:\n\u001B[0;32m--> 140\u001B[0m     \u001B[38;5;28;43mself\u001B[39;49m\u001B[38;5;241;43m.\u001B[39;49m\u001B[43madvance\u001B[49m\u001B[43m(\u001B[49m\u001B[43mdata_fetcher\u001B[49m\u001B[43m)\u001B[49m\n\u001B[1;32m    141\u001B[0m     \u001B[38;5;28mself\u001B[39m\u001B[38;5;241m.\u001B[39mon_advance_end(data_fetcher)\n",
      "File \u001B[0;32m~/.conda/envs/gnn_env4/lib/python3.10/site-packages/pytorch_lightning/loops/training_epoch_loop.py:250\u001B[0m, in \u001B[0;36m_TrainingEpochLoop.advance\u001B[0;34m(self, data_fetcher)\u001B[0m\n\u001B[1;32m    248\u001B[0m \u001B[38;5;28;01mif\u001B[39;00m trainer\u001B[38;5;241m.\u001B[39mlightning_module\u001B[38;5;241m.\u001B[39mautomatic_optimization:\n\u001B[1;32m    249\u001B[0m     \u001B[38;5;66;03m# in automatic optimization, there can only be one optimizer\u001B[39;00m\n\u001B[0;32m--> 250\u001B[0m     batch_output \u001B[38;5;241m=\u001B[39m \u001B[38;5;28;43mself\u001B[39;49m\u001B[38;5;241;43m.\u001B[39;49m\u001B[43mautomatic_optimization\u001B[49m\u001B[38;5;241;43m.\u001B[39;49m\u001B[43mrun\u001B[49m\u001B[43m(\u001B[49m\u001B[43mtrainer\u001B[49m\u001B[38;5;241;43m.\u001B[39;49m\u001B[43moptimizers\u001B[49m\u001B[43m[\u001B[49m\u001B[38;5;241;43m0\u001B[39;49m\u001B[43m]\u001B[49m\u001B[43m,\u001B[49m\u001B[43m \u001B[49m\u001B[43mbatch_idx\u001B[49m\u001B[43m,\u001B[49m\u001B[43m \u001B[49m\u001B[43mkwargs\u001B[49m\u001B[43m)\u001B[49m\n\u001B[1;32m    251\u001B[0m \u001B[38;5;28;01melse\u001B[39;00m:\n",
      "File \u001B[0;32m~/.conda/envs/gnn_env4/lib/python3.10/site-packages/pytorch_lightning/loops/optimization/automatic.py:190\u001B[0m, in \u001B[0;36m_AutomaticOptimization.run\u001B[0;34m(self, optimizer, batch_idx, kwargs)\u001B[0m\n\u001B[1;32m    185\u001B[0m \u001B[38;5;66;03m# ------------------------------\u001B[39;00m\n\u001B[1;32m    186\u001B[0m \u001B[38;5;66;03m# BACKWARD PASS\u001B[39;00m\n\u001B[1;32m    187\u001B[0m \u001B[38;5;66;03m# ------------------------------\u001B[39;00m\n\u001B[1;32m    188\u001B[0m \u001B[38;5;66;03m# gradient update with accumulated gradients\u001B[39;00m\n\u001B[1;32m    189\u001B[0m \u001B[38;5;28;01melse\u001B[39;00m:\n\u001B[0;32m--> 190\u001B[0m     \u001B[38;5;28;43mself\u001B[39;49m\u001B[38;5;241;43m.\u001B[39;49m\u001B[43m_optimizer_step\u001B[49m\u001B[43m(\u001B[49m\u001B[43mbatch_idx\u001B[49m\u001B[43m,\u001B[49m\u001B[43m \u001B[49m\u001B[43mclosure\u001B[49m\u001B[43m)\u001B[49m\n\u001B[1;32m    192\u001B[0m result \u001B[38;5;241m=\u001B[39m closure\u001B[38;5;241m.\u001B[39mconsume_result()\n",
      "File \u001B[0;32m~/.conda/envs/gnn_env4/lib/python3.10/site-packages/pytorch_lightning/loops/optimization/automatic.py:268\u001B[0m, in \u001B[0;36m_AutomaticOptimization._optimizer_step\u001B[0;34m(self, batch_idx, train_step_and_backward_closure)\u001B[0m\n\u001B[1;32m    267\u001B[0m \u001B[38;5;66;03m# model hook\u001B[39;00m\n\u001B[0;32m--> 268\u001B[0m \u001B[43mcall\u001B[49m\u001B[38;5;241;43m.\u001B[39;49m\u001B[43m_call_lightning_module_hook\u001B[49m\u001B[43m(\u001B[49m\n\u001B[1;32m    269\u001B[0m \u001B[43m    \u001B[49m\u001B[43mtrainer\u001B[49m\u001B[43m,\u001B[49m\n\u001B[1;32m    270\u001B[0m \u001B[43m    \u001B[49m\u001B[38;5;124;43m\"\u001B[39;49m\u001B[38;5;124;43moptimizer_step\u001B[39;49m\u001B[38;5;124;43m\"\u001B[39;49m\u001B[43m,\u001B[49m\n\u001B[1;32m    271\u001B[0m \u001B[43m    \u001B[49m\u001B[43mtrainer\u001B[49m\u001B[38;5;241;43m.\u001B[39;49m\u001B[43mcurrent_epoch\u001B[49m\u001B[43m,\u001B[49m\n\u001B[1;32m    272\u001B[0m \u001B[43m    \u001B[49m\u001B[43mbatch_idx\u001B[49m\u001B[43m,\u001B[49m\n\u001B[1;32m    273\u001B[0m \u001B[43m    \u001B[49m\u001B[43moptimizer\u001B[49m\u001B[43m,\u001B[49m\n\u001B[1;32m    274\u001B[0m \u001B[43m    \u001B[49m\u001B[43mtrain_step_and_backward_closure\u001B[49m\u001B[43m,\u001B[49m\n\u001B[1;32m    275\u001B[0m \u001B[43m\u001B[49m\u001B[43m)\u001B[49m\n\u001B[1;32m    277\u001B[0m \u001B[38;5;28;01mif\u001B[39;00m \u001B[38;5;129;01mnot\u001B[39;00m should_accumulate:\n",
      "File \u001B[0;32m~/.conda/envs/gnn_env4/lib/python3.10/site-packages/pytorch_lightning/trainer/call.py:167\u001B[0m, in \u001B[0;36m_call_lightning_module_hook\u001B[0;34m(trainer, hook_name, pl_module, *args, **kwargs)\u001B[0m\n\u001B[1;32m    166\u001B[0m \u001B[38;5;28;01mwith\u001B[39;00m trainer\u001B[38;5;241m.\u001B[39mprofiler\u001B[38;5;241m.\u001B[39mprofile(\u001B[38;5;124mf\u001B[39m\u001B[38;5;124m\"\u001B[39m\u001B[38;5;124m[LightningModule]\u001B[39m\u001B[38;5;132;01m{\u001B[39;00mpl_module\u001B[38;5;241m.\u001B[39m\u001B[38;5;18m__class__\u001B[39m\u001B[38;5;241m.\u001B[39m\u001B[38;5;18m__name__\u001B[39m\u001B[38;5;132;01m}\u001B[39;00m\u001B[38;5;124m.\u001B[39m\u001B[38;5;132;01m{\u001B[39;00mhook_name\u001B[38;5;132;01m}\u001B[39;00m\u001B[38;5;124m\"\u001B[39m):\n\u001B[0;32m--> 167\u001B[0m     output \u001B[38;5;241m=\u001B[39m \u001B[43mfn\u001B[49m\u001B[43m(\u001B[49m\u001B[38;5;241;43m*\u001B[39;49m\u001B[43margs\u001B[49m\u001B[43m,\u001B[49m\u001B[43m \u001B[49m\u001B[38;5;241;43m*\u001B[39;49m\u001B[38;5;241;43m*\u001B[39;49m\u001B[43mkwargs\u001B[49m\u001B[43m)\u001B[49m\n\u001B[1;32m    169\u001B[0m \u001B[38;5;66;03m# restore current_fx when nested context\u001B[39;00m\n",
      "File \u001B[0;32m~/.conda/envs/gnn_env4/lib/python3.10/site-packages/pytorch_lightning/core/module.py:1306\u001B[0m, in \u001B[0;36mLightningModule.optimizer_step\u001B[0;34m(self, epoch, batch_idx, optimizer, optimizer_closure)\u001B[0m\n\u001B[1;32m   1282\u001B[0m \u001B[38;5;250m\u001B[39m\u001B[38;5;124mr\u001B[39m\u001B[38;5;124;03m\"\"\"Override this method to adjust the default way the :class:`~pytorch_lightning.trainer.trainer.Trainer` calls\u001B[39;00m\n\u001B[1;32m   1283\u001B[0m \u001B[38;5;124;03mthe optimizer.\u001B[39;00m\n\u001B[1;32m   1284\u001B[0m \n\u001B[0;32m   (...)\u001B[0m\n\u001B[1;32m   1304\u001B[0m \n\u001B[1;32m   1305\u001B[0m \u001B[38;5;124;03m\"\"\"\u001B[39;00m\n\u001B[0;32m-> 1306\u001B[0m \u001B[43moptimizer\u001B[49m\u001B[38;5;241;43m.\u001B[39;49m\u001B[43mstep\u001B[49m\u001B[43m(\u001B[49m\u001B[43mclosure\u001B[49m\u001B[38;5;241;43m=\u001B[39;49m\u001B[43moptimizer_closure\u001B[49m\u001B[43m)\u001B[49m\n",
      "File \u001B[0;32m~/.conda/envs/gnn_env4/lib/python3.10/site-packages/pytorch_lightning/core/optimizer.py:153\u001B[0m, in \u001B[0;36mLightningOptimizer.step\u001B[0;34m(self, closure, **kwargs)\u001B[0m\n\u001B[1;32m    152\u001B[0m \u001B[38;5;28;01massert\u001B[39;00m \u001B[38;5;28mself\u001B[39m\u001B[38;5;241m.\u001B[39m_strategy \u001B[38;5;129;01mis\u001B[39;00m \u001B[38;5;129;01mnot\u001B[39;00m \u001B[38;5;28;01mNone\u001B[39;00m\n\u001B[0;32m--> 153\u001B[0m step_output \u001B[38;5;241m=\u001B[39m \u001B[38;5;28;43mself\u001B[39;49m\u001B[38;5;241;43m.\u001B[39;49m\u001B[43m_strategy\u001B[49m\u001B[38;5;241;43m.\u001B[39;49m\u001B[43moptimizer_step\u001B[49m\u001B[43m(\u001B[49m\u001B[38;5;28;43mself\u001B[39;49m\u001B[38;5;241;43m.\u001B[39;49m\u001B[43m_optimizer\u001B[49m\u001B[43m,\u001B[49m\u001B[43m \u001B[49m\u001B[43mclosure\u001B[49m\u001B[43m,\u001B[49m\u001B[43m \u001B[49m\u001B[38;5;241;43m*\u001B[39;49m\u001B[38;5;241;43m*\u001B[39;49m\u001B[43mkwargs\u001B[49m\u001B[43m)\u001B[49m\n\u001B[1;32m    155\u001B[0m \u001B[38;5;28mself\u001B[39m\u001B[38;5;241m.\u001B[39m_on_after_step()\n",
      "File \u001B[0;32m~/.conda/envs/gnn_env4/lib/python3.10/site-packages/pytorch_lightning/strategies/strategy.py:238\u001B[0m, in \u001B[0;36mStrategy.optimizer_step\u001B[0;34m(self, optimizer, closure, model, **kwargs)\u001B[0m\n\u001B[1;32m    237\u001B[0m \u001B[38;5;28;01massert\u001B[39;00m \u001B[38;5;28misinstance\u001B[39m(model, pl\u001B[38;5;241m.\u001B[39mLightningModule)\n\u001B[0;32m--> 238\u001B[0m \u001B[38;5;28;01mreturn\u001B[39;00m \u001B[38;5;28;43mself\u001B[39;49m\u001B[38;5;241;43m.\u001B[39;49m\u001B[43mprecision_plugin\u001B[49m\u001B[38;5;241;43m.\u001B[39;49m\u001B[43moptimizer_step\u001B[49m\u001B[43m(\u001B[49m\u001B[43moptimizer\u001B[49m\u001B[43m,\u001B[49m\u001B[43m \u001B[49m\u001B[43mmodel\u001B[49m\u001B[38;5;241;43m=\u001B[39;49m\u001B[43mmodel\u001B[49m\u001B[43m,\u001B[49m\u001B[43m \u001B[49m\u001B[43mclosure\u001B[49m\u001B[38;5;241;43m=\u001B[39;49m\u001B[43mclosure\u001B[49m\u001B[43m,\u001B[49m\u001B[43m \u001B[49m\u001B[38;5;241;43m*\u001B[39;49m\u001B[38;5;241;43m*\u001B[39;49m\u001B[43mkwargs\u001B[49m\u001B[43m)\u001B[49m\n",
      "File \u001B[0;32m~/.conda/envs/gnn_env4/lib/python3.10/site-packages/pytorch_lightning/plugins/precision/precision.py:122\u001B[0m, in \u001B[0;36mPrecision.optimizer_step\u001B[0;34m(self, optimizer, model, closure, **kwargs)\u001B[0m\n\u001B[1;32m    121\u001B[0m closure \u001B[38;5;241m=\u001B[39m partial(\u001B[38;5;28mself\u001B[39m\u001B[38;5;241m.\u001B[39m_wrap_closure, model, optimizer, closure)\n\u001B[0;32m--> 122\u001B[0m \u001B[38;5;28;01mreturn\u001B[39;00m \u001B[43moptimizer\u001B[49m\u001B[38;5;241;43m.\u001B[39;49m\u001B[43mstep\u001B[49m\u001B[43m(\u001B[49m\u001B[43mclosure\u001B[49m\u001B[38;5;241;43m=\u001B[39;49m\u001B[43mclosure\u001B[49m\u001B[43m,\u001B[49m\u001B[43m \u001B[49m\u001B[38;5;241;43m*\u001B[39;49m\u001B[38;5;241;43m*\u001B[39;49m\u001B[43mkwargs\u001B[49m\u001B[43m)\u001B[49m\n",
      "File \u001B[0;32m~/.conda/envs/gnn_env4/lib/python3.10/site-packages/torch/optim/optimizer.py:484\u001B[0m, in \u001B[0;36mOptimizer.profile_hook_step.<locals>.wrapper\u001B[0;34m(*args, **kwargs)\u001B[0m\n\u001B[1;32m    480\u001B[0m             \u001B[38;5;28;01mraise\u001B[39;00m \u001B[38;5;167;01mRuntimeError\u001B[39;00m(\n\u001B[1;32m    481\u001B[0m                 \u001B[38;5;124mf\u001B[39m\u001B[38;5;124m\"\u001B[39m\u001B[38;5;132;01m{\u001B[39;00mfunc\u001B[38;5;132;01m}\u001B[39;00m\u001B[38;5;124m must return None or a tuple of (new_args, new_kwargs), but got \u001B[39m\u001B[38;5;132;01m{\u001B[39;00mresult\u001B[38;5;132;01m}\u001B[39;00m\u001B[38;5;124m.\u001B[39m\u001B[38;5;124m\"\u001B[39m\n\u001B[1;32m    482\u001B[0m             )\n\u001B[0;32m--> 484\u001B[0m out \u001B[38;5;241m=\u001B[39m \u001B[43mfunc\u001B[49m\u001B[43m(\u001B[49m\u001B[38;5;241;43m*\u001B[39;49m\u001B[43margs\u001B[49m\u001B[43m,\u001B[49m\u001B[43m \u001B[49m\u001B[38;5;241;43m*\u001B[39;49m\u001B[38;5;241;43m*\u001B[39;49m\u001B[43mkwargs\u001B[49m\u001B[43m)\u001B[49m\n\u001B[1;32m    485\u001B[0m \u001B[38;5;28mself\u001B[39m\u001B[38;5;241m.\u001B[39m_optimizer_step_code()\n",
      "File \u001B[0;32m~/.conda/envs/gnn_env4/lib/python3.10/site-packages/torch/optim/optimizer.py:89\u001B[0m, in \u001B[0;36m_use_grad_for_differentiable.<locals>._use_grad\u001B[0;34m(self, *args, **kwargs)\u001B[0m\n\u001B[1;32m     88\u001B[0m     torch\u001B[38;5;241m.\u001B[39m_dynamo\u001B[38;5;241m.\u001B[39mgraph_break()\n\u001B[0;32m---> 89\u001B[0m     ret \u001B[38;5;241m=\u001B[39m \u001B[43mfunc\u001B[49m\u001B[43m(\u001B[49m\u001B[38;5;28;43mself\u001B[39;49m\u001B[43m,\u001B[49m\u001B[43m \u001B[49m\u001B[38;5;241;43m*\u001B[39;49m\u001B[43margs\u001B[49m\u001B[43m,\u001B[49m\u001B[43m \u001B[49m\u001B[38;5;241;43m*\u001B[39;49m\u001B[38;5;241;43m*\u001B[39;49m\u001B[43mkwargs\u001B[49m\u001B[43m)\u001B[49m\n\u001B[1;32m     90\u001B[0m \u001B[38;5;28;01mfinally\u001B[39;00m:\n",
      "File \u001B[0;32m~/.conda/envs/gnn_env4/lib/python3.10/site-packages/torch/optim/adamw.py:204\u001B[0m, in \u001B[0;36mAdamW.step\u001B[0;34m(self, closure)\u001B[0m\n\u001B[1;32m    203\u001B[0m     \u001B[38;5;28;01mwith\u001B[39;00m torch\u001B[38;5;241m.\u001B[39menable_grad():\n\u001B[0;32m--> 204\u001B[0m         loss \u001B[38;5;241m=\u001B[39m \u001B[43mclosure\u001B[49m\u001B[43m(\u001B[49m\u001B[43m)\u001B[49m\n\u001B[1;32m    206\u001B[0m \u001B[38;5;28;01mfor\u001B[39;00m group \u001B[38;5;129;01min\u001B[39;00m \u001B[38;5;28mself\u001B[39m\u001B[38;5;241m.\u001B[39mparam_groups:\n",
      "File \u001B[0;32m~/.conda/envs/gnn_env4/lib/python3.10/site-packages/pytorch_lightning/plugins/precision/precision.py:108\u001B[0m, in \u001B[0;36mPrecision._wrap_closure\u001B[0;34m(self, model, optimizer, closure)\u001B[0m\n\u001B[1;32m    101\u001B[0m \u001B[38;5;250m\u001B[39m\u001B[38;5;124;03m\"\"\"This double-closure allows makes sure the ``closure`` is executed before the ``on_before_optimizer_step``\u001B[39;00m\n\u001B[1;32m    102\u001B[0m \u001B[38;5;124;03mhook is called.\u001B[39;00m\n\u001B[1;32m    103\u001B[0m \n\u001B[0;32m   (...)\u001B[0m\n\u001B[1;32m    106\u001B[0m \n\u001B[1;32m    107\u001B[0m \u001B[38;5;124;03m\"\"\"\u001B[39;00m\n\u001B[0;32m--> 108\u001B[0m closure_result \u001B[38;5;241m=\u001B[39m \u001B[43mclosure\u001B[49m\u001B[43m(\u001B[49m\u001B[43m)\u001B[49m\n\u001B[1;32m    109\u001B[0m \u001B[38;5;28mself\u001B[39m\u001B[38;5;241m.\u001B[39m_after_closure(model, optimizer)\n",
      "File \u001B[0;32m~/.conda/envs/gnn_env4/lib/python3.10/site-packages/pytorch_lightning/loops/optimization/automatic.py:144\u001B[0m, in \u001B[0;36mClosure.__call__\u001B[0;34m(self, *args, **kwargs)\u001B[0m\n\u001B[1;32m    142\u001B[0m \u001B[38;5;129m@override\u001B[39m\n\u001B[1;32m    143\u001B[0m \u001B[38;5;28;01mdef\u001B[39;00m\u001B[38;5;250m \u001B[39m\u001B[38;5;21m__call__\u001B[39m(\u001B[38;5;28mself\u001B[39m, \u001B[38;5;241m*\u001B[39margs: Any, \u001B[38;5;241m*\u001B[39m\u001B[38;5;241m*\u001B[39mkwargs: Any) \u001B[38;5;241m-\u001B[39m\u001B[38;5;241m>\u001B[39m Optional[Tensor]:\n\u001B[0;32m--> 144\u001B[0m     \u001B[38;5;28mself\u001B[39m\u001B[38;5;241m.\u001B[39m_result \u001B[38;5;241m=\u001B[39m \u001B[38;5;28;43mself\u001B[39;49m\u001B[38;5;241;43m.\u001B[39;49m\u001B[43mclosure\u001B[49m\u001B[43m(\u001B[49m\u001B[38;5;241;43m*\u001B[39;49m\u001B[43margs\u001B[49m\u001B[43m,\u001B[49m\u001B[43m \u001B[49m\u001B[38;5;241;43m*\u001B[39;49m\u001B[38;5;241;43m*\u001B[39;49m\u001B[43mkwargs\u001B[49m\u001B[43m)\u001B[49m\n\u001B[1;32m    145\u001B[0m     \u001B[38;5;28;01mreturn\u001B[39;00m \u001B[38;5;28mself\u001B[39m\u001B[38;5;241m.\u001B[39m_result\u001B[38;5;241m.\u001B[39mloss\n",
      "File \u001B[0;32m~/.conda/envs/gnn_env4/lib/python3.10/site-packages/torch/utils/_contextlib.py:116\u001B[0m, in \u001B[0;36mcontext_decorator.<locals>.decorate_context\u001B[0;34m(*args, **kwargs)\u001B[0m\n\u001B[1;32m    115\u001B[0m \u001B[38;5;28;01mwith\u001B[39;00m ctx_factory():\n\u001B[0;32m--> 116\u001B[0m     \u001B[38;5;28;01mreturn\u001B[39;00m \u001B[43mfunc\u001B[49m\u001B[43m(\u001B[49m\u001B[38;5;241;43m*\u001B[39;49m\u001B[43margs\u001B[49m\u001B[43m,\u001B[49m\u001B[43m \u001B[49m\u001B[38;5;241;43m*\u001B[39;49m\u001B[38;5;241;43m*\u001B[39;49m\u001B[43mkwargs\u001B[49m\u001B[43m)\u001B[49m\n",
      "File \u001B[0;32m~/.conda/envs/gnn_env4/lib/python3.10/site-packages/pytorch_lightning/loops/optimization/automatic.py:129\u001B[0m, in \u001B[0;36mClosure.closure\u001B[0;34m(self, *args, **kwargs)\u001B[0m\n\u001B[1;32m    126\u001B[0m \u001B[38;5;129m@override\u001B[39m\n\u001B[1;32m    127\u001B[0m \u001B[38;5;129m@torch\u001B[39m\u001B[38;5;241m.\u001B[39menable_grad()\n\u001B[1;32m    128\u001B[0m \u001B[38;5;28;01mdef\u001B[39;00m\u001B[38;5;250m \u001B[39m\u001B[38;5;21mclosure\u001B[39m(\u001B[38;5;28mself\u001B[39m, \u001B[38;5;241m*\u001B[39margs: Any, \u001B[38;5;241m*\u001B[39m\u001B[38;5;241m*\u001B[39mkwargs: Any) \u001B[38;5;241m-\u001B[39m\u001B[38;5;241m>\u001B[39m ClosureResult:\n\u001B[0;32m--> 129\u001B[0m     step_output \u001B[38;5;241m=\u001B[39m \u001B[38;5;28;43mself\u001B[39;49m\u001B[38;5;241;43m.\u001B[39;49m\u001B[43m_step_fn\u001B[49m\u001B[43m(\u001B[49m\u001B[43m)\u001B[49m\n\u001B[1;32m    131\u001B[0m     \u001B[38;5;28;01mif\u001B[39;00m step_output\u001B[38;5;241m.\u001B[39mclosure_loss \u001B[38;5;129;01mis\u001B[39;00m \u001B[38;5;28;01mNone\u001B[39;00m:\n",
      "File \u001B[0;32m~/.conda/envs/gnn_env4/lib/python3.10/site-packages/pytorch_lightning/loops/optimization/automatic.py:317\u001B[0m, in \u001B[0;36m_AutomaticOptimization._training_step\u001B[0;34m(self, kwargs)\u001B[0m\n\u001B[1;32m    315\u001B[0m trainer \u001B[38;5;241m=\u001B[39m \u001B[38;5;28mself\u001B[39m\u001B[38;5;241m.\u001B[39mtrainer\n\u001B[0;32m--> 317\u001B[0m training_step_output \u001B[38;5;241m=\u001B[39m \u001B[43mcall\u001B[49m\u001B[38;5;241;43m.\u001B[39;49m\u001B[43m_call_strategy_hook\u001B[49m\u001B[43m(\u001B[49m\u001B[43mtrainer\u001B[49m\u001B[43m,\u001B[49m\u001B[43m \u001B[49m\u001B[38;5;124;43m\"\u001B[39;49m\u001B[38;5;124;43mtraining_step\u001B[39;49m\u001B[38;5;124;43m\"\u001B[39;49m\u001B[43m,\u001B[49m\u001B[43m \u001B[49m\u001B[38;5;241;43m*\u001B[39;49m\u001B[43mkwargs\u001B[49m\u001B[38;5;241;43m.\u001B[39;49m\u001B[43mvalues\u001B[49m\u001B[43m(\u001B[49m\u001B[43m)\u001B[49m\u001B[43m)\u001B[49m\n\u001B[1;32m    318\u001B[0m \u001B[38;5;28mself\u001B[39m\u001B[38;5;241m.\u001B[39mtrainer\u001B[38;5;241m.\u001B[39mstrategy\u001B[38;5;241m.\u001B[39mpost_training_step()  \u001B[38;5;66;03m# unused hook - call anyway for backward compatibility\u001B[39;00m\n",
      "File \u001B[0;32m~/.conda/envs/gnn_env4/lib/python3.10/site-packages/pytorch_lightning/trainer/call.py:319\u001B[0m, in \u001B[0;36m_call_strategy_hook\u001B[0;34m(trainer, hook_name, *args, **kwargs)\u001B[0m\n\u001B[1;32m    318\u001B[0m \u001B[38;5;28;01mwith\u001B[39;00m trainer\u001B[38;5;241m.\u001B[39mprofiler\u001B[38;5;241m.\u001B[39mprofile(\u001B[38;5;124mf\u001B[39m\u001B[38;5;124m\"\u001B[39m\u001B[38;5;124m[Strategy]\u001B[39m\u001B[38;5;132;01m{\u001B[39;00mtrainer\u001B[38;5;241m.\u001B[39mstrategy\u001B[38;5;241m.\u001B[39m\u001B[38;5;18m__class__\u001B[39m\u001B[38;5;241m.\u001B[39m\u001B[38;5;18m__name__\u001B[39m\u001B[38;5;132;01m}\u001B[39;00m\u001B[38;5;124m.\u001B[39m\u001B[38;5;132;01m{\u001B[39;00mhook_name\u001B[38;5;132;01m}\u001B[39;00m\u001B[38;5;124m\"\u001B[39m):\n\u001B[0;32m--> 319\u001B[0m     output \u001B[38;5;241m=\u001B[39m \u001B[43mfn\u001B[49m\u001B[43m(\u001B[49m\u001B[38;5;241;43m*\u001B[39;49m\u001B[43margs\u001B[49m\u001B[43m,\u001B[49m\u001B[43m \u001B[49m\u001B[38;5;241;43m*\u001B[39;49m\u001B[38;5;241;43m*\u001B[39;49m\u001B[43mkwargs\u001B[49m\u001B[43m)\u001B[49m\n\u001B[1;32m    321\u001B[0m \u001B[38;5;66;03m# restore current_fx when nested context\u001B[39;00m\n",
      "File \u001B[0;32m~/.conda/envs/gnn_env4/lib/python3.10/site-packages/pytorch_lightning/strategies/strategy.py:390\u001B[0m, in \u001B[0;36mStrategy.training_step\u001B[0;34m(self, *args, **kwargs)\u001B[0m\n\u001B[1;32m    389\u001B[0m     \u001B[38;5;28;01mreturn\u001B[39;00m \u001B[38;5;28mself\u001B[39m\u001B[38;5;241m.\u001B[39m_forward_redirection(\u001B[38;5;28mself\u001B[39m\u001B[38;5;241m.\u001B[39mmodel, \u001B[38;5;28mself\u001B[39m\u001B[38;5;241m.\u001B[39mlightning_module, \u001B[38;5;124m\"\u001B[39m\u001B[38;5;124mtraining_step\u001B[39m\u001B[38;5;124m\"\u001B[39m, \u001B[38;5;241m*\u001B[39margs, \u001B[38;5;241m*\u001B[39m\u001B[38;5;241m*\u001B[39mkwargs)\n\u001B[0;32m--> 390\u001B[0m \u001B[38;5;28;01mreturn\u001B[39;00m \u001B[38;5;28;43mself\u001B[39;49m\u001B[38;5;241;43m.\u001B[39;49m\u001B[43mlightning_module\u001B[49m\u001B[38;5;241;43m.\u001B[39;49m\u001B[43mtraining_step\u001B[49m\u001B[43m(\u001B[49m\u001B[38;5;241;43m*\u001B[39;49m\u001B[43margs\u001B[49m\u001B[43m,\u001B[49m\u001B[43m \u001B[49m\u001B[38;5;241;43m*\u001B[39;49m\u001B[38;5;241;43m*\u001B[39;49m\u001B[43mkwargs\u001B[49m\u001B[43m)\u001B[49m\n",
      "Cell \u001B[0;32mIn[97], line 158\u001B[0m, in \u001B[0;36mMultigraph1.training_step\u001B[0;34m(self, batch, batch_idx)\u001B[0m\n\u001B[1;32m    157\u001B[0m \u001B[38;5;28;01mdef\u001B[39;00m\u001B[38;5;250m \u001B[39m\u001B[38;5;21mtraining_step\u001B[39m(\u001B[38;5;28mself\u001B[39m, batch, batch_idx):\n\u001B[0;32m--> 158\u001B[0m     y_hat \u001B[38;5;241m=\u001B[39m \u001B[38;5;28;43mself\u001B[39;49m\u001B[38;5;241;43m.\u001B[39;49m\u001B[43mforward\u001B[49m\u001B[43m(\u001B[49m\u001B[43mbatch\u001B[49m\u001B[43m)\u001B[49m \u001B[38;5;66;03m# 960\u001B[39;00m\n\u001B[1;32m    159\u001B[0m     loss \u001B[38;5;241m=\u001B[39m \u001B[38;5;28mself\u001B[39m\u001B[38;5;241m.\u001B[39mloss_fn\u001B[38;5;241m.\u001B[39mcrps(mu_sigma\u001B[38;5;241m=\u001B[39my_hat, y\u001B[38;5;241m=\u001B[39mbatch\u001B[38;5;241m.\u001B[39my)\n",
      "Cell \u001B[0;32mIn[97], line 152\u001B[0m, in \u001B[0;36mMultigraph1.forward\u001B[0;34m(self, data)\u001B[0m\n\u001B[1;32m    151\u001B[0m x \u001B[38;5;241m=\u001B[39m \u001B[38;5;28mself\u001B[39m\u001B[38;5;241m.\u001B[39mencoder(x) \u001B[38;5;66;03m# [960, 84]\u001B[39;00m\n\u001B[0;32m--> 152\u001B[0m x \u001B[38;5;241m=\u001B[39m \u001B[38;5;28;43mself\u001B[39;49m\u001B[38;5;241;43m.\u001B[39;49m\u001B[43mconv\u001B[49m\u001B[43m(\u001B[49m\u001B[43mx\u001B[49m\u001B[43m,\u001B[49m\u001B[43m \u001B[49m\u001B[43medge_index\u001B[49m\u001B[43m,\u001B[49m\u001B[43m \u001B[49m\u001B[43medge_attr\u001B[49m\u001B[43m)\u001B[49m \u001B[38;5;66;03m# [960, 265]\u001B[39;00m\n\u001B[1;32m    153\u001B[0m x \u001B[38;5;241m=\u001B[39m \u001B[38;5;28mself\u001B[39m\u001B[38;5;241m.\u001B[39maggr(x, node_idx) \u001B[38;5;66;03m# [960, 2]\u001B[39;00m\n",
      "File \u001B[0;32m~/.conda/envs/gnn_env4/lib/python3.10/site-packages/torch/nn/modules/module.py:1553\u001B[0m, in \u001B[0;36mModule._wrapped_call_impl\u001B[0;34m(self, *args, **kwargs)\u001B[0m\n\u001B[1;32m   1552\u001B[0m \u001B[38;5;28;01melse\u001B[39;00m:\n\u001B[0;32m-> 1553\u001B[0m     \u001B[38;5;28;01mreturn\u001B[39;00m \u001B[38;5;28;43mself\u001B[39;49m\u001B[38;5;241;43m.\u001B[39;49m\u001B[43m_call_impl\u001B[49m\u001B[43m(\u001B[49m\u001B[38;5;241;43m*\u001B[39;49m\u001B[43margs\u001B[49m\u001B[43m,\u001B[49m\u001B[43m \u001B[49m\u001B[38;5;241;43m*\u001B[39;49m\u001B[38;5;241;43m*\u001B[39;49m\u001B[43mkwargs\u001B[49m\u001B[43m)\u001B[49m\n",
      "File \u001B[0;32m~/.conda/envs/gnn_env4/lib/python3.10/site-packages/torch/nn/modules/module.py:1562\u001B[0m, in \u001B[0;36mModule._call_impl\u001B[0;34m(self, *args, **kwargs)\u001B[0m\n\u001B[1;32m   1559\u001B[0m \u001B[38;5;28;01mif\u001B[39;00m \u001B[38;5;129;01mnot\u001B[39;00m (\u001B[38;5;28mself\u001B[39m\u001B[38;5;241m.\u001B[39m_backward_hooks \u001B[38;5;129;01mor\u001B[39;00m \u001B[38;5;28mself\u001B[39m\u001B[38;5;241m.\u001B[39m_backward_pre_hooks \u001B[38;5;129;01mor\u001B[39;00m \u001B[38;5;28mself\u001B[39m\u001B[38;5;241m.\u001B[39m_forward_hooks \u001B[38;5;129;01mor\u001B[39;00m \u001B[38;5;28mself\u001B[39m\u001B[38;5;241m.\u001B[39m_forward_pre_hooks\n\u001B[1;32m   1560\u001B[0m         \u001B[38;5;129;01mor\u001B[39;00m _global_backward_pre_hooks \u001B[38;5;129;01mor\u001B[39;00m _global_backward_hooks\n\u001B[1;32m   1561\u001B[0m         \u001B[38;5;129;01mor\u001B[39;00m _global_forward_hooks \u001B[38;5;129;01mor\u001B[39;00m _global_forward_pre_hooks):\n\u001B[0;32m-> 1562\u001B[0m     \u001B[38;5;28;01mreturn\u001B[39;00m \u001B[43mforward_call\u001B[49m\u001B[43m(\u001B[49m\u001B[38;5;241;43m*\u001B[39;49m\u001B[43margs\u001B[49m\u001B[43m,\u001B[49m\u001B[43m \u001B[49m\u001B[38;5;241;43m*\u001B[39;49m\u001B[38;5;241;43m*\u001B[39;49m\u001B[43mkwargs\u001B[49m\u001B[43m)\u001B[49m\n\u001B[1;32m   1564\u001B[0m \u001B[38;5;28;01mtry\u001B[39;00m:\n",
      "Cell \u001B[0;32mIn[97], line 56\u001B[0m, in \u001B[0;36mResGnn.forward\u001B[0;34m(self, x, edge_index, edge_attr)\u001B[0m\n\u001B[1;32m     55\u001B[0m     \u001B[38;5;28;01melse\u001B[39;00m:\n\u001B[0;32m---> 56\u001B[0m         x \u001B[38;5;241m=\u001B[39m x \u001B[38;5;241m+\u001B[39m \u001B[38;5;28mself\u001B[39m\u001B[38;5;241m.\u001B[39mrelu(\u001B[43mconv\u001B[49m\u001B[43m(\u001B[49m\u001B[43mx\u001B[49m\u001B[43m,\u001B[49m\u001B[43m \u001B[49m\u001B[43medge_index\u001B[49m\u001B[43m,\u001B[49m\u001B[43m \u001B[49m\u001B[43medge_attr\u001B[49m\u001B[43m)\u001B[49m)  \u001B[38;5;66;03m# Residual Layers\u001B[39;00m\n\u001B[1;32m     58\u001B[0m x \u001B[38;5;241m=\u001B[39m \u001B[38;5;28mself\u001B[39m\u001B[38;5;241m.\u001B[39mlin(x)\n",
      "File \u001B[0;32m~/.conda/envs/gnn_env4/lib/python3.10/site-packages/torch/nn/modules/module.py:1553\u001B[0m, in \u001B[0;36mModule._wrapped_call_impl\u001B[0;34m(self, *args, **kwargs)\u001B[0m\n\u001B[1;32m   1552\u001B[0m \u001B[38;5;28;01melse\u001B[39;00m:\n\u001B[0;32m-> 1553\u001B[0m     \u001B[38;5;28;01mreturn\u001B[39;00m \u001B[38;5;28;43mself\u001B[39;49m\u001B[38;5;241;43m.\u001B[39;49m\u001B[43m_call_impl\u001B[49m\u001B[43m(\u001B[49m\u001B[38;5;241;43m*\u001B[39;49m\u001B[43margs\u001B[49m\u001B[43m,\u001B[49m\u001B[43m \u001B[49m\u001B[38;5;241;43m*\u001B[39;49m\u001B[38;5;241;43m*\u001B[39;49m\u001B[43mkwargs\u001B[49m\u001B[43m)\u001B[49m\n",
      "File \u001B[0;32m~/.conda/envs/gnn_env4/lib/python3.10/site-packages/torch/nn/modules/module.py:1562\u001B[0m, in \u001B[0;36mModule._call_impl\u001B[0;34m(self, *args, **kwargs)\u001B[0m\n\u001B[1;32m   1559\u001B[0m \u001B[38;5;28;01mif\u001B[39;00m \u001B[38;5;129;01mnot\u001B[39;00m (\u001B[38;5;28mself\u001B[39m\u001B[38;5;241m.\u001B[39m_backward_hooks \u001B[38;5;129;01mor\u001B[39;00m \u001B[38;5;28mself\u001B[39m\u001B[38;5;241m.\u001B[39m_backward_pre_hooks \u001B[38;5;129;01mor\u001B[39;00m \u001B[38;5;28mself\u001B[39m\u001B[38;5;241m.\u001B[39m_forward_hooks \u001B[38;5;129;01mor\u001B[39;00m \u001B[38;5;28mself\u001B[39m\u001B[38;5;241m.\u001B[39m_forward_pre_hooks\n\u001B[1;32m   1560\u001B[0m         \u001B[38;5;129;01mor\u001B[39;00m _global_backward_pre_hooks \u001B[38;5;129;01mor\u001B[39;00m _global_backward_hooks\n\u001B[1;32m   1561\u001B[0m         \u001B[38;5;129;01mor\u001B[39;00m _global_forward_hooks \u001B[38;5;129;01mor\u001B[39;00m _global_forward_pre_hooks):\n\u001B[0;32m-> 1562\u001B[0m     \u001B[38;5;28;01mreturn\u001B[39;00m \u001B[43mforward_call\u001B[49m\u001B[43m(\u001B[49m\u001B[38;5;241;43m*\u001B[39;49m\u001B[43margs\u001B[49m\u001B[43m,\u001B[49m\u001B[43m \u001B[49m\u001B[38;5;241;43m*\u001B[39;49m\u001B[38;5;241;43m*\u001B[39;49m\u001B[43mkwargs\u001B[49m\u001B[43m)\u001B[49m\n\u001B[1;32m   1564\u001B[0m \u001B[38;5;28;01mtry\u001B[39;00m:\n",
      "File \u001B[0;32m~/.conda/envs/gnn_env4/lib/python3.10/site-packages/torch_geometric/nn/conv/gatv2_conv.py:325\u001B[0m, in \u001B[0;36mGATv2Conv.forward\u001B[0;34m(self, x, edge_index, edge_attr, return_attention_weights)\u001B[0m\n\u001B[1;32m    324\u001B[0m \u001B[38;5;66;03m# edge_updater_type: (x: PairTensor, edge_attr: OptTensor)\u001B[39;00m\n\u001B[0;32m--> 325\u001B[0m alpha \u001B[38;5;241m=\u001B[39m \u001B[38;5;28;43mself\u001B[39;49m\u001B[38;5;241;43m.\u001B[39;49m\u001B[43medge_updater\u001B[49m\u001B[43m(\u001B[49m\u001B[43medge_index\u001B[49m\u001B[43m,\u001B[49m\u001B[43m \u001B[49m\u001B[43mx\u001B[49m\u001B[38;5;241;43m=\u001B[39;49m\u001B[43m(\u001B[49m\u001B[43mx_l\u001B[49m\u001B[43m,\u001B[49m\u001B[43m \u001B[49m\u001B[43mx_r\u001B[49m\u001B[43m)\u001B[49m\u001B[43m,\u001B[49m\n\u001B[1;32m    326\u001B[0m \u001B[43m                          \u001B[49m\u001B[43medge_attr\u001B[49m\u001B[38;5;241;43m=\u001B[39;49m\u001B[43medge_attr\u001B[49m\u001B[43m)\u001B[49m\n\u001B[1;32m    328\u001B[0m \u001B[38;5;66;03m# propagate_type: (x: PairTensor, alpha: Tensor)\u001B[39;00m\n",
      "File \u001B[0;32m/tmp/torch_geometric.nn.conv.gatv2_conv_GATv2Conv_edge_updater_vnbkltgq.py:176\u001B[0m, in \u001B[0;36medge_updater\u001B[0;34m(self, edge_index, x, edge_attr, size)\u001B[0m\n\u001B[1;32m    174\u001B[0m \u001B[38;5;66;03m# End Edge Update Forward Pre Hook #########################################\u001B[39;00m\n\u001B[0;32m--> 176\u001B[0m out \u001B[38;5;241m=\u001B[39m \u001B[38;5;28;43mself\u001B[39;49m\u001B[38;5;241;43m.\u001B[39;49m\u001B[43medge_update\u001B[49m\u001B[43m(\u001B[49m\n\u001B[1;32m    177\u001B[0m \u001B[43m    \u001B[49m\u001B[43mx_j\u001B[49m\u001B[38;5;241;43m=\u001B[39;49m\u001B[43mkwargs\u001B[49m\u001B[38;5;241;43m.\u001B[39;49m\u001B[43mx_j\u001B[49m\u001B[43m,\u001B[49m\n\u001B[1;32m    178\u001B[0m \u001B[43m    \u001B[49m\u001B[43mx_i\u001B[49m\u001B[38;5;241;43m=\u001B[39;49m\u001B[43mkwargs\u001B[49m\u001B[38;5;241;43m.\u001B[39;49m\u001B[43mx_i\u001B[49m\u001B[43m,\u001B[49m\n\u001B[1;32m    179\u001B[0m \u001B[43m    \u001B[49m\u001B[43medge_attr\u001B[49m\u001B[38;5;241;43m=\u001B[39;49m\u001B[43mkwargs\u001B[49m\u001B[38;5;241;43m.\u001B[39;49m\u001B[43medge_attr\u001B[49m\u001B[43m,\u001B[49m\n\u001B[1;32m    180\u001B[0m \u001B[43m    \u001B[49m\u001B[43mindex\u001B[49m\u001B[38;5;241;43m=\u001B[39;49m\u001B[43mkwargs\u001B[49m\u001B[38;5;241;43m.\u001B[39;49m\u001B[43mindex\u001B[49m\u001B[43m,\u001B[49m\n\u001B[1;32m    181\u001B[0m \u001B[43m    \u001B[49m\u001B[43mptr\u001B[49m\u001B[38;5;241;43m=\u001B[39;49m\u001B[43mkwargs\u001B[49m\u001B[38;5;241;43m.\u001B[39;49m\u001B[43mptr\u001B[49m\u001B[43m,\u001B[49m\n\u001B[1;32m    182\u001B[0m \u001B[43m    \u001B[49m\u001B[43mdim_size\u001B[49m\u001B[38;5;241;43m=\u001B[39;49m\u001B[43mkwargs\u001B[49m\u001B[38;5;241;43m.\u001B[39;49m\u001B[43mdim_size\u001B[49m\u001B[43m,\u001B[49m\n\u001B[1;32m    183\u001B[0m \u001B[43m\u001B[49m\u001B[43m)\u001B[49m\n\u001B[1;32m    185\u001B[0m \u001B[38;5;66;03m# Begin Edge Update Forward Hook ###########################################\u001B[39;00m\n",
      "File \u001B[0;32m~/.conda/envs/gnn_env4/lib/python3.10/site-packages/torch_geometric/nn/conv/gatv2_conv.py:364\u001B[0m, in \u001B[0;36mGATv2Conv.edge_update\u001B[0;34m(self, x_j, x_i, edge_attr, index, ptr, dim_size)\u001B[0m\n\u001B[1;32m    363\u001B[0m \u001B[38;5;28;01massert\u001B[39;00m \u001B[38;5;28mself\u001B[39m\u001B[38;5;241m.\u001B[39mlin_edge \u001B[38;5;129;01mis\u001B[39;00m \u001B[38;5;129;01mnot\u001B[39;00m \u001B[38;5;28;01mNone\u001B[39;00m\n\u001B[0;32m--> 364\u001B[0m edge_attr \u001B[38;5;241m=\u001B[39m \u001B[38;5;28;43mself\u001B[39;49m\u001B[38;5;241;43m.\u001B[39;49m\u001B[43mlin_edge\u001B[49m\u001B[43m(\u001B[49m\u001B[43medge_attr\u001B[49m\u001B[43m)\u001B[49m\n\u001B[1;32m    365\u001B[0m edge_attr \u001B[38;5;241m=\u001B[39m edge_attr\u001B[38;5;241m.\u001B[39mview(\u001B[38;5;241m-\u001B[39m\u001B[38;5;241m1\u001B[39m, \u001B[38;5;28mself\u001B[39m\u001B[38;5;241m.\u001B[39mheads, \u001B[38;5;28mself\u001B[39m\u001B[38;5;241m.\u001B[39mout_channels)\n",
      "File \u001B[0;32m~/.conda/envs/gnn_env4/lib/python3.10/site-packages/torch/nn/modules/module.py:1553\u001B[0m, in \u001B[0;36mModule._wrapped_call_impl\u001B[0;34m(self, *args, **kwargs)\u001B[0m\n\u001B[1;32m   1552\u001B[0m \u001B[38;5;28;01melse\u001B[39;00m:\n\u001B[0;32m-> 1553\u001B[0m     \u001B[38;5;28;01mreturn\u001B[39;00m \u001B[38;5;28;43mself\u001B[39;49m\u001B[38;5;241;43m.\u001B[39;49m\u001B[43m_call_impl\u001B[49m\u001B[43m(\u001B[49m\u001B[38;5;241;43m*\u001B[39;49m\u001B[43margs\u001B[49m\u001B[43m,\u001B[49m\u001B[43m \u001B[49m\u001B[38;5;241;43m*\u001B[39;49m\u001B[38;5;241;43m*\u001B[39;49m\u001B[43mkwargs\u001B[49m\u001B[43m)\u001B[49m\n",
      "File \u001B[0;32m~/.conda/envs/gnn_env4/lib/python3.10/site-packages/torch/nn/modules/module.py:1562\u001B[0m, in \u001B[0;36mModule._call_impl\u001B[0;34m(self, *args, **kwargs)\u001B[0m\n\u001B[1;32m   1559\u001B[0m \u001B[38;5;28;01mif\u001B[39;00m \u001B[38;5;129;01mnot\u001B[39;00m (\u001B[38;5;28mself\u001B[39m\u001B[38;5;241m.\u001B[39m_backward_hooks \u001B[38;5;129;01mor\u001B[39;00m \u001B[38;5;28mself\u001B[39m\u001B[38;5;241m.\u001B[39m_backward_pre_hooks \u001B[38;5;129;01mor\u001B[39;00m \u001B[38;5;28mself\u001B[39m\u001B[38;5;241m.\u001B[39m_forward_hooks \u001B[38;5;129;01mor\u001B[39;00m \u001B[38;5;28mself\u001B[39m\u001B[38;5;241m.\u001B[39m_forward_pre_hooks\n\u001B[1;32m   1560\u001B[0m         \u001B[38;5;129;01mor\u001B[39;00m _global_backward_pre_hooks \u001B[38;5;129;01mor\u001B[39;00m _global_backward_hooks\n\u001B[1;32m   1561\u001B[0m         \u001B[38;5;129;01mor\u001B[39;00m _global_forward_hooks \u001B[38;5;129;01mor\u001B[39;00m _global_forward_pre_hooks):\n\u001B[0;32m-> 1562\u001B[0m     \u001B[38;5;28;01mreturn\u001B[39;00m \u001B[43mforward_call\u001B[49m\u001B[43m(\u001B[49m\u001B[38;5;241;43m*\u001B[39;49m\u001B[43margs\u001B[49m\u001B[43m,\u001B[49m\u001B[43m \u001B[49m\u001B[38;5;241;43m*\u001B[39;49m\u001B[38;5;241;43m*\u001B[39;49m\u001B[43mkwargs\u001B[49m\u001B[43m)\u001B[49m\n\u001B[1;32m   1564\u001B[0m \u001B[38;5;28;01mtry\u001B[39;00m:\n",
      "File \u001B[0;32m~/.conda/envs/gnn_env4/lib/python3.10/site-packages/torch_geometric/nn/dense/linear.py:147\u001B[0m, in \u001B[0;36mLinear.forward\u001B[0;34m(self, x)\u001B[0m\n\u001B[1;32m    142\u001B[0m \u001B[38;5;250m\u001B[39m\u001B[38;5;124mr\u001B[39m\u001B[38;5;124;03m\"\"\"Forward pass.\u001B[39;00m\n\u001B[1;32m    143\u001B[0m \n\u001B[1;32m    144\u001B[0m \u001B[38;5;124;03mArgs:\u001B[39;00m\n\u001B[1;32m    145\u001B[0m \u001B[38;5;124;03m    x (torch.Tensor): The input features.\u001B[39;00m\n\u001B[1;32m    146\u001B[0m \u001B[38;5;124;03m\"\"\"\u001B[39;00m\n\u001B[0;32m--> 147\u001B[0m \u001B[38;5;28;01mreturn\u001B[39;00m \u001B[43mF\u001B[49m\u001B[38;5;241;43m.\u001B[39;49m\u001B[43mlinear\u001B[49m\u001B[43m(\u001B[49m\u001B[43mx\u001B[49m\u001B[43m,\u001B[49m\u001B[43m \u001B[49m\u001B[38;5;28;43mself\u001B[39;49m\u001B[38;5;241;43m.\u001B[39;49m\u001B[43mweight\u001B[49m\u001B[43m,\u001B[49m\u001B[43m \u001B[49m\u001B[38;5;28;43mself\u001B[39;49m\u001B[38;5;241;43m.\u001B[39;49m\u001B[43mbias\u001B[49m\u001B[43m)\u001B[49m\n",
      "\u001B[0;31mKeyboardInterrupt\u001B[0m: ",
      "\nDuring handling of the above exception, another exception occurred:\n",
      "\u001B[0;31mNameError\u001B[0m                                 Traceback (most recent call last)",
      "Cell \u001B[0;32mIn[98], line 46\u001B[0m\n\u001B[1;32m     35\u001B[0m \u001B[38;5;66;03m# print(\"[INFO] Training model...\")\u001B[39;00m\n\u001B[1;32m     36\u001B[0m trainer \u001B[38;5;241m=\u001B[39m L\u001B[38;5;241m.\u001B[39mTrainer(\n\u001B[1;32m     37\u001B[0m     max_epochs\u001B[38;5;241m=\u001B[39mmax_epochs,\n\u001B[1;32m     38\u001B[0m     log_every_n_steps\u001B[38;5;241m=\u001B[39m\u001B[38;5;241m1\u001B[39m,\n\u001B[0;32m   (...)\u001B[0m\n\u001B[1;32m     43\u001B[0m     callbacks\u001B[38;5;241m=\u001B[39mcheckpoint_callback,\n\u001B[1;32m     44\u001B[0m )\n\u001B[0;32m---> 46\u001B[0m \u001B[43mtrainer\u001B[49m\u001B[38;5;241;43m.\u001B[39;49m\u001B[43mfit\u001B[49m\u001B[43m(\u001B[49m\u001B[43mmodel\u001B[49m\u001B[38;5;241;43m=\u001B[39;49m\u001B[43mmultigraph\u001B[49m\u001B[43m,\u001B[49m\u001B[43m \u001B[49m\u001B[43mtrain_dataloaders\u001B[49m\u001B[38;5;241;43m=\u001B[39;49m\u001B[43mtrain_loader\u001B[49m\u001B[43m)\u001B[49m\n",
      "File \u001B[0;32m~/.conda/envs/gnn_env4/lib/python3.10/site-packages/pytorch_lightning/trainer/trainer.py:538\u001B[0m, in \u001B[0;36mTrainer.fit\u001B[0;34m(self, model, train_dataloaders, val_dataloaders, datamodule, ckpt_path)\u001B[0m\n\u001B[1;32m    536\u001B[0m \u001B[38;5;28mself\u001B[39m\u001B[38;5;241m.\u001B[39mstate\u001B[38;5;241m.\u001B[39mstatus \u001B[38;5;241m=\u001B[39m TrainerStatus\u001B[38;5;241m.\u001B[39mRUNNING\n\u001B[1;32m    537\u001B[0m \u001B[38;5;28mself\u001B[39m\u001B[38;5;241m.\u001B[39mtraining \u001B[38;5;241m=\u001B[39m \u001B[38;5;28;01mTrue\u001B[39;00m\n\u001B[0;32m--> 538\u001B[0m \u001B[43mcall\u001B[49m\u001B[38;5;241;43m.\u001B[39;49m\u001B[43m_call_and_handle_interrupt\u001B[49m\u001B[43m(\u001B[49m\n\u001B[1;32m    539\u001B[0m \u001B[43m    \u001B[49m\u001B[38;5;28;43mself\u001B[39;49m\u001B[43m,\u001B[49m\u001B[43m \u001B[49m\u001B[38;5;28;43mself\u001B[39;49m\u001B[38;5;241;43m.\u001B[39;49m\u001B[43m_fit_impl\u001B[49m\u001B[43m,\u001B[49m\u001B[43m \u001B[49m\u001B[43mmodel\u001B[49m\u001B[43m,\u001B[49m\u001B[43m \u001B[49m\u001B[43mtrain_dataloaders\u001B[49m\u001B[43m,\u001B[49m\u001B[43m \u001B[49m\u001B[43mval_dataloaders\u001B[49m\u001B[43m,\u001B[49m\u001B[43m \u001B[49m\u001B[43mdatamodule\u001B[49m\u001B[43m,\u001B[49m\u001B[43m \u001B[49m\u001B[43mckpt_path\u001B[49m\n\u001B[1;32m    540\u001B[0m \u001B[43m\u001B[49m\u001B[43m)\u001B[49m\n",
      "File \u001B[0;32m~/.conda/envs/gnn_env4/lib/python3.10/site-packages/pytorch_lightning/trainer/call.py:64\u001B[0m, in \u001B[0;36m_call_and_handle_interrupt\u001B[0;34m(trainer, trainer_fn, *args, **kwargs)\u001B[0m\n\u001B[1;32m     62\u001B[0m     \u001B[38;5;28;01mif\u001B[39;00m \u001B[38;5;28misinstance\u001B[39m(launcher, _SubprocessScriptLauncher):\n\u001B[1;32m     63\u001B[0m         launcher\u001B[38;5;241m.\u001B[39mkill(_get_sigkill_signal())\n\u001B[0;32m---> 64\u001B[0m     \u001B[43mexit\u001B[49m(\u001B[38;5;241m1\u001B[39m)\n\u001B[1;32m     66\u001B[0m \u001B[38;5;28;01mexcept\u001B[39;00m \u001B[38;5;167;01mBaseException\u001B[39;00m \u001B[38;5;28;01mas\u001B[39;00m exception:\n\u001B[1;32m     67\u001B[0m     _interrupt(trainer, exception)\n",
      "\u001B[0;31mNameError\u001B[0m: name 'exit' is not defined"
     ]
    }
   ],
   "execution_count": 98
  },
  {
   "metadata": {
    "ExecuteTime": {
     "end_time": "2025-04-24T01:17:23.038840Z",
     "start_time": "2025-04-24T01:17:23.033497Z"
    }
   },
   "cell_type": "code",
   "source": "print(6840/8)",
   "id": "d93f576251ce0a9b",
   "outputs": [
    {
     "name": "stdout",
     "output_type": "stream",
     "text": [
      "855.0\n"
     ]
    }
   ],
   "execution_count": 44
  },
  {
   "metadata": {
    "ExecuteTime": {
     "end_time": "2025-04-23T22:31:41.651589Z",
     "start_time": "2025-04-23T22:31:41.647440Z"
    }
   },
   "cell_type": "code",
   "source": "graphs_valid_rf, graphs_test_rf, graphs_test_f = valid_tests",
   "id": "c40760c12d9a6cfb",
   "outputs": [],
   "execution_count": 11
  },
  {
   "metadata": {
    "ExecuteTime": {
     "end_time": "2025-04-23T22:47:20.216750Z",
     "start_time": "2025-04-23T22:47:20.209276Z"
    }
   },
   "cell_type": "code",
   "source": "graphs_valid_rf[0].y.shape",
   "id": "768b44d21808fb3a",
   "outputs": [
    {
     "data": {
      "text/plain": [
       "torch.Size([120])"
      ]
     },
     "execution_count": 21,
     "metadata": {},
     "output_type": "execute_result"
    }
   ],
   "execution_count": 21
  },
  {
   "metadata": {
    "ExecuteTime": {
     "end_time": "2025-04-23T22:31:05.886430Z",
     "start_time": "2025-04-23T22:31:05.866729Z"
    }
   },
   "cell_type": "code",
   "source": "dataframes['test_rf'][1][dataframes['test_rf'][1]['station_id'] == 63]",
   "id": "4d9c27a1851fa2a0",
   "outputs": [
    {
     "data": {
      "text/plain": [
       "            time  station_id     t2m\n",
       "63    2014-01-01          63  272.05\n",
       "183   2014-01-02          63  271.25\n",
       "303   2014-01-04          63  273.65\n",
       "423   2014-01-05          63  272.05\n",
       "543   2014-01-08          63  272.95\n",
       "...          ...         ...     ...\n",
       "87303 2017-12-17          63  267.35\n",
       "87423 2017-12-20          63  272.15\n",
       "87543 2017-12-24          63  273.35\n",
       "87663 2017-12-27          63  273.85\n",
       "87783 2017-12-31          63  275.65\n",
       "\n",
       "[732 rows x 3 columns]"
      ],
      "text/html": [
       "<div>\n",
       "<style scoped>\n",
       "    .dataframe tbody tr th:only-of-type {\n",
       "        vertical-align: middle;\n",
       "    }\n",
       "\n",
       "    .dataframe tbody tr th {\n",
       "        vertical-align: top;\n",
       "    }\n",
       "\n",
       "    .dataframe thead th {\n",
       "        text-align: right;\n",
       "    }\n",
       "</style>\n",
       "<table border=\"1\" class=\"dataframe\">\n",
       "  <thead>\n",
       "    <tr style=\"text-align: right;\">\n",
       "      <th></th>\n",
       "      <th>time</th>\n",
       "      <th>station_id</th>\n",
       "      <th>t2m</th>\n",
       "    </tr>\n",
       "  </thead>\n",
       "  <tbody>\n",
       "    <tr>\n",
       "      <th>63</th>\n",
       "      <td>2014-01-01</td>\n",
       "      <td>63</td>\n",
       "      <td>272.05</td>\n",
       "    </tr>\n",
       "    <tr>\n",
       "      <th>183</th>\n",
       "      <td>2014-01-02</td>\n",
       "      <td>63</td>\n",
       "      <td>271.25</td>\n",
       "    </tr>\n",
       "    <tr>\n",
       "      <th>303</th>\n",
       "      <td>2014-01-04</td>\n",
       "      <td>63</td>\n",
       "      <td>273.65</td>\n",
       "    </tr>\n",
       "    <tr>\n",
       "      <th>423</th>\n",
       "      <td>2014-01-05</td>\n",
       "      <td>63</td>\n",
       "      <td>272.05</td>\n",
       "    </tr>\n",
       "    <tr>\n",
       "      <th>543</th>\n",
       "      <td>2014-01-08</td>\n",
       "      <td>63</td>\n",
       "      <td>272.95</td>\n",
       "    </tr>\n",
       "    <tr>\n",
       "      <th>...</th>\n",
       "      <td>...</td>\n",
       "      <td>...</td>\n",
       "      <td>...</td>\n",
       "    </tr>\n",
       "    <tr>\n",
       "      <th>87303</th>\n",
       "      <td>2017-12-17</td>\n",
       "      <td>63</td>\n",
       "      <td>267.35</td>\n",
       "    </tr>\n",
       "    <tr>\n",
       "      <th>87423</th>\n",
       "      <td>2017-12-20</td>\n",
       "      <td>63</td>\n",
       "      <td>272.15</td>\n",
       "    </tr>\n",
       "    <tr>\n",
       "      <th>87543</th>\n",
       "      <td>2017-12-24</td>\n",
       "      <td>63</td>\n",
       "      <td>273.35</td>\n",
       "    </tr>\n",
       "    <tr>\n",
       "      <th>87663</th>\n",
       "      <td>2017-12-27</td>\n",
       "      <td>63</td>\n",
       "      <td>273.85</td>\n",
       "    </tr>\n",
       "    <tr>\n",
       "      <th>87783</th>\n",
       "      <td>2017-12-31</td>\n",
       "      <td>63</td>\n",
       "      <td>275.65</td>\n",
       "    </tr>\n",
       "  </tbody>\n",
       "</table>\n",
       "<p>732 rows × 3 columns</p>\n",
       "</div>"
      ]
     },
     "execution_count": 9,
     "metadata": {},
     "output_type": "execute_result"
    }
   ],
   "execution_count": 9
  },
  {
   "metadata": {},
   "cell_type": "markdown",
   "source": [
    "### Check station nans\n",
    "Station_id was wrong so had to adjust data.py file to map the right station_id"
   ],
   "id": "8f3d6f6315ab2cee"
  },
  {
   "metadata": {},
   "cell_type": "code",
   "outputs": [],
   "execution_count": null,
   "source": [
    "ZARRDATAFOLDER = '/mnt/sda/Data2/gnnpp-data/EUPPBench-stations/'\n",
    "xr_train = xr.open_zarr(f'{ZARRDATAFOLDER}train.zarr')\n",
    "xr_train = xr_train.sel(step=\"24h\").drop_vars([\"step\"])\n",
    "xr_train = xr_train.drop_vars(\n",
    "    [\"model_altitude\", \"model_land_usage\", \"model_latitude\", \"model_longitude\", \"station_land_usage\"]\n",
    ")\n",
    "df_train = (\n",
    "    xr_train.to_dataframe()\n",
    "    .reorder_levels([\"time\", \"number\", \"station_id\"])\n",
    "    .sort_index(level=[\"time\", \"number\", \"station_id\"])\n",
    "    .reset_index()\n",
    ")\n",
    "\n",
    "station_ids = df_train.station_id.unique()\n",
    "id_to_index = {station_id: i for i, station_id in enumerate(station_ids)}\n",
    "\n",
    "df_train[\"station_id\"] = df_train[\"station_id\"].apply(lambda x: id_to_index[x])"
   ],
   "id": "2866f2226d81d394"
  },
  {
   "metadata": {},
   "cell_type": "code",
   "outputs": [],
   "execution_count": null,
   "source": "df_train",
   "id": "39913fcfe982940e"
  },
  {
   "metadata": {},
   "cell_type": "code",
   "outputs": [],
   "execution_count": null,
   "source": [
    "# check station_df\n",
    "def get_stations(arr: xr.Dataset) -> pd.DataFrame:\n",
    "    \"\"\"\n",
    "    Get the stations information from the dataset.\n",
    "\n",
    "    Args:\n",
    "        arr (xarray.Dataset): The dataset containing station information.\n",
    "\n",
    "    Returns:\n",
    "        pd.DataFrame: The dataframe containing station information.\n",
    "    \"\"\"\n",
    "    stations = pd.DataFrame(\n",
    "        {\n",
    "            \"station_id\": arr.station_id.values,\n",
    "            \"lat\": arr.station_latitude.values,\n",
    "            \"lon\": arr.station_longitude.values,\n",
    "            \"altitude\": arr.station_altitude.values,\n",
    "            \"orog\": arr.model_orography.values,\n",
    "            \"name\": arr.station_name.values,\n",
    "        }\n",
    "    )\n",
    "\n",
    "    stations = stations.sort_values(\"station_id\").reset_index(drop=True)\n",
    "    print(\"test\")\n",
    "    return stations"
   ],
   "id": "b2578608ecb9c546"
  },
  {
   "metadata": {},
   "cell_type": "code",
   "outputs": [],
   "execution_count": null,
   "source": [
    "ZARRDATAFOLDER = '/mnt/sda/Data2/gnnpp-data/EUPPBench-stations/'\n",
    "xr_train = xr.open_zarr(f'{ZARRDATAFOLDER}train.zarr')\n",
    "stations_train = get_stations(xr_train)\n",
    "stations_train['station_id'] = stations_train['station_id'].apply(lambda x: id_to_index[x])\n",
    "\n",
    "xr_forecasts = xr.open_zarr(f'{ZARRDATAFOLDER}test_f.zarr')\n",
    "stations_f = get_stations(xr_forecasts)\n",
    "stations_f['station_id'] = stations_f['station_id'].apply(lambda x: id_to_index[x])"
   ],
   "id": "3ed967c4ef2dc9ca"
  },
  {
   "metadata": {},
   "cell_type": "code",
   "outputs": [],
   "execution_count": null,
   "source": [
    "# test1 = (stations_f.station_id == stations_rf.station_id).all()\n",
    "# test2 = (stations_train.station_id == stations_rf.station_id).all()\n",
    "test3 = (stations_f.station_id == stations_train.station_id).all()\n",
    "test3"
   ],
   "id": "f9e1bf547fc12c8d"
  },
  {
   "metadata": {},
   "cell_type": "code",
   "outputs": [],
   "execution_count": null,
   "source": [
    "dataframes['stations'] = dataframes['stations'][~dataframes['stations']['station_id'].isin([64, 72])]\n",
    "# dataframes['stations'].station_id.nunique()\n",
    "# dataframes['train']\n",
    "dataframes['test_rf'][0].station_id.unique()\n",
    "# dataframes['test_rf']\n",
    "# dataframes['test_f']\n",
    "# dataframes['stations']"
   ],
   "id": "582c0cdeaba94429"
  }
 ],
 "metadata": {
  "kernelspec": {
   "display_name": "Python 3",
   "language": "python",
   "name": "python3"
  },
  "language_info": {
   "codemirror_mode": {
    "name": "ipython",
    "version": 2
   },
   "file_extension": ".py",
   "mimetype": "text/x-python",
   "name": "python",
   "nbconvert_exporter": "python",
   "pygments_lexer": "ipython2",
   "version": "2.7.6"
  }
 },
 "nbformat": 4,
 "nbformat_minor": 5
}
